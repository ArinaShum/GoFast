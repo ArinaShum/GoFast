{
 "cells": [
  {
   "cell_type": "markdown",
   "id": "82b2dc98",
   "metadata": {},
   "source": [
    "# Сервис аренды самокатов GoFast"
   ]
  },
  {
   "cell_type": "markdown",
   "id": "4006bccd",
   "metadata": {},
   "source": [
    "**Пути к файлам:**\n",
    "\n",
    "users = `/datasets/users_go.csv`. [Скачать датасет](https://code.s3.yandex.net/datasets/users_go.csv);\n",
    "\n",
    "rides = `/datasets/rides_go.csv`. [Скачать датасет](https://code.s3.yandex.net/datasets/rides_go.csv);\n",
    "\n",
    "subscriptions = `/datasets/subscriptions_go.csv`. [Скачать датасет](https://code.s3.yandex.net/datasets/subscriptions_go.csv)"
   ]
  },
  {
   "cell_type": "code",
   "execution_count": 52,
   "id": "ca96f7c4",
   "metadata": {},
   "outputs": [],
   "source": [
    "import pandas as pd\n",
    "import matplotlib.pyplot as plt\n",
    "from scipy import stats as st\n",
    "import numpy as np"
   ]
  },
  {
   "cell_type": "markdown",
   "id": "d05f21a3",
   "metadata": {},
   "source": [
    "#### Шаг 1. Загрузка данных"
   ]
  },
  {
   "cell_type": "code",
   "execution_count": 53,
   "id": "04396f69",
   "metadata": {},
   "outputs": [],
   "source": [
    "users = pd.read_csv('/datasets/users_go.csv')\n",
    "rides = pd.read_csv('/datasets/rides_go.csv')\n",
    "subscriptions = pd.read_csv('/datasets/subscriptions_go.csv')"
   ]
  },
  {
   "cell_type": "code",
   "execution_count": 54,
   "id": "33292044",
   "metadata": {},
   "outputs": [
    {
     "data": {
      "text/html": [
       "<div>\n",
       "<style scoped>\n",
       "    .dataframe tbody tr th:only-of-type {\n",
       "        vertical-align: middle;\n",
       "    }\n",
       "\n",
       "    .dataframe tbody tr th {\n",
       "        vertical-align: top;\n",
       "    }\n",
       "\n",
       "    .dataframe thead th {\n",
       "        text-align: right;\n",
       "    }\n",
       "</style>\n",
       "<table border=\"1\" class=\"dataframe\">\n",
       "  <thead>\n",
       "    <tr style=\"text-align: right;\">\n",
       "      <th></th>\n",
       "      <th>user_id</th>\n",
       "      <th>name</th>\n",
       "      <th>age</th>\n",
       "      <th>city</th>\n",
       "      <th>subscription_type</th>\n",
       "    </tr>\n",
       "  </thead>\n",
       "  <tbody>\n",
       "    <tr>\n",
       "      <th>0</th>\n",
       "      <td>1</td>\n",
       "      <td>Кира</td>\n",
       "      <td>22</td>\n",
       "      <td>Тюмень</td>\n",
       "      <td>ultra</td>\n",
       "    </tr>\n",
       "    <tr>\n",
       "      <th>1</th>\n",
       "      <td>2</td>\n",
       "      <td>Станислав</td>\n",
       "      <td>31</td>\n",
       "      <td>Омск</td>\n",
       "      <td>ultra</td>\n",
       "    </tr>\n",
       "    <tr>\n",
       "      <th>2</th>\n",
       "      <td>3</td>\n",
       "      <td>Алексей</td>\n",
       "      <td>20</td>\n",
       "      <td>Москва</td>\n",
       "      <td>ultra</td>\n",
       "    </tr>\n",
       "    <tr>\n",
       "      <th>3</th>\n",
       "      <td>4</td>\n",
       "      <td>Константин</td>\n",
       "      <td>26</td>\n",
       "      <td>Ростов-на-Дону</td>\n",
       "      <td>ultra</td>\n",
       "    </tr>\n",
       "    <tr>\n",
       "      <th>4</th>\n",
       "      <td>5</td>\n",
       "      <td>Адель</td>\n",
       "      <td>28</td>\n",
       "      <td>Омск</td>\n",
       "      <td>ultra</td>\n",
       "    </tr>\n",
       "  </tbody>\n",
       "</table>\n",
       "</div>"
      ],
      "text/plain": [
       "   user_id        name  age            city subscription_type\n",
       "0        1        Кира   22          Тюмень             ultra\n",
       "1        2   Станислав   31            Омск             ultra\n",
       "2        3     Алексей   20          Москва             ultra\n",
       "3        4  Константин   26  Ростов-на-Дону             ultra\n",
       "4        5       Адель   28            Омск             ultra"
      ]
     },
     "execution_count": 54,
     "metadata": {},
     "output_type": "execute_result"
    }
   ],
   "source": [
    "users.head()"
   ]
  },
  {
   "cell_type": "code",
   "execution_count": 55,
   "id": "9ccdd029",
   "metadata": {},
   "outputs": [
    {
     "data": {
      "text/html": [
       "<div>\n",
       "<style scoped>\n",
       "    .dataframe tbody tr th:only-of-type {\n",
       "        vertical-align: middle;\n",
       "    }\n",
       "\n",
       "    .dataframe tbody tr th {\n",
       "        vertical-align: top;\n",
       "    }\n",
       "\n",
       "    .dataframe thead th {\n",
       "        text-align: right;\n",
       "    }\n",
       "</style>\n",
       "<table border=\"1\" class=\"dataframe\">\n",
       "  <thead>\n",
       "    <tr style=\"text-align: right;\">\n",
       "      <th></th>\n",
       "      <th>user_id</th>\n",
       "      <th>distance</th>\n",
       "      <th>duration</th>\n",
       "      <th>date</th>\n",
       "    </tr>\n",
       "  </thead>\n",
       "  <tbody>\n",
       "    <tr>\n",
       "      <th>0</th>\n",
       "      <td>1</td>\n",
       "      <td>4409.919140</td>\n",
       "      <td>25.599769</td>\n",
       "      <td>2021-01-01</td>\n",
       "    </tr>\n",
       "    <tr>\n",
       "      <th>1</th>\n",
       "      <td>1</td>\n",
       "      <td>2617.592153</td>\n",
       "      <td>15.816871</td>\n",
       "      <td>2021-01-18</td>\n",
       "    </tr>\n",
       "    <tr>\n",
       "      <th>2</th>\n",
       "      <td>1</td>\n",
       "      <td>754.159807</td>\n",
       "      <td>6.232113</td>\n",
       "      <td>2021-04-20</td>\n",
       "    </tr>\n",
       "    <tr>\n",
       "      <th>3</th>\n",
       "      <td>1</td>\n",
       "      <td>2694.783254</td>\n",
       "      <td>18.511000</td>\n",
       "      <td>2021-08-11</td>\n",
       "    </tr>\n",
       "    <tr>\n",
       "      <th>4</th>\n",
       "      <td>1</td>\n",
       "      <td>4028.687306</td>\n",
       "      <td>26.265803</td>\n",
       "      <td>2021-08-28</td>\n",
       "    </tr>\n",
       "  </tbody>\n",
       "</table>\n",
       "</div>"
      ],
      "text/plain": [
       "   user_id     distance   duration        date\n",
       "0        1  4409.919140  25.599769  2021-01-01\n",
       "1        1  2617.592153  15.816871  2021-01-18\n",
       "2        1   754.159807   6.232113  2021-04-20\n",
       "3        1  2694.783254  18.511000  2021-08-11\n",
       "4        1  4028.687306  26.265803  2021-08-28"
      ]
     },
     "execution_count": 55,
     "metadata": {},
     "output_type": "execute_result"
    }
   ],
   "source": [
    "rides.head()"
   ]
  },
  {
   "cell_type": "code",
   "execution_count": 56,
   "id": "59d6906b",
   "metadata": {},
   "outputs": [
    {
     "data": {
      "text/html": [
       "<div>\n",
       "<style scoped>\n",
       "    .dataframe tbody tr th:only-of-type {\n",
       "        vertical-align: middle;\n",
       "    }\n",
       "\n",
       "    .dataframe tbody tr th {\n",
       "        vertical-align: top;\n",
       "    }\n",
       "\n",
       "    .dataframe thead th {\n",
       "        text-align: right;\n",
       "    }\n",
       "</style>\n",
       "<table border=\"1\" class=\"dataframe\">\n",
       "  <thead>\n",
       "    <tr style=\"text-align: right;\">\n",
       "      <th></th>\n",
       "      <th>subscription_type</th>\n",
       "      <th>minute_price</th>\n",
       "      <th>start_ride_price</th>\n",
       "      <th>subscription_fee</th>\n",
       "    </tr>\n",
       "  </thead>\n",
       "  <tbody>\n",
       "    <tr>\n",
       "      <th>0</th>\n",
       "      <td>free</td>\n",
       "      <td>8</td>\n",
       "      <td>50</td>\n",
       "      <td>0</td>\n",
       "    </tr>\n",
       "    <tr>\n",
       "      <th>1</th>\n",
       "      <td>ultra</td>\n",
       "      <td>6</td>\n",
       "      <td>0</td>\n",
       "      <td>199</td>\n",
       "    </tr>\n",
       "  </tbody>\n",
       "</table>\n",
       "</div>"
      ],
      "text/plain": [
       "  subscription_type  minute_price  start_ride_price  subscription_fee\n",
       "0              free             8                50                 0\n",
       "1             ultra             6                 0               199"
      ]
     },
     "execution_count": 56,
     "metadata": {},
     "output_type": "execute_result"
    }
   ],
   "source": [
    "subscriptions.head()"
   ]
  },
  {
   "cell_type": "code",
   "execution_count": 57,
   "id": "9eb12be1",
   "metadata": {},
   "outputs": [
    {
     "name": "stdout",
     "output_type": "stream",
     "text": [
      "<class 'pandas.core.frame.DataFrame'>\n",
      "RangeIndex: 1565 entries, 0 to 1564\n",
      "Data columns (total 5 columns):\n",
      " #   Column             Non-Null Count  Dtype \n",
      "---  ------             --------------  ----- \n",
      " 0   user_id            1565 non-null   int64 \n",
      " 1   name               1565 non-null   object\n",
      " 2   age                1565 non-null   int64 \n",
      " 3   city               1565 non-null   object\n",
      " 4   subscription_type  1565 non-null   object\n",
      "dtypes: int64(2), object(3)\n",
      "memory usage: 61.3+ KB\n"
     ]
    }
   ],
   "source": [
    "users.info()"
   ]
  },
  {
   "cell_type": "code",
   "execution_count": 58,
   "id": "8317890e",
   "metadata": {},
   "outputs": [
    {
     "name": "stdout",
     "output_type": "stream",
     "text": [
      "<class 'pandas.core.frame.DataFrame'>\n",
      "RangeIndex: 18068 entries, 0 to 18067\n",
      "Data columns (total 4 columns):\n",
      " #   Column    Non-Null Count  Dtype  \n",
      "---  ------    --------------  -----  \n",
      " 0   user_id   18068 non-null  int64  \n",
      " 1   distance  18068 non-null  float64\n",
      " 2   duration  18068 non-null  float64\n",
      " 3   date      18068 non-null  object \n",
      "dtypes: float64(2), int64(1), object(1)\n",
      "memory usage: 564.8+ KB\n"
     ]
    }
   ],
   "source": [
    "rides.info()"
   ]
  },
  {
   "cell_type": "code",
   "execution_count": 59,
   "id": "59da3bbb",
   "metadata": {},
   "outputs": [
    {
     "name": "stdout",
     "output_type": "stream",
     "text": [
      "<class 'pandas.core.frame.DataFrame'>\n",
      "RangeIndex: 2 entries, 0 to 1\n",
      "Data columns (total 4 columns):\n",
      " #   Column             Non-Null Count  Dtype \n",
      "---  ------             --------------  ----- \n",
      " 0   subscription_type  2 non-null      object\n",
      " 1   minute_price       2 non-null      int64 \n",
      " 2   start_ride_price   2 non-null      int64 \n",
      " 3   subscription_fee   2 non-null      int64 \n",
      "dtypes: int64(3), object(1)\n",
      "memory usage: 192.0+ bytes\n"
     ]
    }
   ],
   "source": [
    "subscriptions.info()"
   ]
  },
  {
   "cell_type": "code",
   "execution_count": 60,
   "id": "3049019d",
   "metadata": {},
   "outputs": [
    {
     "data": {
      "text/html": [
       "<div>\n",
       "<style scoped>\n",
       "    .dataframe tbody tr th:only-of-type {\n",
       "        vertical-align: middle;\n",
       "    }\n",
       "\n",
       "    .dataframe tbody tr th {\n",
       "        vertical-align: top;\n",
       "    }\n",
       "\n",
       "    .dataframe thead th {\n",
       "        text-align: right;\n",
       "    }\n",
       "</style>\n",
       "<table border=\"1\" class=\"dataframe\">\n",
       "  <thead>\n",
       "    <tr style=\"text-align: right;\">\n",
       "      <th></th>\n",
       "      <th>user_id</th>\n",
       "      <th>age</th>\n",
       "    </tr>\n",
       "  </thead>\n",
       "  <tbody>\n",
       "    <tr>\n",
       "      <th>count</th>\n",
       "      <td>1565.000000</td>\n",
       "      <td>1565.000000</td>\n",
       "    </tr>\n",
       "    <tr>\n",
       "      <th>mean</th>\n",
       "      <td>762.633866</td>\n",
       "      <td>24.922045</td>\n",
       "    </tr>\n",
       "    <tr>\n",
       "      <th>std</th>\n",
       "      <td>443.260155</td>\n",
       "      <td>4.553496</td>\n",
       "    </tr>\n",
       "    <tr>\n",
       "      <th>min</th>\n",
       "      <td>1.000000</td>\n",
       "      <td>12.000000</td>\n",
       "    </tr>\n",
       "    <tr>\n",
       "      <th>25%</th>\n",
       "      <td>378.000000</td>\n",
       "      <td>22.000000</td>\n",
       "    </tr>\n",
       "    <tr>\n",
       "      <th>50%</th>\n",
       "      <td>762.000000</td>\n",
       "      <td>25.000000</td>\n",
       "    </tr>\n",
       "    <tr>\n",
       "      <th>75%</th>\n",
       "      <td>1146.000000</td>\n",
       "      <td>28.000000</td>\n",
       "    </tr>\n",
       "    <tr>\n",
       "      <th>max</th>\n",
       "      <td>1534.000000</td>\n",
       "      <td>43.000000</td>\n",
       "    </tr>\n",
       "  </tbody>\n",
       "</table>\n",
       "</div>"
      ],
      "text/plain": [
       "           user_id          age\n",
       "count  1565.000000  1565.000000\n",
       "mean    762.633866    24.922045\n",
       "std     443.260155     4.553496\n",
       "min       1.000000    12.000000\n",
       "25%     378.000000    22.000000\n",
       "50%     762.000000    25.000000\n",
       "75%    1146.000000    28.000000\n",
       "max    1534.000000    43.000000"
      ]
     },
     "execution_count": 60,
     "metadata": {},
     "output_type": "execute_result"
    }
   ],
   "source": [
    "users.describe()"
   ]
  },
  {
   "cell_type": "code",
   "execution_count": 61,
   "id": "fd686880",
   "metadata": {},
   "outputs": [
    {
     "data": {
      "text/html": [
       "<div>\n",
       "<style scoped>\n",
       "    .dataframe tbody tr th:only-of-type {\n",
       "        vertical-align: middle;\n",
       "    }\n",
       "\n",
       "    .dataframe tbody tr th {\n",
       "        vertical-align: top;\n",
       "    }\n",
       "\n",
       "    .dataframe thead th {\n",
       "        text-align: right;\n",
       "    }\n",
       "</style>\n",
       "<table border=\"1\" class=\"dataframe\">\n",
       "  <thead>\n",
       "    <tr style=\"text-align: right;\">\n",
       "      <th></th>\n",
       "      <th>user_id</th>\n",
       "      <th>distance</th>\n",
       "      <th>duration</th>\n",
       "    </tr>\n",
       "  </thead>\n",
       "  <tbody>\n",
       "    <tr>\n",
       "      <th>count</th>\n",
       "      <td>18068.000000</td>\n",
       "      <td>18068.000000</td>\n",
       "      <td>18068.000000</td>\n",
       "    </tr>\n",
       "    <tr>\n",
       "      <th>mean</th>\n",
       "      <td>842.869936</td>\n",
       "      <td>3070.659976</td>\n",
       "      <td>17.805011</td>\n",
       "    </tr>\n",
       "    <tr>\n",
       "      <th>std</th>\n",
       "      <td>434.734317</td>\n",
       "      <td>1116.831209</td>\n",
       "      <td>6.091051</td>\n",
       "    </tr>\n",
       "    <tr>\n",
       "      <th>min</th>\n",
       "      <td>1.000000</td>\n",
       "      <td>0.855683</td>\n",
       "      <td>0.500000</td>\n",
       "    </tr>\n",
       "    <tr>\n",
       "      <th>25%</th>\n",
       "      <td>487.000000</td>\n",
       "      <td>2543.226360</td>\n",
       "      <td>13.597563</td>\n",
       "    </tr>\n",
       "    <tr>\n",
       "      <th>50%</th>\n",
       "      <td>889.000000</td>\n",
       "      <td>3133.609994</td>\n",
       "      <td>17.678395</td>\n",
       "    </tr>\n",
       "    <tr>\n",
       "      <th>75%</th>\n",
       "      <td>1213.250000</td>\n",
       "      <td>3776.222735</td>\n",
       "      <td>21.724800</td>\n",
       "    </tr>\n",
       "    <tr>\n",
       "      <th>max</th>\n",
       "      <td>1534.000000</td>\n",
       "      <td>7211.007745</td>\n",
       "      <td>40.823963</td>\n",
       "    </tr>\n",
       "  </tbody>\n",
       "</table>\n",
       "</div>"
      ],
      "text/plain": [
       "            user_id      distance      duration\n",
       "count  18068.000000  18068.000000  18068.000000\n",
       "mean     842.869936   3070.659976     17.805011\n",
       "std      434.734317   1116.831209      6.091051\n",
       "min        1.000000      0.855683      0.500000\n",
       "25%      487.000000   2543.226360     13.597563\n",
       "50%      889.000000   3133.609994     17.678395\n",
       "75%     1213.250000   3776.222735     21.724800\n",
       "max     1534.000000   7211.007745     40.823963"
      ]
     },
     "execution_count": 61,
     "metadata": {},
     "output_type": "execute_result"
    }
   ],
   "source": [
    "rides.describe()"
   ]
  },
  {
   "cell_type": "code",
   "execution_count": 62,
   "id": "5c6633bc",
   "metadata": {},
   "outputs": [
    {
     "data": {
      "text/html": [
       "<div>\n",
       "<style scoped>\n",
       "    .dataframe tbody tr th:only-of-type {\n",
       "        vertical-align: middle;\n",
       "    }\n",
       "\n",
       "    .dataframe tbody tr th {\n",
       "        vertical-align: top;\n",
       "    }\n",
       "\n",
       "    .dataframe thead th {\n",
       "        text-align: right;\n",
       "    }\n",
       "</style>\n",
       "<table border=\"1\" class=\"dataframe\">\n",
       "  <thead>\n",
       "    <tr style=\"text-align: right;\">\n",
       "      <th></th>\n",
       "      <th>minute_price</th>\n",
       "      <th>start_ride_price</th>\n",
       "      <th>subscription_fee</th>\n",
       "    </tr>\n",
       "  </thead>\n",
       "  <tbody>\n",
       "    <tr>\n",
       "      <th>count</th>\n",
       "      <td>2.000000</td>\n",
       "      <td>2.000000</td>\n",
       "      <td>2.000000</td>\n",
       "    </tr>\n",
       "    <tr>\n",
       "      <th>mean</th>\n",
       "      <td>7.000000</td>\n",
       "      <td>25.000000</td>\n",
       "      <td>99.500000</td>\n",
       "    </tr>\n",
       "    <tr>\n",
       "      <th>std</th>\n",
       "      <td>1.414214</td>\n",
       "      <td>35.355339</td>\n",
       "      <td>140.714249</td>\n",
       "    </tr>\n",
       "    <tr>\n",
       "      <th>min</th>\n",
       "      <td>6.000000</td>\n",
       "      <td>0.000000</td>\n",
       "      <td>0.000000</td>\n",
       "    </tr>\n",
       "    <tr>\n",
       "      <th>25%</th>\n",
       "      <td>6.500000</td>\n",
       "      <td>12.500000</td>\n",
       "      <td>49.750000</td>\n",
       "    </tr>\n",
       "    <tr>\n",
       "      <th>50%</th>\n",
       "      <td>7.000000</td>\n",
       "      <td>25.000000</td>\n",
       "      <td>99.500000</td>\n",
       "    </tr>\n",
       "    <tr>\n",
       "      <th>75%</th>\n",
       "      <td>7.500000</td>\n",
       "      <td>37.500000</td>\n",
       "      <td>149.250000</td>\n",
       "    </tr>\n",
       "    <tr>\n",
       "      <th>max</th>\n",
       "      <td>8.000000</td>\n",
       "      <td>50.000000</td>\n",
       "      <td>199.000000</td>\n",
       "    </tr>\n",
       "  </tbody>\n",
       "</table>\n",
       "</div>"
      ],
      "text/plain": [
       "       minute_price  start_ride_price  subscription_fee\n",
       "count      2.000000          2.000000          2.000000\n",
       "mean       7.000000         25.000000         99.500000\n",
       "std        1.414214         35.355339        140.714249\n",
       "min        6.000000          0.000000          0.000000\n",
       "25%        6.500000         12.500000         49.750000\n",
       "50%        7.000000         25.000000         99.500000\n",
       "75%        7.500000         37.500000        149.250000\n",
       "max        8.000000         50.000000        199.000000"
      ]
     },
     "execution_count": 62,
     "metadata": {},
     "output_type": "execute_result"
    }
   ],
   "source": [
    "subscriptions.describe()"
   ]
  },
  {
   "cell_type": "markdown",
   "id": "5472c3bd",
   "metadata": {},
   "source": [
    "**В ходе первичного ознакомления с данными было установлено:**\n",
    "\n",
    "1) в датафреймах отсутствуют пропуски, нужно проверить на наличие дубликатов.\n",
    "\n",
    "2) необходимо изменить тип данных в столбце date на datetime;\n",
    "\n",
    "3) название столбцов впорядке, изменять не нужно;\n",
    "\n",
    "4) по сводной статистике видно, что присутствуют проблемы в данных: слишком маленькое расстояние (distance) и время одной поездки (duration). Скорее всего, это аномалии и их нужно обработать.\n"
   ]
  },
  {
   "cell_type": "markdown",
   "id": "fe04063c",
   "metadata": {},
   "source": [
    "#### Шаг 2. Предобработка данных"
   ]
  },
  {
   "cell_type": "code",
   "execution_count": 63,
   "id": "7cf423ab",
   "metadata": {},
   "outputs": [],
   "source": [
    "rides['date'] = pd.to_datetime(rides['date'], format='%Y-%m-%d')"
   ]
  },
  {
   "cell_type": "code",
   "execution_count": 65,
   "id": "efbc5f34",
   "metadata": {},
   "outputs": [
    {
     "data": {
      "text/plain": [
       "array([2021])"
      ]
     },
     "execution_count": 65,
     "metadata": {},
     "output_type": "execute_result"
    }
   ],
   "source": [
    "rides['date'].dt.year.unique() "
   ]
  },
  {
   "cell_type": "code",
   "execution_count": 66,
   "id": "6be63cfc",
   "metadata": {},
   "outputs": [],
   "source": [
    "rides['month'] = pd.DatetimeIndex(rides['date']).month "
   ]
  },
  {
   "cell_type": "code",
   "execution_count": 67,
   "id": "af0fde37",
   "metadata": {},
   "outputs": [
    {
     "data": {
      "text/html": [
       "<div>\n",
       "<style scoped>\n",
       "    .dataframe tbody tr th:only-of-type {\n",
       "        vertical-align: middle;\n",
       "    }\n",
       "\n",
       "    .dataframe tbody tr th {\n",
       "        vertical-align: top;\n",
       "    }\n",
       "\n",
       "    .dataframe thead th {\n",
       "        text-align: right;\n",
       "    }\n",
       "</style>\n",
       "<table border=\"1\" class=\"dataframe\">\n",
       "  <thead>\n",
       "    <tr style=\"text-align: right;\">\n",
       "      <th></th>\n",
       "      <th>user_id</th>\n",
       "      <th>distance</th>\n",
       "      <th>duration</th>\n",
       "      <th>date</th>\n",
       "      <th>month</th>\n",
       "    </tr>\n",
       "  </thead>\n",
       "  <tbody>\n",
       "    <tr>\n",
       "      <th>0</th>\n",
       "      <td>1</td>\n",
       "      <td>4409.919140</td>\n",
       "      <td>25.599769</td>\n",
       "      <td>2021-01-01</td>\n",
       "      <td>1</td>\n",
       "    </tr>\n",
       "    <tr>\n",
       "      <th>1</th>\n",
       "      <td>1</td>\n",
       "      <td>2617.592153</td>\n",
       "      <td>15.816871</td>\n",
       "      <td>2021-01-18</td>\n",
       "      <td>1</td>\n",
       "    </tr>\n",
       "    <tr>\n",
       "      <th>2</th>\n",
       "      <td>1</td>\n",
       "      <td>754.159807</td>\n",
       "      <td>6.232113</td>\n",
       "      <td>2021-04-20</td>\n",
       "      <td>4</td>\n",
       "    </tr>\n",
       "    <tr>\n",
       "      <th>3</th>\n",
       "      <td>1</td>\n",
       "      <td>2694.783254</td>\n",
       "      <td>18.511000</td>\n",
       "      <td>2021-08-11</td>\n",
       "      <td>8</td>\n",
       "    </tr>\n",
       "    <tr>\n",
       "      <th>4</th>\n",
       "      <td>1</td>\n",
       "      <td>4028.687306</td>\n",
       "      <td>26.265803</td>\n",
       "      <td>2021-08-28</td>\n",
       "      <td>8</td>\n",
       "    </tr>\n",
       "  </tbody>\n",
       "</table>\n",
       "</div>"
      ],
      "text/plain": [
       "   user_id     distance   duration       date  month\n",
       "0        1  4409.919140  25.599769 2021-01-01      1\n",
       "1        1  2617.592153  15.816871 2021-01-18      1\n",
       "2        1   754.159807   6.232113 2021-04-20      4\n",
       "3        1  2694.783254  18.511000 2021-08-11      8\n",
       "4        1  4028.687306  26.265803 2021-08-28      8"
      ]
     },
     "execution_count": 67,
     "metadata": {},
     "output_type": "execute_result"
    }
   ],
   "source": [
    "rides.head()"
   ]
  },
  {
   "cell_type": "markdown",
   "id": "89d1fcb7",
   "metadata": {},
   "source": [
    "С написанием столбцов все впорядке, поэтому далее проверила каждый датафрейм на наличие пропусков и дубликатов."
   ]
  },
  {
   "cell_type": "code",
   "execution_count": 68,
   "id": "b9df6e7e",
   "metadata": {},
   "outputs": [
    {
     "data": {
      "text/plain": [
       "user_id              0\n",
       "name                 0\n",
       "age                  0\n",
       "city                 0\n",
       "subscription_type    0\n",
       "dtype: int64"
      ]
     },
     "execution_count": 68,
     "metadata": {},
     "output_type": "execute_result"
    }
   ],
   "source": [
    "users.isna().sum()"
   ]
  },
  {
   "cell_type": "code",
   "execution_count": 69,
   "id": "0ca60e73",
   "metadata": {},
   "outputs": [
    {
     "data": {
      "text/plain": [
       "user_id     0\n",
       "distance    0\n",
       "duration    0\n",
       "date        0\n",
       "month       0\n",
       "dtype: int64"
      ]
     },
     "execution_count": 69,
     "metadata": {},
     "output_type": "execute_result"
    }
   ],
   "source": [
    "rides.isna().sum()"
   ]
  },
  {
   "cell_type": "code",
   "execution_count": 70,
   "id": "662b86b8",
   "metadata": {},
   "outputs": [
    {
     "data": {
      "text/plain": [
       "subscription_type    0\n",
       "minute_price         0\n",
       "start_ride_price     0\n",
       "subscription_fee     0\n",
       "dtype: int64"
      ]
     },
     "execution_count": 70,
     "metadata": {},
     "output_type": "execute_result"
    }
   ],
   "source": [
    "subscriptions.isna().sum()"
   ]
  },
  {
   "cell_type": "markdown",
   "id": "678f0dc0",
   "metadata": {},
   "source": [
    "Подсчет количества явных дубликатов."
   ]
  },
  {
   "cell_type": "code",
   "execution_count": 71,
   "id": "b15c2391",
   "metadata": {},
   "outputs": [
    {
     "data": {
      "text/plain": [
       "31"
      ]
     },
     "execution_count": 71,
     "metadata": {},
     "output_type": "execute_result"
    }
   ],
   "source": [
    "users['user_id'].duplicated().sum()"
   ]
  },
  {
   "cell_type": "code",
   "execution_count": 72,
   "id": "d80ac5ea",
   "metadata": {},
   "outputs": [
    {
     "data": {
      "text/plain": [
       "0"
      ]
     },
     "execution_count": 72,
     "metadata": {},
     "output_type": "execute_result"
    }
   ],
   "source": [
    "rides.duplicated().sum()"
   ]
  },
  {
   "cell_type": "code",
   "execution_count": 73,
   "id": "f7f828e0",
   "metadata": {},
   "outputs": [
    {
     "data": {
      "text/plain": [
       "0"
      ]
     },
     "execution_count": 73,
     "metadata": {},
     "output_type": "execute_result"
    }
   ],
   "source": [
    "subscriptions.duplicated().sum()"
   ]
  },
  {
   "cell_type": "markdown",
   "id": "af936b64",
   "metadata": {},
   "source": [
    "Удаление явных дубликатов в столбце users."
   ]
  },
  {
   "cell_type": "code",
   "execution_count": 74,
   "id": "13bcd78a",
   "metadata": {},
   "outputs": [],
   "source": [
    "users = users.drop_duplicates(subset=['user_id'], keep='first')"
   ]
  },
  {
   "cell_type": "code",
   "execution_count": 75,
   "id": "3be1d709",
   "metadata": {},
   "outputs": [],
   "source": [
    "users = users.reset_index(drop=True)"
   ]
  },
  {
   "cell_type": "code",
   "execution_count": 76,
   "id": "9923d2bb",
   "metadata": {},
   "outputs": [
    {
     "data": {
      "text/plain": [
       "0"
      ]
     },
     "execution_count": 76,
     "metadata": {},
     "output_type": "execute_result"
    }
   ],
   "source": [
    "users['user_id'].duplicated().sum()"
   ]
  },
  {
   "cell_type": "markdown",
   "id": "4721a4a9",
   "metadata": {},
   "source": [
    "Исходя из описания данных, неявные дубликаты могут встречаться в столбце name. Вывела в алфавитном порядке встречающиеся в данных имена."
   ]
  },
  {
   "cell_type": "code",
   "execution_count": 77,
   "id": "acf2f6eb",
   "metadata": {},
   "outputs": [
    {
     "data": {
      "text/plain": [
       "['Агата',\n",
       " 'Аделина',\n",
       " 'Адель',\n",
       " 'Айдар',\n",
       " 'Александр',\n",
       " 'Александра',\n",
       " 'Алексей',\n",
       " 'Алина',\n",
       " 'Алиса',\n",
       " 'Алия',\n",
       " 'Алла',\n",
       " 'Альберт',\n",
       " 'Альбина',\n",
       " 'Алёна',\n",
       " 'Амалия',\n",
       " 'Амина',\n",
       " 'Амир',\n",
       " 'Анастасия',\n",
       " 'Анатолий',\n",
       " 'Ангелина',\n",
       " 'Андрей',\n",
       " 'Анжелика',\n",
       " 'Анна',\n",
       " 'Антон',\n",
       " 'Антонина',\n",
       " 'Ариана',\n",
       " 'Арина',\n",
       " 'Арсен',\n",
       " 'Арсений',\n",
       " 'Артемий',\n",
       " 'Артур',\n",
       " 'Артём',\n",
       " 'Богдан',\n",
       " 'Борис',\n",
       " 'Вадим',\n",
       " 'Валентина',\n",
       " 'Валерий',\n",
       " 'Валерия',\n",
       " 'Варвара',\n",
       " 'Василий',\n",
       " 'Василина',\n",
       " 'Василиса',\n",
       " 'Вера',\n",
       " 'Вероника',\n",
       " 'Виктор',\n",
       " 'Виктория',\n",
       " 'Виолетта',\n",
       " 'Виталий',\n",
       " 'Виталина',\n",
       " 'Влад',\n",
       " 'Влада',\n",
       " 'Владимир',\n",
       " 'Владислав',\n",
       " 'Владислава',\n",
       " 'Всеволод',\n",
       " 'Вячеслав',\n",
       " 'Галина',\n",
       " 'Георгий',\n",
       " 'Герман',\n",
       " 'Глеб',\n",
       " 'Гордей',\n",
       " 'Григорий',\n",
       " 'Давид',\n",
       " 'Дамир',\n",
       " 'Даниил',\n",
       " 'Данил',\n",
       " 'Данила',\n",
       " 'Даниэль',\n",
       " 'Дарина',\n",
       " 'Дарья',\n",
       " 'Демид',\n",
       " 'Денис',\n",
       " 'Диана',\n",
       " 'Дмитрий',\n",
       " 'Ева',\n",
       " 'Евгений',\n",
       " 'Евгения',\n",
       " 'Егор',\n",
       " 'Екатерина',\n",
       " 'Елена',\n",
       " 'Елизавета',\n",
       " 'Елисей',\n",
       " 'Есения',\n",
       " 'Жанна',\n",
       " 'Зарина',\n",
       " 'Захар',\n",
       " 'Злата',\n",
       " 'Иван',\n",
       " 'Игнат',\n",
       " 'Игорь',\n",
       " 'Ильдар',\n",
       " 'Илья',\n",
       " 'Инна',\n",
       " 'Ирина',\n",
       " 'Камилла',\n",
       " 'Карина',\n",
       " 'Каролина',\n",
       " 'Кира',\n",
       " 'Кирилл',\n",
       " 'Константин',\n",
       " 'Кристина',\n",
       " 'Ксения',\n",
       " 'Лариса',\n",
       " 'Лев',\n",
       " 'Леонид',\n",
       " 'Лиана',\n",
       " 'Лидия',\n",
       " 'Лилия',\n",
       " 'Любовь',\n",
       " 'Людмила',\n",
       " 'Мадина',\n",
       " 'Майя',\n",
       " 'Макар',\n",
       " 'Максим',\n",
       " 'Марат',\n",
       " 'Маргарита',\n",
       " 'Марина',\n",
       " 'Мария',\n",
       " 'Марк',\n",
       " 'Марсель',\n",
       " 'Матвей',\n",
       " 'Мелания',\n",
       " 'Милана',\n",
       " 'Милена',\n",
       " 'Мирон',\n",
       " 'Мирослав',\n",
       " 'Мирослава',\n",
       " 'Михаил',\n",
       " 'Назар',\n",
       " 'Наталия',\n",
       " 'Наталья',\n",
       " 'Наташа',\n",
       " 'Нелли',\n",
       " 'Ника',\n",
       " 'Никита',\n",
       " 'Николай',\n",
       " 'Нина',\n",
       " 'Одиссей',\n",
       " 'Оксана',\n",
       " 'Олег',\n",
       " 'Олеся',\n",
       " 'Ольга',\n",
       " 'Павел',\n",
       " 'Петр',\n",
       " 'Платон',\n",
       " 'Полина',\n",
       " 'Радмир',\n",
       " 'Рамиль',\n",
       " 'Регина',\n",
       " 'Роберт',\n",
       " 'Родион',\n",
       " 'Роман',\n",
       " 'Ростислав',\n",
       " 'Руслан',\n",
       " 'Рустам',\n",
       " 'Савелий',\n",
       " 'Самир',\n",
       " 'Самира',\n",
       " 'Светлана',\n",
       " 'Святогор',\n",
       " 'Святослав',\n",
       " 'Семен',\n",
       " 'Сергей',\n",
       " 'Снежана',\n",
       " 'София',\n",
       " 'Софья',\n",
       " 'Станислав',\n",
       " 'Степан',\n",
       " 'Стефания',\n",
       " 'Таисия',\n",
       " 'Тамара',\n",
       " 'Тамерлан',\n",
       " 'Татьяна',\n",
       " 'Тимофей',\n",
       " 'Тимур',\n",
       " 'Тихон',\n",
       " 'Ульяна',\n",
       " 'Федор',\n",
       " 'Эвелина',\n",
       " 'Эдуард',\n",
       " 'Элина',\n",
       " 'Эльвира',\n",
       " 'Эльмира',\n",
       " 'Эмилия',\n",
       " 'Эмиль',\n",
       " 'Юлиана',\n",
       " 'Юлия',\n",
       " 'Юрий',\n",
       " 'Ян',\n",
       " 'Яна',\n",
       " 'Яромир',\n",
       " 'Ярослав',\n",
       " 'Ярослава',\n",
       " 'Ясмина']"
      ]
     },
     "execution_count": 77,
     "metadata": {},
     "output_type": "execute_result"
    }
   ],
   "source": [
    "users['name'].value_counts().sort_index(ascending=True).index.tolist()"
   ]
  },
  {
   "cell_type": "markdown",
   "id": "b725af40",
   "metadata": {},
   "source": [
    "Неявных дубликатов не обнаружено."
   ]
  },
  {
   "cell_type": "markdown",
   "id": "7a6ba3cc",
   "metadata": {},
   "source": [
    "**В ходе предообработки данных:**\n",
    "\n",
    "1) столбец date приведен к типу datetime;\n",
    "\n",
    "2) создан новый столбец month с номером месяца;\n",
    "\n",
    "3) пропуски в данных не обранурежны, явные дубликаты в столбе user_id удалены."
   ]
  },
  {
   "cell_type": "markdown",
   "id": "b1926f02",
   "metadata": {},
   "source": [
    "#### Шаг 3. Исследовательский анализ данных"
   ]
  },
  {
   "cell_type": "code",
   "execution_count": 78,
   "id": "370fbcd1",
   "metadata": {},
   "outputs": [
    {
     "data": {
      "text/html": [
       "<div>\n",
       "<style scoped>\n",
       "    .dataframe tbody tr th:only-of-type {\n",
       "        vertical-align: middle;\n",
       "    }\n",
       "\n",
       "    .dataframe tbody tr th {\n",
       "        vertical-align: top;\n",
       "    }\n",
       "\n",
       "    .dataframe thead th {\n",
       "        text-align: right;\n",
       "    }\n",
       "</style>\n",
       "<table border=\"1\" class=\"dataframe\">\n",
       "  <thead>\n",
       "    <tr style=\"text-align: right;\">\n",
       "      <th></th>\n",
       "      <th>city</th>\n",
       "      <th>user_id</th>\n",
       "    </tr>\n",
       "  </thead>\n",
       "  <tbody>\n",
       "    <tr>\n",
       "      <th>0</th>\n",
       "      <td>Пятигорск</td>\n",
       "      <td>219</td>\n",
       "    </tr>\n",
       "    <tr>\n",
       "      <th>1</th>\n",
       "      <td>Екатеринбург</td>\n",
       "      <td>204</td>\n",
       "    </tr>\n",
       "    <tr>\n",
       "      <th>2</th>\n",
       "      <td>Ростов-на-Дону</td>\n",
       "      <td>198</td>\n",
       "    </tr>\n",
       "    <tr>\n",
       "      <th>3</th>\n",
       "      <td>Краснодар</td>\n",
       "      <td>193</td>\n",
       "    </tr>\n",
       "    <tr>\n",
       "      <th>4</th>\n",
       "      <td>Сочи</td>\n",
       "      <td>189</td>\n",
       "    </tr>\n",
       "    <tr>\n",
       "      <th>5</th>\n",
       "      <td>Омск</td>\n",
       "      <td>183</td>\n",
       "    </tr>\n",
       "    <tr>\n",
       "      <th>6</th>\n",
       "      <td>Тюмень</td>\n",
       "      <td>180</td>\n",
       "    </tr>\n",
       "    <tr>\n",
       "      <th>7</th>\n",
       "      <td>Москва</td>\n",
       "      <td>168</td>\n",
       "    </tr>\n",
       "  </tbody>\n",
       "</table>\n",
       "</div>"
      ],
      "text/plain": [
       "             city  user_id\n",
       "0       Пятигорск      219\n",
       "1    Екатеринбург      204\n",
       "2  Ростов-на-Дону      198\n",
       "3       Краснодар      193\n",
       "4            Сочи      189\n",
       "5            Омск      183\n",
       "6          Тюмень      180\n",
       "7          Москва      168"
      ]
     },
     "execution_count": 78,
     "metadata": {},
     "output_type": "execute_result"
    }
   ],
   "source": [
    "users.pivot_table(index='city', values = 'user_id', aggfunc='count').sort_values(by='user_id', \n",
    "ascending=False).reset_index()"
   ]
  },
  {
   "cell_type": "code",
   "execution_count": 79,
   "id": "f88c8268",
   "metadata": {},
   "outputs": [
    {
     "data": {
      "text/plain": [
       "Text(0, 0.5, 'Город')"
      ]
     },
     "execution_count": 79,
     "metadata": {},
     "output_type": "execute_result"
    },
    {
     "data": {
      "image/png": "[encoded data removed]",
      "text/plain": [
       "<Figure size 648x648 with 1 Axes>"
      ]
     },
     "metadata": {
      "needs_background": "light"
     },
     "output_type": "display_data"
    }
   ],
   "source": [
    "users_pivot = users.pivot_table(index='city', values = 'user_id', aggfunc='count').sort_values(by='user_id', \n",
    "ascending=False).reset_index().plot(kind='barh', \n",
    "x='city', y = 'user_id', figsize=(9,9), \n",
    "title='Распределение пользователей по городам', legend=False, grid=True, alpha=0.7, color='green')\n",
    "plt.xlabel('Частота')\n",
    "plt.ylabel('Город')"
   ]
  },
  {
   "cell_type": "markdown",
   "id": "21ff2a9b",
   "metadata": {},
   "source": [
    "**Частота встречаемости городов:** чаще всего встречаются пользователи из Пятигорска, на последнем месте - Москва.\n",
    "В южных регионах из-за погодных условий есть возможность дольше пользоваться самокатами (также на первых местах пользователи из Ростова-на-Дону, Краснодара и Сочи)"
   ]
  },
  {
   "cell_type": "code",
   "execution_count": 80,
   "id": "a7c81782",
   "metadata": {},
   "outputs": [
    {
     "data": {
      "text/html": [
       "<div>\n",
       "<style scoped>\n",
       "    .dataframe tbody tr th:only-of-type {\n",
       "        vertical-align: middle;\n",
       "    }\n",
       "\n",
       "    .dataframe tbody tr th {\n",
       "        vertical-align: top;\n",
       "    }\n",
       "\n",
       "    .dataframe thead th {\n",
       "        text-align: right;\n",
       "    }\n",
       "</style>\n",
       "<table border=\"1\" class=\"dataframe\">\n",
       "  <thead>\n",
       "    <tr style=\"text-align: right;\">\n",
       "      <th></th>\n",
       "      <th>subscription_type</th>\n",
       "      <th>user_id</th>\n",
       "    </tr>\n",
       "  </thead>\n",
       "  <tbody>\n",
       "    <tr>\n",
       "      <th>0</th>\n",
       "      <td>free</td>\n",
       "      <td>835</td>\n",
       "    </tr>\n",
       "    <tr>\n",
       "      <th>1</th>\n",
       "      <td>ultra</td>\n",
       "      <td>699</td>\n",
       "    </tr>\n",
       "  </tbody>\n",
       "</table>\n",
       "</div>"
      ],
      "text/plain": [
       "  subscription_type  user_id\n",
       "0              free      835\n",
       "1             ultra      699"
      ]
     },
     "execution_count": 80,
     "metadata": {},
     "output_type": "execute_result"
    }
   ],
   "source": [
    "users.pivot_table(index='subscription_type', values = 'user_id', \n",
    "aggfunc='count').reset_index()"
   ]
  },
  {
   "cell_type": "code",
   "execution_count": 81,
   "id": "61078d58",
   "metadata": {},
   "outputs": [
    {
     "data": {
      "image/png": "[encoded data removed]",
      "text/plain": [
       "<Figure size 504x504 with 1 Axes>"
      ]
     },
     "metadata": {},
     "output_type": "display_data"
    }
   ],
   "source": [
    "users.pivot_table(index='subscription_type', values = 'user_id', \n",
    "aggfunc='count').plot(kind='pie', figsize=(7,7), subplots=True,\n",
    "autopct='%1.1f%%', title = 'Соотношение пользователь с подпиской и без', legend=False, cmap='summer')\n",
    "\n",
    "ax = plt.gca()\n",
    "ax.axes.yaxis.set_visible(False)"
   ]
  },
  {
   "cell_type": "markdown",
   "id": "8158bb01",
   "metadata": {},
   "source": [
    "**Соотношение пользователей с подпиской и без подписки:** самокатами пользуются больше пользователей без подписки почти на 10%. \n",
    "\n",
    "Среди пользователей, вероятно, есть люди, не использующие самокаты регулярно и не мотивированные покупать подписку."
   ]
  },
  {
   "cell_type": "code",
   "execution_count": 82,
   "id": "0c807128",
   "metadata": {},
   "outputs": [
    {
     "data": {
      "text/html": [
       "<div>\n",
       "<style scoped>\n",
       "    .dataframe tbody tr th:only-of-type {\n",
       "        vertical-align: middle;\n",
       "    }\n",
       "\n",
       "    .dataframe tbody tr th {\n",
       "        vertical-align: top;\n",
       "    }\n",
       "\n",
       "    .dataframe thead th {\n",
       "        text-align: right;\n",
       "    }\n",
       "</style>\n",
       "<table border=\"1\" class=\"dataframe\">\n",
       "  <thead>\n",
       "    <tr style=\"text-align: right;\">\n",
       "      <th></th>\n",
       "      <th>age</th>\n",
       "      <th>user_id</th>\n",
       "    </tr>\n",
       "  </thead>\n",
       "  <tbody>\n",
       "    <tr>\n",
       "      <th>0</th>\n",
       "      <td>12</td>\n",
       "      <td>4</td>\n",
       "    </tr>\n",
       "    <tr>\n",
       "      <th>1</th>\n",
       "      <td>13</td>\n",
       "      <td>8</td>\n",
       "    </tr>\n",
       "    <tr>\n",
       "      <th>2</th>\n",
       "      <td>14</td>\n",
       "      <td>9</td>\n",
       "    </tr>\n",
       "    <tr>\n",
       "      <th>3</th>\n",
       "      <td>15</td>\n",
       "      <td>13</td>\n",
       "    </tr>\n",
       "    <tr>\n",
       "      <th>4</th>\n",
       "      <td>16</td>\n",
       "      <td>19</td>\n",
       "    </tr>\n",
       "    <tr>\n",
       "      <th>5</th>\n",
       "      <td>17</td>\n",
       "      <td>26</td>\n",
       "    </tr>\n",
       "    <tr>\n",
       "      <th>6</th>\n",
       "      <td>18</td>\n",
       "      <td>46</td>\n",
       "    </tr>\n",
       "    <tr>\n",
       "      <th>7</th>\n",
       "      <td>19</td>\n",
       "      <td>47</td>\n",
       "    </tr>\n",
       "    <tr>\n",
       "      <th>8</th>\n",
       "      <td>20</td>\n",
       "      <td>71</td>\n",
       "    </tr>\n",
       "    <tr>\n",
       "      <th>9</th>\n",
       "      <td>21</td>\n",
       "      <td>93</td>\n",
       "    </tr>\n",
       "    <tr>\n",
       "      <th>10</th>\n",
       "      <td>22</td>\n",
       "      <td>119</td>\n",
       "    </tr>\n",
       "    <tr>\n",
       "      <th>11</th>\n",
       "      <td>23</td>\n",
       "      <td>129</td>\n",
       "    </tr>\n",
       "    <tr>\n",
       "      <th>12</th>\n",
       "      <td>24</td>\n",
       "      <td>132</td>\n",
       "    </tr>\n",
       "    <tr>\n",
       "      <th>13</th>\n",
       "      <td>25</td>\n",
       "      <td>145</td>\n",
       "    </tr>\n",
       "    <tr>\n",
       "      <th>14</th>\n",
       "      <td>26</td>\n",
       "      <td>131</td>\n",
       "    </tr>\n",
       "    <tr>\n",
       "      <th>15</th>\n",
       "      <td>27</td>\n",
       "      <td>119</td>\n",
       "    </tr>\n",
       "    <tr>\n",
       "      <th>16</th>\n",
       "      <td>28</td>\n",
       "      <td>112</td>\n",
       "    </tr>\n",
       "    <tr>\n",
       "      <th>17</th>\n",
       "      <td>29</td>\n",
       "      <td>68</td>\n",
       "    </tr>\n",
       "    <tr>\n",
       "      <th>18</th>\n",
       "      <td>30</td>\n",
       "      <td>68</td>\n",
       "    </tr>\n",
       "    <tr>\n",
       "      <th>19</th>\n",
       "      <td>31</td>\n",
       "      <td>48</td>\n",
       "    </tr>\n",
       "    <tr>\n",
       "      <th>20</th>\n",
       "      <td>32</td>\n",
       "      <td>41</td>\n",
       "    </tr>\n",
       "    <tr>\n",
       "      <th>21</th>\n",
       "      <td>33</td>\n",
       "      <td>39</td>\n",
       "    </tr>\n",
       "    <tr>\n",
       "      <th>22</th>\n",
       "      <td>34</td>\n",
       "      <td>19</td>\n",
       "    </tr>\n",
       "    <tr>\n",
       "      <th>23</th>\n",
       "      <td>35</td>\n",
       "      <td>15</td>\n",
       "    </tr>\n",
       "    <tr>\n",
       "      <th>24</th>\n",
       "      <td>36</td>\n",
       "      <td>6</td>\n",
       "    </tr>\n",
       "    <tr>\n",
       "      <th>25</th>\n",
       "      <td>37</td>\n",
       "      <td>2</td>\n",
       "    </tr>\n",
       "    <tr>\n",
       "      <th>26</th>\n",
       "      <td>38</td>\n",
       "      <td>3</td>\n",
       "    </tr>\n",
       "    <tr>\n",
       "      <th>27</th>\n",
       "      <td>39</td>\n",
       "      <td>1</td>\n",
       "    </tr>\n",
       "    <tr>\n",
       "      <th>28</th>\n",
       "      <td>43</td>\n",
       "      <td>1</td>\n",
       "    </tr>\n",
       "  </tbody>\n",
       "</table>\n",
       "</div>"
      ],
      "text/plain": [
       "    age  user_id\n",
       "0    12        4\n",
       "1    13        8\n",
       "2    14        9\n",
       "3    15       13\n",
       "4    16       19\n",
       "5    17       26\n",
       "6    18       46\n",
       "7    19       47\n",
       "8    20       71\n",
       "9    21       93\n",
       "10   22      119\n",
       "11   23      129\n",
       "12   24      132\n",
       "13   25      145\n",
       "14   26      131\n",
       "15   27      119\n",
       "16   28      112\n",
       "17   29       68\n",
       "18   30       68\n",
       "19   31       48\n",
       "20   32       41\n",
       "21   33       39\n",
       "22   34       19\n",
       "23   35       15\n",
       "24   36        6\n",
       "25   37        2\n",
       "26   38        3\n",
       "27   39        1\n",
       "28   43        1"
      ]
     },
     "execution_count": 82,
     "metadata": {},
     "output_type": "execute_result"
    }
   ],
   "source": [
    "users.pivot_table(index='age', values = 'user_id', \n",
    "aggfunc='count').reset_index()"
   ]
  },
  {
   "cell_type": "code",
   "execution_count": 83,
   "id": "86a0b5a7",
   "metadata": {},
   "outputs": [
    {
     "data": {
      "text/plain": [
       "Text(0, 0.5, 'Частота')"
      ]
     },
     "execution_count": 83,
     "metadata": {},
     "output_type": "execute_result"
    },
    {
     "data": {
      "image/png": "[encoded data removed]",
      "text/plain": [
       "<Figure size 720x720 with 1 Axes>"
      ]
     },
     "metadata": {
      "needs_background": "light"
     },
     "output_type": "display_data"
    }
   ],
   "source": [
    "users.pivot_table(index='age', values = 'user_id', \n",
    "aggfunc='count').reset_index()\n",
    "column_to_plot = 'age'\n",
    "users_plot = users[column_to_plot]\n",
    "users_plot.plot(kind='hist', title = 'Распределение пользователей по возрастам', grid=True, \n",
    "                figsize=(10,10), alpha=0.7, color='green')\n",
    "plt.xlabel('Возраст')\n",
    "plt.ylabel('Частота')"
   ]
  },
  {
   "cell_type": "markdown",
   "id": "40c91429",
   "metadata": {},
   "source": [
    "**Возраст пользователей**: чаще пользуются молодые люди в возрасте 23-27 лет. Люди после 30 встречаются реже так же, как и подростки.\n",
    "\n",
    "Молодые люди более мобильны и располагают собственным доходом."
   ]
  },
  {
   "cell_type": "code",
   "execution_count": 84,
   "id": "ae42f5fb",
   "metadata": {},
   "outputs": [
    {
     "data": {
      "text/plain": [
       "count    18068.000000\n",
       "mean      3070.659976\n",
       "std       1116.831209\n",
       "min          0.855683\n",
       "25%       2543.226360\n",
       "50%       3133.609994\n",
       "75%       3776.222735\n",
       "max       7211.007745\n",
       "Name: distance, dtype: float64"
      ]
     },
     "execution_count": 84,
     "metadata": {},
     "output_type": "execute_result"
    }
   ],
   "source": [
    "rides['distance'].describe()"
   ]
  },
  {
   "cell_type": "code",
   "execution_count": 85,
   "id": "ed05ea02",
   "metadata": {},
   "outputs": [
    {
     "data": {
      "text/plain": [
       "{'whiskers': [<matplotlib.lines.Line2D at 0x7f1d94ee0460>,\n",
       "  <matplotlib.lines.Line2D at 0x7f1d94efc460>],\n",
       " 'caps': [<matplotlib.lines.Line2D at 0x7f1d94efcbb0>,\n",
       "  <matplotlib.lines.Line2D at 0x7f1d9d8e9a90>],\n",
       " 'boxes': [<matplotlib.lines.Line2D at 0x7f1d94ee0340>],\n",
       " 'medians': [<matplotlib.lines.Line2D at 0x7f1d95128970>],\n",
       " 'fliers': [<matplotlib.lines.Line2D at 0x7f1d951285e0>],\n",
       " 'means': []}"
      ]
     },
     "execution_count": 85,
     "metadata": {},
     "output_type": "execute_result"
    },
    {
     "data": {
      "image/png": "[encoded data removed]",
      "text/plain": [
       "<Figure size 432x288 with 1 Axes>"
      ]
     },
     "metadata": {
      "needs_background": "light"
     },
     "output_type": "display_data"
    }
   ],
   "source": [
    "plt.boxplot(rides['distance'])"
   ]
  },
  {
   "cell_type": "markdown",
   "id": "1a4623ae",
   "metadata": {},
   "source": [
    "По диаграмме размаха расстояние до 200 метров можно определить как выброс, при построении гистограммы его лучше исключить: слишком короткие поездки, которые можно объяснить неисправностями самоката, нехваткой денег на балансе и др."
   ]
  },
  {
   "cell_type": "code",
   "execution_count": 86,
   "id": "22065987",
   "metadata": {},
   "outputs": [],
   "source": [
    "rides = rides.query('distance>=200')"
   ]
  },
  {
   "cell_type": "code",
   "execution_count": 87,
   "id": "c3e84884",
   "metadata": {},
   "outputs": [
    {
     "data": {
      "text/plain": [
       "Text(0, 0.5, 'Частота')"
      ]
     },
     "execution_count": 87,
     "metadata": {},
     "output_type": "execute_result"
    },
    {
     "data": {
      "image/png": "[encoded data removed]",
      "text/plain": [
       "<Figure size 720x720 with 1 Axes>"
      ]
     },
     "metadata": {
      "needs_background": "light"
     },
     "output_type": "display_data"
    }
   ],
   "source": [
    "rides['distance'].plot(kind='hist', bins=40, title = 'Расстояние в метрах', grid=True, \n",
    "                figsize=(10,10), alpha=0.7, color='green')\n",
    "plt.xlabel('Расстояние')\n",
    "plt.ylabel('Частота')"
   ]
  },
  {
   "cell_type": "markdown",
   "id": "447881a9",
   "metadata": {},
   "source": [
    "**Расстояние, которое пользователь преодолел за одну поездку**: в среднем за одну поездку пользователи проезжают около 3000 метров (3 километров)."
   ]
  },
  {
   "cell_type": "code",
   "execution_count": 88,
   "id": "882cac74",
   "metadata": {},
   "outputs": [
    {
     "data": {
      "text/plain": [
       "count    17898.000000\n",
       "mean        17.896443\n",
       "std          6.035845\n",
       "min          0.500000\n",
       "25%         13.719722\n",
       "50%         17.744270\n",
       "75%         21.764322\n",
       "max         40.823963\n",
       "Name: duration, dtype: float64"
      ]
     },
     "execution_count": 88,
     "metadata": {},
     "output_type": "execute_result"
    }
   ],
   "source": [
    "rides['duration'].describe()"
   ]
  },
  {
   "cell_type": "markdown",
   "id": "9267db1c",
   "metadata": {},
   "source": [
    "Минимальное значение 0.5 минут выглядит неправдоподобно коротким, время до 3 минут можно исключить как аномалию."
   ]
  },
  {
   "cell_type": "code",
   "execution_count": 89,
   "id": "0fadf50b",
   "metadata": {},
   "outputs": [],
   "source": [
    "rides = rides.query('duration>=3')"
   ]
  },
  {
   "cell_type": "code",
   "execution_count": 90,
   "id": "06b05956",
   "metadata": {},
   "outputs": [
    {
     "data": {
      "text/plain": [
       "Text(0, 0.5, 'Частота')"
      ]
     },
     "execution_count": 90,
     "metadata": {},
     "output_type": "execute_result"
    },
    {
     "data": {
      "image/png": "[encoded data removed]",
      "text/plain": [
       "<Figure size 720x720 with 1 Axes>"
      ]
     },
     "metadata": {
      "needs_background": "light"
     },
     "output_type": "display_data"
    }
   ],
   "source": [
    "rides['duration'].plot(kind='hist', bins=40, title = 'Продолжительность поездки в минутах', grid=True, \n",
    "                figsize=(10,10), alpha=0.7, color='green')\n",
    "plt.xlabel('Продолжительность поездки')\n",
    "plt.ylabel('Частота')"
   ]
  },
  {
   "cell_type": "markdown",
   "id": "497f1a38",
   "metadata": {},
   "source": [
    "**Продолжительность поездок**: в среднем время одной поездки занимает 18 минут."
   ]
  },
  {
   "cell_type": "markdown",
   "id": "9b08129b",
   "metadata": {},
   "source": [
    "**Среди пользователей самокатов чаще встречаются молодые люди в возрасте 24-26 лет, без подписки. Среднее время сессии - 18 минут, расстояние, которое пользователь преодолевает за одну поездку - 3000 метров. \n",
    "Большинство пользователь из Пятигорска, на последнем месте - Москва.**"
   ]
  },
  {
   "cell_type": "markdown",
   "id": "072c0dc2",
   "metadata": {},
   "source": [
    "#### Шаг 4. Объединение данных"
   ]
  },
  {
   "cell_type": "markdown",
   "id": "eb4d0514",
   "metadata": {},
   "source": [
    "Объединила данные о пользователях, поездках и подписках в один датафрейм. "
   ]
  },
  {
   "cell_type": "code",
   "execution_count": 91,
   "id": "6f237599",
   "metadata": {},
   "outputs": [],
   "source": [
    "dt = users.merge(rides, on='user_id', how='outer') "
   ]
  },
  {
   "cell_type": "code",
   "execution_count": 92,
   "id": "9b3ef0b8",
   "metadata": {},
   "outputs": [
    {
     "data": {
      "text/html": [
       "<div>\n",
       "<style scoped>\n",
       "    .dataframe tbody tr th:only-of-type {\n",
       "        vertical-align: middle;\n",
       "    }\n",
       "\n",
       "    .dataframe tbody tr th {\n",
       "        vertical-align: top;\n",
       "    }\n",
       "\n",
       "    .dataframe thead th {\n",
       "        text-align: right;\n",
       "    }\n",
       "</style>\n",
       "<table border=\"1\" class=\"dataframe\">\n",
       "  <thead>\n",
       "    <tr style=\"text-align: right;\">\n",
       "      <th></th>\n",
       "      <th>user_id</th>\n",
       "      <th>name</th>\n",
       "      <th>age</th>\n",
       "      <th>city</th>\n",
       "      <th>subscription_type</th>\n",
       "      <th>distance</th>\n",
       "      <th>duration</th>\n",
       "      <th>date</th>\n",
       "      <th>month</th>\n",
       "      <th>minute_price</th>\n",
       "      <th>start_ride_price</th>\n",
       "      <th>subscription_fee</th>\n",
       "    </tr>\n",
       "  </thead>\n",
       "  <tbody>\n",
       "    <tr>\n",
       "      <th>0</th>\n",
       "      <td>1</td>\n",
       "      <td>Кира</td>\n",
       "      <td>22</td>\n",
       "      <td>Тюмень</td>\n",
       "      <td>ultra</td>\n",
       "      <td>4409.919140</td>\n",
       "      <td>25.599769</td>\n",
       "      <td>2021-01-01</td>\n",
       "      <td>1</td>\n",
       "      <td>6</td>\n",
       "      <td>0</td>\n",
       "      <td>199</td>\n",
       "    </tr>\n",
       "    <tr>\n",
       "      <th>1</th>\n",
       "      <td>1</td>\n",
       "      <td>Кира</td>\n",
       "      <td>22</td>\n",
       "      <td>Тюмень</td>\n",
       "      <td>ultra</td>\n",
       "      <td>2617.592153</td>\n",
       "      <td>15.816871</td>\n",
       "      <td>2021-01-18</td>\n",
       "      <td>1</td>\n",
       "      <td>6</td>\n",
       "      <td>0</td>\n",
       "      <td>199</td>\n",
       "    </tr>\n",
       "    <tr>\n",
       "      <th>2</th>\n",
       "      <td>1</td>\n",
       "      <td>Кира</td>\n",
       "      <td>22</td>\n",
       "      <td>Тюмень</td>\n",
       "      <td>ultra</td>\n",
       "      <td>754.159807</td>\n",
       "      <td>6.232113</td>\n",
       "      <td>2021-04-20</td>\n",
       "      <td>4</td>\n",
       "      <td>6</td>\n",
       "      <td>0</td>\n",
       "      <td>199</td>\n",
       "    </tr>\n",
       "    <tr>\n",
       "      <th>3</th>\n",
       "      <td>1</td>\n",
       "      <td>Кира</td>\n",
       "      <td>22</td>\n",
       "      <td>Тюмень</td>\n",
       "      <td>ultra</td>\n",
       "      <td>2694.783254</td>\n",
       "      <td>18.511000</td>\n",
       "      <td>2021-08-11</td>\n",
       "      <td>8</td>\n",
       "      <td>6</td>\n",
       "      <td>0</td>\n",
       "      <td>199</td>\n",
       "    </tr>\n",
       "    <tr>\n",
       "      <th>4</th>\n",
       "      <td>1</td>\n",
       "      <td>Кира</td>\n",
       "      <td>22</td>\n",
       "      <td>Тюмень</td>\n",
       "      <td>ultra</td>\n",
       "      <td>4028.687306</td>\n",
       "      <td>26.265803</td>\n",
       "      <td>2021-08-28</td>\n",
       "      <td>8</td>\n",
       "      <td>6</td>\n",
       "      <td>0</td>\n",
       "      <td>199</td>\n",
       "    </tr>\n",
       "  </tbody>\n",
       "</table>\n",
       "</div>"
      ],
      "text/plain": [
       "   user_id  name  age    city subscription_type     distance   duration  \\\n",
       "0        1  Кира   22  Тюмень             ultra  4409.919140  25.599769   \n",
       "1        1  Кира   22  Тюмень             ultra  2617.592153  15.816871   \n",
       "2        1  Кира   22  Тюмень             ultra   754.159807   6.232113   \n",
       "3        1  Кира   22  Тюмень             ultra  2694.783254  18.511000   \n",
       "4        1  Кира   22  Тюмень             ultra  4028.687306  26.265803   \n",
       "\n",
       "        date  month  minute_price  start_ride_price  subscription_fee  \n",
       "0 2021-01-01      1             6                 0               199  \n",
       "1 2021-01-18      1             6                 0               199  \n",
       "2 2021-04-20      4             6                 0               199  \n",
       "3 2021-08-11      8             6                 0               199  \n",
       "4 2021-08-28      8             6                 0               199  "
      ]
     },
     "execution_count": 92,
     "metadata": {},
     "output_type": "execute_result"
    }
   ],
   "source": [
    "data = dt.merge(subscriptions, on = 'subscription_type', how='outer')\n",
    "data.head()"
   ]
  },
  {
   "cell_type": "code",
   "execution_count": 93,
   "id": "9ab0950a",
   "metadata": {},
   "outputs": [
    {
     "data": {
      "text/plain": [
       "1534"
      ]
     },
     "execution_count": 93,
     "metadata": {},
     "output_type": "execute_result"
    }
   ],
   "source": [
    "users.shape[0]"
   ]
  },
  {
   "cell_type": "code",
   "execution_count": 94,
   "id": "260ed3cf",
   "metadata": {},
   "outputs": [
    {
     "data": {
      "text/plain": [
       "17787"
      ]
     },
     "execution_count": 94,
     "metadata": {},
     "output_type": "execute_result"
    }
   ],
   "source": [
    "rides.shape[0]"
   ]
  },
  {
   "cell_type": "code",
   "execution_count": 95,
   "id": "137e6c14",
   "metadata": {},
   "outputs": [
    {
     "data": {
      "text/plain": [
       "17787"
      ]
     },
     "execution_count": 95,
     "metadata": {},
     "output_type": "execute_result"
    }
   ],
   "source": [
    "dt.shape[0]"
   ]
  },
  {
   "cell_type": "code",
   "execution_count": 96,
   "id": "7470849b",
   "metadata": {},
   "outputs": [
    {
     "data": {
      "text/plain": [
       "2"
      ]
     },
     "execution_count": 96,
     "metadata": {},
     "output_type": "execute_result"
    }
   ],
   "source": [
    "subscriptions.shape[0]"
   ]
  },
  {
   "cell_type": "code",
   "execution_count": 97,
   "id": "3ea3b63a",
   "metadata": {},
   "outputs": [
    {
     "data": {
      "text/plain": [
       "17787"
      ]
     },
     "execution_count": 97,
     "metadata": {},
     "output_type": "execute_result"
    }
   ],
   "source": [
    "data.shape[0]"
   ]
  },
  {
   "cell_type": "markdown",
   "id": "73c6eb98",
   "metadata": {},
   "source": [
    "Создала ещё два датафрейма из датафрейма, созданного на этапе 4.1:\n",
    "\n",
    "1) c данными о пользователях без подписки;\n",
    "\n",
    "2) с данными о пользователях с подпиской"
   ]
  },
  {
   "cell_type": "code",
   "execution_count": 98,
   "id": "f735c122",
   "metadata": {},
   "outputs": [
    {
     "data": {
      "text/html": [
       "<div>\n",
       "<style scoped>\n",
       "    .dataframe tbody tr th:only-of-type {\n",
       "        vertical-align: middle;\n",
       "    }\n",
       "\n",
       "    .dataframe tbody tr th {\n",
       "        vertical-align: top;\n",
       "    }\n",
       "\n",
       "    .dataframe thead th {\n",
       "        text-align: right;\n",
       "    }\n",
       "</style>\n",
       "<table border=\"1\" class=\"dataframe\">\n",
       "  <thead>\n",
       "    <tr style=\"text-align: right;\">\n",
       "      <th></th>\n",
       "      <th>user_id</th>\n",
       "      <th>name</th>\n",
       "      <th>age</th>\n",
       "      <th>city</th>\n",
       "      <th>subscription_type</th>\n",
       "      <th>distance</th>\n",
       "      <th>duration</th>\n",
       "      <th>date</th>\n",
       "      <th>month</th>\n",
       "      <th>minute_price</th>\n",
       "      <th>start_ride_price</th>\n",
       "      <th>subscription_fee</th>\n",
       "    </tr>\n",
       "  </thead>\n",
       "  <tbody>\n",
       "    <tr>\n",
       "      <th>6500</th>\n",
       "      <td>700</td>\n",
       "      <td>Айдар</td>\n",
       "      <td>22</td>\n",
       "      <td>Омск</td>\n",
       "      <td>free</td>\n",
       "      <td>2515.690719</td>\n",
       "      <td>14.944286</td>\n",
       "      <td>2021-01-02</td>\n",
       "      <td>1</td>\n",
       "      <td>8</td>\n",
       "      <td>50</td>\n",
       "      <td>0</td>\n",
       "    </tr>\n",
       "    <tr>\n",
       "      <th>6501</th>\n",
       "      <td>700</td>\n",
       "      <td>Айдар</td>\n",
       "      <td>22</td>\n",
       "      <td>Омск</td>\n",
       "      <td>free</td>\n",
       "      <td>846.932642</td>\n",
       "      <td>16.234663</td>\n",
       "      <td>2021-02-01</td>\n",
       "      <td>2</td>\n",
       "      <td>8</td>\n",
       "      <td>50</td>\n",
       "      <td>0</td>\n",
       "    </tr>\n",
       "    <tr>\n",
       "      <th>6502</th>\n",
       "      <td>700</td>\n",
       "      <td>Айдар</td>\n",
       "      <td>22</td>\n",
       "      <td>Омск</td>\n",
       "      <td>free</td>\n",
       "      <td>4004.434142</td>\n",
       "      <td>20.016628</td>\n",
       "      <td>2021-02-04</td>\n",
       "      <td>2</td>\n",
       "      <td>8</td>\n",
       "      <td>50</td>\n",
       "      <td>0</td>\n",
       "    </tr>\n",
       "    <tr>\n",
       "      <th>6503</th>\n",
       "      <td>700</td>\n",
       "      <td>Айдар</td>\n",
       "      <td>22</td>\n",
       "      <td>Омск</td>\n",
       "      <td>free</td>\n",
       "      <td>1205.911290</td>\n",
       "      <td>9.782872</td>\n",
       "      <td>2021-02-10</td>\n",
       "      <td>2</td>\n",
       "      <td>8</td>\n",
       "      <td>50</td>\n",
       "      <td>0</td>\n",
       "    </tr>\n",
       "    <tr>\n",
       "      <th>6504</th>\n",
       "      <td>700</td>\n",
       "      <td>Айдар</td>\n",
       "      <td>22</td>\n",
       "      <td>Омск</td>\n",
       "      <td>free</td>\n",
       "      <td>3047.379435</td>\n",
       "      <td>17.427673</td>\n",
       "      <td>2021-02-14</td>\n",
       "      <td>2</td>\n",
       "      <td>8</td>\n",
       "      <td>50</td>\n",
       "      <td>0</td>\n",
       "    </tr>\n",
       "  </tbody>\n",
       "</table>\n",
       "</div>"
      ],
      "text/plain": [
       "      user_id   name  age  city subscription_type     distance   duration  \\\n",
       "6500      700  Айдар   22  Омск              free  2515.690719  14.944286   \n",
       "6501      700  Айдар   22  Омск              free   846.932642  16.234663   \n",
       "6502      700  Айдар   22  Омск              free  4004.434142  20.016628   \n",
       "6503      700  Айдар   22  Омск              free  1205.911290   9.782872   \n",
       "6504      700  Айдар   22  Омск              free  3047.379435  17.427673   \n",
       "\n",
       "           date  month  minute_price  start_ride_price  subscription_fee  \n",
       "6500 2021-01-02      1             8                50                 0  \n",
       "6501 2021-02-01      2             8                50                 0  \n",
       "6502 2021-02-04      2             8                50                 0  \n",
       "6503 2021-02-10      2             8                50                 0  \n",
       "6504 2021-02-14      2             8                50                 0  "
      ]
     },
     "execution_count": 98,
     "metadata": {},
     "output_type": "execute_result"
    }
   ],
   "source": [
    "users_free = data.query('subscription_type == \"free\"')\n",
    "users_free.head()"
   ]
  },
  {
   "cell_type": "code",
   "execution_count": 99,
   "id": "e7ccb3ee",
   "metadata": {},
   "outputs": [
    {
     "data": {
      "text/html": [
       "<div>\n",
       "<style scoped>\n",
       "    .dataframe tbody tr th:only-of-type {\n",
       "        vertical-align: middle;\n",
       "    }\n",
       "\n",
       "    .dataframe tbody tr th {\n",
       "        vertical-align: top;\n",
       "    }\n",
       "\n",
       "    .dataframe thead th {\n",
       "        text-align: right;\n",
       "    }\n",
       "</style>\n",
       "<table border=\"1\" class=\"dataframe\">\n",
       "  <thead>\n",
       "    <tr style=\"text-align: right;\">\n",
       "      <th></th>\n",
       "      <th>user_id</th>\n",
       "      <th>name</th>\n",
       "      <th>age</th>\n",
       "      <th>city</th>\n",
       "      <th>subscription_type</th>\n",
       "      <th>distance</th>\n",
       "      <th>duration</th>\n",
       "      <th>date</th>\n",
       "      <th>month</th>\n",
       "      <th>minute_price</th>\n",
       "      <th>start_ride_price</th>\n",
       "      <th>subscription_fee</th>\n",
       "    </tr>\n",
       "  </thead>\n",
       "  <tbody>\n",
       "    <tr>\n",
       "      <th>0</th>\n",
       "      <td>1</td>\n",
       "      <td>Кира</td>\n",
       "      <td>22</td>\n",
       "      <td>Тюмень</td>\n",
       "      <td>ultra</td>\n",
       "      <td>4409.919140</td>\n",
       "      <td>25.599769</td>\n",
       "      <td>2021-01-01</td>\n",
       "      <td>1</td>\n",
       "      <td>6</td>\n",
       "      <td>0</td>\n",
       "      <td>199</td>\n",
       "    </tr>\n",
       "    <tr>\n",
       "      <th>1</th>\n",
       "      <td>1</td>\n",
       "      <td>Кира</td>\n",
       "      <td>22</td>\n",
       "      <td>Тюмень</td>\n",
       "      <td>ultra</td>\n",
       "      <td>2617.592153</td>\n",
       "      <td>15.816871</td>\n",
       "      <td>2021-01-18</td>\n",
       "      <td>1</td>\n",
       "      <td>6</td>\n",
       "      <td>0</td>\n",
       "      <td>199</td>\n",
       "    </tr>\n",
       "    <tr>\n",
       "      <th>2</th>\n",
       "      <td>1</td>\n",
       "      <td>Кира</td>\n",
       "      <td>22</td>\n",
       "      <td>Тюмень</td>\n",
       "      <td>ultra</td>\n",
       "      <td>754.159807</td>\n",
       "      <td>6.232113</td>\n",
       "      <td>2021-04-20</td>\n",
       "      <td>4</td>\n",
       "      <td>6</td>\n",
       "      <td>0</td>\n",
       "      <td>199</td>\n",
       "    </tr>\n",
       "    <tr>\n",
       "      <th>3</th>\n",
       "      <td>1</td>\n",
       "      <td>Кира</td>\n",
       "      <td>22</td>\n",
       "      <td>Тюмень</td>\n",
       "      <td>ultra</td>\n",
       "      <td>2694.783254</td>\n",
       "      <td>18.511000</td>\n",
       "      <td>2021-08-11</td>\n",
       "      <td>8</td>\n",
       "      <td>6</td>\n",
       "      <td>0</td>\n",
       "      <td>199</td>\n",
       "    </tr>\n",
       "    <tr>\n",
       "      <th>4</th>\n",
       "      <td>1</td>\n",
       "      <td>Кира</td>\n",
       "      <td>22</td>\n",
       "      <td>Тюмень</td>\n",
       "      <td>ultra</td>\n",
       "      <td>4028.687306</td>\n",
       "      <td>26.265803</td>\n",
       "      <td>2021-08-28</td>\n",
       "      <td>8</td>\n",
       "      <td>6</td>\n",
       "      <td>0</td>\n",
       "      <td>199</td>\n",
       "    </tr>\n",
       "  </tbody>\n",
       "</table>\n",
       "</div>"
      ],
      "text/plain": [
       "   user_id  name  age    city subscription_type     distance   duration  \\\n",
       "0        1  Кира   22  Тюмень             ultra  4409.919140  25.599769   \n",
       "1        1  Кира   22  Тюмень             ultra  2617.592153  15.816871   \n",
       "2        1  Кира   22  Тюмень             ultra   754.159807   6.232113   \n",
       "3        1  Кира   22  Тюмень             ultra  2694.783254  18.511000   \n",
       "4        1  Кира   22  Тюмень             ultra  4028.687306  26.265803   \n",
       "\n",
       "        date  month  minute_price  start_ride_price  subscription_fee  \n",
       "0 2021-01-01      1             6                 0               199  \n",
       "1 2021-01-18      1             6                 0               199  \n",
       "2 2021-04-20      4             6                 0               199  \n",
       "3 2021-08-11      8             6                 0               199  \n",
       "4 2021-08-28      8             6                 0               199  "
      ]
     },
     "execution_count": 99,
     "metadata": {},
     "output_type": "execute_result"
    }
   ],
   "source": [
    "users_ultra = data.query('subscription_type == \"ultra\"')\n",
    "users_ultra.head()"
   ]
  },
  {
   "cell_type": "markdown",
   "id": "1fb3afa4",
   "metadata": {},
   "source": [
    "Далее сравнила пользователь без подписки и с подпиской по расстоянию и времени поездок."
   ]
  },
  {
   "cell_type": "code",
   "execution_count": 100,
   "id": "44857063",
   "metadata": {},
   "outputs": [
    {
     "data": {
      "image/png": "[encoded data removed]",
      "text/plain": [
       "<Figure size 432x288 with 1 Axes>"
      ]
     },
     "metadata": {
      "needs_background": "light"
     },
     "output_type": "display_data"
    },
    {
     "data": {
      "text/plain": [
       "Text(0, 0.5, 'Частота')"
      ]
     },
     "execution_count": 100,
     "metadata": {},
     "output_type": "execute_result"
    },
    {
     "data": {
      "image/png": "[encoded data removed]",
      "text/plain": [
       "<Figure size 432x288 with 1 Axes>"
      ]
     },
     "metadata": {
      "needs_background": "light"
     },
     "output_type": "display_data"
    }
   ],
   "source": [
    "users_free['distance'].plot(kind='hist', bins=40, \n",
    "title = 'Пользователи без подписки')\n",
    "\n",
    "plt.xlabel('Расстояние в метрах')\n",
    "plt.ylabel('Частота')\n",
    "\n",
    "plt.show()\n",
    "\n",
    "users_ultra['distance'].plot(kind='hist', bins=40, \n",
    "title = 'Пользователи с подпиской')\n",
    "plt.xlabel('Расстояние в метрах')\n",
    "plt.ylabel('Частота')"
   ]
  },
  {
   "cell_type": "markdown",
   "id": "0cc08584",
   "metadata": {},
   "source": [
    "Пользователи с подпиской проезжают за одну поездку в среднем чуть больше.\n",
    "\n",
    "Без подписки: около 2500 метров.\n",
    "\n",
    "С подпиской: 3000 метров."
   ]
  },
  {
   "cell_type": "code",
   "execution_count": 101,
   "id": "37d3face",
   "metadata": {},
   "outputs": [
    {
     "data": {
      "image/png": "[encoded data removed]",
      "text/plain": [
       "<Figure size 432x288 with 1 Axes>"
      ]
     },
     "metadata": {
      "needs_background": "light"
     },
     "output_type": "display_data"
    },
    {
     "data": {
      "text/plain": [
       "Text(0, 0.5, 'Частота')"
      ]
     },
     "execution_count": 101,
     "metadata": {},
     "output_type": "execute_result"
    },
    {
     "data": {
      "image/png": "[encoded data removed]",
      "text/plain": [
       "<Figure size 432x288 with 1 Axes>"
      ]
     },
     "metadata": {
      "needs_background": "light"
     },
     "output_type": "display_data"
    }
   ],
   "source": [
    "users_free['duration'].plot(kind='hist', bins=40, \n",
    "title = 'Пользователи без подписки')\n",
    "plt.xlabel('Время одной поездки')\n",
    "plt.ylabel('Частота')\n",
    "plt.show()\n",
    "users_ultra['duration'].plot(kind='hist', bins=40, \n",
    "title = 'Пользователи с подпиской')\n",
    "plt.xlabel('Время одной поездки')\n",
    "plt.ylabel('Частота')"
   ]
  },
  {
   "cell_type": "markdown",
   "id": "bc9e0c7d",
   "metadata": {},
   "source": [
    "Пользователи без подписки в течение одной поездки в среднем проезжают от 12 до 23 минут, пользователи с подпиской - 18-20 минут."
   ]
  },
  {
   "cell_type": "markdown",
   "id": "443e090c",
   "metadata": {},
   "source": [
    " "
   ]
  },
  {
   "cell_type": "markdown",
   "id": "4a77a6d4",
   "metadata": {},
   "source": [
    "В ходе объединения данных:\n",
    "1) были объединены 3 датафрейма в один, а затем из одного датафрейма были выделены ещё два - с данными пользователей без подписки и с подпиской;\n",
    "\n",
    "2) построены графики с данными о расстоянии и времени поездки для пользователей без подписки и с подпиской.\n",
    "\n",
    "Пользователи без подписки чаще всего проезжают в течение одной поездки около 2500 метров, пользователи с подпиской больше - 3000 метров. Время на одну поездку у обеих категорий пользователей примерно одинаковое - около 18 минут."
   ]
  },
  {
   "cell_type": "markdown",
   "id": "b414f79c",
   "metadata": {},
   "source": [
    "#### Шаг 5. Подсчёт выручки"
   ]
  },
  {
   "cell_type": "code",
   "execution_count": 102,
   "id": "1aa9534f",
   "metadata": {
    "scrolled": true
   },
   "outputs": [
    {
     "data": {
      "text/html": [
       "<div>\n",
       "<style scoped>\n",
       "    .dataframe tbody tr th:only-of-type {\n",
       "        vertical-align: middle;\n",
       "    }\n",
       "\n",
       "    .dataframe tbody tr th {\n",
       "        vertical-align: top;\n",
       "    }\n",
       "\n",
       "    .dataframe thead th {\n",
       "        text-align: right;\n",
       "    }\n",
       "</style>\n",
       "<table border=\"1\" class=\"dataframe\">\n",
       "  <thead>\n",
       "    <tr style=\"text-align: right;\">\n",
       "      <th></th>\n",
       "      <th>user_id</th>\n",
       "      <th>name</th>\n",
       "      <th>age</th>\n",
       "      <th>city</th>\n",
       "      <th>subscription_type</th>\n",
       "      <th>distance</th>\n",
       "      <th>duration</th>\n",
       "      <th>date</th>\n",
       "      <th>month</th>\n",
       "      <th>minute_price</th>\n",
       "      <th>start_ride_price</th>\n",
       "      <th>subscription_fee</th>\n",
       "    </tr>\n",
       "  </thead>\n",
       "  <tbody>\n",
       "    <tr>\n",
       "      <th>0</th>\n",
       "      <td>1</td>\n",
       "      <td>Кира</td>\n",
       "      <td>22</td>\n",
       "      <td>Тюмень</td>\n",
       "      <td>ultra</td>\n",
       "      <td>4409.919140</td>\n",
       "      <td>25.599769</td>\n",
       "      <td>2021-01-01</td>\n",
       "      <td>1</td>\n",
       "      <td>6</td>\n",
       "      <td>0</td>\n",
       "      <td>199</td>\n",
       "    </tr>\n",
       "    <tr>\n",
       "      <th>1</th>\n",
       "      <td>1</td>\n",
       "      <td>Кира</td>\n",
       "      <td>22</td>\n",
       "      <td>Тюмень</td>\n",
       "      <td>ultra</td>\n",
       "      <td>2617.592153</td>\n",
       "      <td>15.816871</td>\n",
       "      <td>2021-01-18</td>\n",
       "      <td>1</td>\n",
       "      <td>6</td>\n",
       "      <td>0</td>\n",
       "      <td>199</td>\n",
       "    </tr>\n",
       "    <tr>\n",
       "      <th>2</th>\n",
       "      <td>1</td>\n",
       "      <td>Кира</td>\n",
       "      <td>22</td>\n",
       "      <td>Тюмень</td>\n",
       "      <td>ultra</td>\n",
       "      <td>754.159807</td>\n",
       "      <td>6.232113</td>\n",
       "      <td>2021-04-20</td>\n",
       "      <td>4</td>\n",
       "      <td>6</td>\n",
       "      <td>0</td>\n",
       "      <td>199</td>\n",
       "    </tr>\n",
       "    <tr>\n",
       "      <th>3</th>\n",
       "      <td>1</td>\n",
       "      <td>Кира</td>\n",
       "      <td>22</td>\n",
       "      <td>Тюмень</td>\n",
       "      <td>ultra</td>\n",
       "      <td>2694.783254</td>\n",
       "      <td>18.511000</td>\n",
       "      <td>2021-08-11</td>\n",
       "      <td>8</td>\n",
       "      <td>6</td>\n",
       "      <td>0</td>\n",
       "      <td>199</td>\n",
       "    </tr>\n",
       "    <tr>\n",
       "      <th>4</th>\n",
       "      <td>1</td>\n",
       "      <td>Кира</td>\n",
       "      <td>22</td>\n",
       "      <td>Тюмень</td>\n",
       "      <td>ultra</td>\n",
       "      <td>4028.687306</td>\n",
       "      <td>26.265803</td>\n",
       "      <td>2021-08-28</td>\n",
       "      <td>8</td>\n",
       "      <td>6</td>\n",
       "      <td>0</td>\n",
       "      <td>199</td>\n",
       "    </tr>\n",
       "  </tbody>\n",
       "</table>\n",
       "</div>"
      ],
      "text/plain": [
       "   user_id  name  age    city subscription_type     distance   duration  \\\n",
       "0        1  Кира   22  Тюмень             ultra  4409.919140  25.599769   \n",
       "1        1  Кира   22  Тюмень             ultra  2617.592153  15.816871   \n",
       "2        1  Кира   22  Тюмень             ultra   754.159807   6.232113   \n",
       "3        1  Кира   22  Тюмень             ultra  2694.783254  18.511000   \n",
       "4        1  Кира   22  Тюмень             ultra  4028.687306  26.265803   \n",
       "\n",
       "        date  month  minute_price  start_ride_price  subscription_fee  \n",
       "0 2021-01-01      1             6                 0               199  \n",
       "1 2021-01-18      1             6                 0               199  \n",
       "2 2021-04-20      4             6                 0               199  \n",
       "3 2021-08-11      8             6                 0               199  \n",
       "4 2021-08-28      8             6                 0               199  "
      ]
     },
     "execution_count": 102,
     "metadata": {},
     "output_type": "execute_result"
    }
   ],
   "source": [
    "data.head()"
   ]
  },
  {
   "cell_type": "code",
   "execution_count": 103,
   "id": "f44cf812",
   "metadata": {},
   "outputs": [],
   "source": [
    "data['duration'] = np.ceil(data['duration']) "
   ]
  },
  {
   "cell_type": "code",
   "execution_count": 104,
   "id": "7d92e248",
   "metadata": {},
   "outputs": [
    {
     "data": {
      "text/html": [
       "<div>\n",
       "<style scoped>\n",
       "    .dataframe tbody tr th:only-of-type {\n",
       "        vertical-align: middle;\n",
       "    }\n",
       "\n",
       "    .dataframe tbody tr th {\n",
       "        vertical-align: top;\n",
       "    }\n",
       "\n",
       "    .dataframe thead th {\n",
       "        text-align: right;\n",
       "    }\n",
       "</style>\n",
       "<table border=\"1\" class=\"dataframe\">\n",
       "  <thead>\n",
       "    <tr style=\"text-align: right;\">\n",
       "      <th></th>\n",
       "      <th>user_id</th>\n",
       "      <th>name</th>\n",
       "      <th>age</th>\n",
       "      <th>city</th>\n",
       "      <th>subscription_type</th>\n",
       "      <th>distance</th>\n",
       "      <th>duration</th>\n",
       "      <th>date</th>\n",
       "      <th>month</th>\n",
       "      <th>minute_price</th>\n",
       "      <th>start_ride_price</th>\n",
       "      <th>subscription_fee</th>\n",
       "    </tr>\n",
       "  </thead>\n",
       "  <tbody>\n",
       "    <tr>\n",
       "      <th>0</th>\n",
       "      <td>1</td>\n",
       "      <td>Кира</td>\n",
       "      <td>22</td>\n",
       "      <td>Тюмень</td>\n",
       "      <td>ultra</td>\n",
       "      <td>4409.919140</td>\n",
       "      <td>26.0</td>\n",
       "      <td>2021-01-01</td>\n",
       "      <td>1</td>\n",
       "      <td>6</td>\n",
       "      <td>0</td>\n",
       "      <td>199</td>\n",
       "    </tr>\n",
       "    <tr>\n",
       "      <th>1</th>\n",
       "      <td>1</td>\n",
       "      <td>Кира</td>\n",
       "      <td>22</td>\n",
       "      <td>Тюмень</td>\n",
       "      <td>ultra</td>\n",
       "      <td>2617.592153</td>\n",
       "      <td>16.0</td>\n",
       "      <td>2021-01-18</td>\n",
       "      <td>1</td>\n",
       "      <td>6</td>\n",
       "      <td>0</td>\n",
       "      <td>199</td>\n",
       "    </tr>\n",
       "    <tr>\n",
       "      <th>2</th>\n",
       "      <td>1</td>\n",
       "      <td>Кира</td>\n",
       "      <td>22</td>\n",
       "      <td>Тюмень</td>\n",
       "      <td>ultra</td>\n",
       "      <td>754.159807</td>\n",
       "      <td>7.0</td>\n",
       "      <td>2021-04-20</td>\n",
       "      <td>4</td>\n",
       "      <td>6</td>\n",
       "      <td>0</td>\n",
       "      <td>199</td>\n",
       "    </tr>\n",
       "    <tr>\n",
       "      <th>3</th>\n",
       "      <td>1</td>\n",
       "      <td>Кира</td>\n",
       "      <td>22</td>\n",
       "      <td>Тюмень</td>\n",
       "      <td>ultra</td>\n",
       "      <td>2694.783254</td>\n",
       "      <td>19.0</td>\n",
       "      <td>2021-08-11</td>\n",
       "      <td>8</td>\n",
       "      <td>6</td>\n",
       "      <td>0</td>\n",
       "      <td>199</td>\n",
       "    </tr>\n",
       "    <tr>\n",
       "      <th>4</th>\n",
       "      <td>1</td>\n",
       "      <td>Кира</td>\n",
       "      <td>22</td>\n",
       "      <td>Тюмень</td>\n",
       "      <td>ultra</td>\n",
       "      <td>4028.687306</td>\n",
       "      <td>27.0</td>\n",
       "      <td>2021-08-28</td>\n",
       "      <td>8</td>\n",
       "      <td>6</td>\n",
       "      <td>0</td>\n",
       "      <td>199</td>\n",
       "    </tr>\n",
       "  </tbody>\n",
       "</table>\n",
       "</div>"
      ],
      "text/plain": [
       "   user_id  name  age    city subscription_type     distance  duration  \\\n",
       "0        1  Кира   22  Тюмень             ultra  4409.919140      26.0   \n",
       "1        1  Кира   22  Тюмень             ultra  2617.592153      16.0   \n",
       "2        1  Кира   22  Тюмень             ultra   754.159807       7.0   \n",
       "3        1  Кира   22  Тюмень             ultra  2694.783254      19.0   \n",
       "4        1  Кира   22  Тюмень             ultra  4028.687306      27.0   \n",
       "\n",
       "        date  month  minute_price  start_ride_price  subscription_fee  \n",
       "0 2021-01-01      1             6                 0               199  \n",
       "1 2021-01-18      1             6                 0               199  \n",
       "2 2021-04-20      4             6                 0               199  \n",
       "3 2021-08-11      8             6                 0               199  \n",
       "4 2021-08-28      8             6                 0               199  "
      ]
     },
     "execution_count": 104,
     "metadata": {},
     "output_type": "execute_result"
    }
   ],
   "source": [
    "data.head()"
   ]
  },
  {
   "cell_type": "markdown",
   "id": "9909e26f",
   "metadata": {},
   "source": [
    "Создала датафрейм с агрегированными данными о поездках на основе датафрейма с объединёнными данными из шага 4: найдено суммарное расстояние, количество поездок и суммарное время для каждого пользователя за каждый месяц."
   ]
  },
  {
   "cell_type": "code",
   "execution_count": 105,
   "id": "db556f66",
   "metadata": {},
   "outputs": [],
   "source": [
    "data_new = data.pivot_table(\n",
    "    index=('user_id', 'month', 'start_ride_price', 'subscription_fee', 'minute_price', 'subscription_type'), \n",
    "    values=(\n",
    "        'distance', \n",
    "        'duration'), \n",
    "    aggfunc=({'distance':{'count', 'sum'}, \n",
    "             'duration':'sum'})\n",
    ")\n",
    "data_new.columns= [\n",
    "    'count', 'distance_sum', \n",
    "    'duration_sum']\n",
    "data_new = data_new.reset_index()"
   ]
  },
  {
   "cell_type": "markdown",
   "id": "cff9e7e0",
   "metadata": {},
   "source": [
    "В этот же датафрейм добавила столбец receipts с помесячной выручкой, которую принёс каждый пользователь. \n",
    "\n",
    "Выручка рассчитывалась по формуле: стоимость старта поездки ×  количество поездок + стоимость одной минуты поездки × общая продолжительность всех поездок в минутах + стоимость подписки."
   ]
  },
  {
   "cell_type": "code",
   "execution_count": 106,
   "id": "b866a8d5",
   "metadata": {},
   "outputs": [
    {
     "data": {
      "text/html": [
       "<div>\n",
       "<style scoped>\n",
       "    .dataframe tbody tr th:only-of-type {\n",
       "        vertical-align: middle;\n",
       "    }\n",
       "\n",
       "    .dataframe tbody tr th {\n",
       "        vertical-align: top;\n",
       "    }\n",
       "\n",
       "    .dataframe thead th {\n",
       "        text-align: right;\n",
       "    }\n",
       "</style>\n",
       "<table border=\"1\" class=\"dataframe\">\n",
       "  <thead>\n",
       "    <tr style=\"text-align: right;\">\n",
       "      <th></th>\n",
       "      <th>user_id</th>\n",
       "      <th>month</th>\n",
       "      <th>start_ride_price</th>\n",
       "      <th>subscription_fee</th>\n",
       "      <th>minute_price</th>\n",
       "      <th>subscription_type</th>\n",
       "      <th>count</th>\n",
       "      <th>distance_sum</th>\n",
       "      <th>duration_sum</th>\n",
       "      <th>receipts</th>\n",
       "    </tr>\n",
       "  </thead>\n",
       "  <tbody>\n",
       "    <tr>\n",
       "      <th>0</th>\n",
       "      <td>1</td>\n",
       "      <td>1</td>\n",
       "      <td>0</td>\n",
       "      <td>199</td>\n",
       "      <td>6</td>\n",
       "      <td>ultra</td>\n",
       "      <td>2</td>\n",
       "      <td>7027.511294</td>\n",
       "      <td>42.0</td>\n",
       "      <td>451.0</td>\n",
       "    </tr>\n",
       "    <tr>\n",
       "      <th>1</th>\n",
       "      <td>1</td>\n",
       "      <td>4</td>\n",
       "      <td>0</td>\n",
       "      <td>199</td>\n",
       "      <td>6</td>\n",
       "      <td>ultra</td>\n",
       "      <td>1</td>\n",
       "      <td>754.159807</td>\n",
       "      <td>7.0</td>\n",
       "      <td>241.0</td>\n",
       "    </tr>\n",
       "    <tr>\n",
       "      <th>2</th>\n",
       "      <td>1</td>\n",
       "      <td>8</td>\n",
       "      <td>0</td>\n",
       "      <td>199</td>\n",
       "      <td>6</td>\n",
       "      <td>ultra</td>\n",
       "      <td>2</td>\n",
       "      <td>6723.470560</td>\n",
       "      <td>46.0</td>\n",
       "      <td>475.0</td>\n",
       "    </tr>\n",
       "    <tr>\n",
       "      <th>3</th>\n",
       "      <td>1</td>\n",
       "      <td>10</td>\n",
       "      <td>0</td>\n",
       "      <td>199</td>\n",
       "      <td>6</td>\n",
       "      <td>ultra</td>\n",
       "      <td>2</td>\n",
       "      <td>5809.911100</td>\n",
       "      <td>32.0</td>\n",
       "      <td>391.0</td>\n",
       "    </tr>\n",
       "    <tr>\n",
       "      <th>4</th>\n",
       "      <td>1</td>\n",
       "      <td>11</td>\n",
       "      <td>0</td>\n",
       "      <td>199</td>\n",
       "      <td>6</td>\n",
       "      <td>ultra</td>\n",
       "      <td>3</td>\n",
       "      <td>7003.499363</td>\n",
       "      <td>56.0</td>\n",
       "      <td>535.0</td>\n",
       "    </tr>\n",
       "    <tr>\n",
       "      <th>5</th>\n",
       "      <td>1</td>\n",
       "      <td>12</td>\n",
       "      <td>0</td>\n",
       "      <td>199</td>\n",
       "      <td>6</td>\n",
       "      <td>ultra</td>\n",
       "      <td>2</td>\n",
       "      <td>6751.629942</td>\n",
       "      <td>28.0</td>\n",
       "      <td>367.0</td>\n",
       "    </tr>\n",
       "  </tbody>\n",
       "</table>\n",
       "</div>"
      ],
      "text/plain": [
       "   user_id  month  start_ride_price  subscription_fee  minute_price  \\\n",
       "0        1      1                 0               199             6   \n",
       "1        1      4                 0               199             6   \n",
       "2        1      8                 0               199             6   \n",
       "3        1     10                 0               199             6   \n",
       "4        1     11                 0               199             6   \n",
       "5        1     12                 0               199             6   \n",
       "\n",
       "  subscription_type  count  distance_sum  duration_sum  receipts  \n",
       "0             ultra      2   7027.511294          42.0     451.0  \n",
       "1             ultra      1    754.159807           7.0     241.0  \n",
       "2             ultra      2   6723.470560          46.0     475.0  \n",
       "3             ultra      2   5809.911100          32.0     391.0  \n",
       "4             ultra      3   7003.499363          56.0     535.0  \n",
       "5             ultra      2   6751.629942          28.0     367.0  "
      ]
     },
     "execution_count": 106,
     "metadata": {},
     "output_type": "execute_result"
    }
   ],
   "source": [
    "data_new['receipts'] = (data_new['start_ride_price'] * \n",
    "data_new['count']) + (data_new['minute_price'] * \n",
    "data_new['duration_sum']) + data_new['subscription_fee']\n",
    "data_new.head(6)"
   ]
  },
  {
   "cell_type": "markdown",
   "id": "c5c84261",
   "metadata": {},
   "source": [
    "#### Шаг 6. Проверка гипотез"
   ]
  },
  {
   "cell_type": "markdown",
   "id": "273ee131",
   "metadata": {},
   "source": [
    "**6.1 Важно понять, тратят ли пользователи с подпиской больше времени на поездки? Если да, то пользователи с подпиской могут быть «выгоднее» для компании. Проверьте гипотезу. Используйте исходные данные о продолжительности каждой сессии — отдельно для подписчиков и тех, у кого нет подписки.**"
   ]
  },
  {
   "cell_type": "markdown",
   "id": "be59853f",
   "metadata": {},
   "source": [
    "Здесь нужно сравнить среднее двух выборок.\n",
    "\n",
    "Нулевая гипотеза: пользователи с подпиской и без тратят одинаковое время на поездку.\n",
    "Альтернативная гипотеза:пользователи с подпиской тратят больше времени на поездки."
   ]
  },
  {
   "cell_type": "code",
   "execution_count": 107,
   "id": "8ec3d6ba",
   "metadata": {},
   "outputs": [
    {
     "name": "stdout",
     "output_type": "stream",
     "text": [
      "p-значение: 1.0660216324999745e-20\n",
      "Отвергаем нулевую гипотезу: пользователи с подпиской тратят больше времени на поездки\n"
     ]
    }
   ],
   "source": [
    "alpha = 0.05 \n",
    "\n",
    "results = st.ttest_ind(users_ultra['duration'], users_free['duration'], alternative='greater')\n",
    "print('p-значение:', results.pvalue)\n",
    "\n",
    "if results.pvalue < alpha:\n",
    "    print('Отвергаем нулевую гипотезу: пользователи с подпиской тратят больше времени на поездки')\n",
    "else:\n",
    "    print('Не получилось отвергнуть нулевую гипотезу: пользователи с подпиской и без тратят одинаковое время на поездку') "
   ]
  },
  {
   "cell_type": "markdown",
   "id": "d19fb5e0",
   "metadata": {},
   "source": [
    "**6.2 Расстояние одной поездки в 3130 метров — оптимальное с точки зрения износа самоката. Можно ли сказать, что среднее расстояние, которое проезжают пользователи с подпиской за одну поездку, не превышает 3130 метров? Проверьте гипотезу и сделайте выводы.**"
   ]
  },
  {
   "cell_type": "markdown",
   "id": "7cfcf002",
   "metadata": {},
   "source": [
    "Здесь нужно проверить одностороннюю гипотезу: проезжают ли пользователи с подпиской меньше 3130 метров.\n",
    "Нулевая гипотеза: среднее расстояние, которое проезжают пользователи с подпиской за одну поездку, не превышает 3130 метров.\n",
    "Альтернативная гипотеза: среднее расстояние одной поездки пользователей с подпиской превышает 3130 метров\n"
   ]
  },
  {
   "cell_type": "code",
   "execution_count": 108,
   "id": "81f27a6c",
   "metadata": {},
   "outputs": [
    {
     "name": "stdout",
     "output_type": "stream",
     "text": [
      "p-значение: 0.9195368847849785\n",
      "Не получилось отвергнуть нулевую гипотезу: среднее расстояние одной поездки пользователей с подпиской не превышает 3130 метров \n"
     ]
    }
   ],
   "source": [
    "alpha = 0.05\n",
    "\n",
    "interested_value = 3130\n",
    "\n",
    "results = st.ttest_1samp(users_ultra['distance'], \n",
    "interested_value, alternative='greater')\n",
    "\n",
    "print('p-значение:', results.pvalue )\n",
    "\n",
    "if (results.pvalue < alpha):\n",
    "    print('Отвергаем нулевую гипотезу: среднее расстояние одной поездки пользователей с подпиской превышает 3130 метров')\n",
    "else:\n",
    "    print('Не получилось отвергнуть нулевую гипотезу: среднее расстояние одной поездки пользователей с подпиской не превышает 3130 метров ')"
   ]
  },
  {
   "cell_type": "markdown",
   "id": "4b8582f6",
   "metadata": {},
   "source": [
    "**6.3 Проверьте гипотезу о том, будет ли помесячная выручка от пользователей с подпиской по месяцам выше, чем выручка от пользователей без подписки. Сделайте вывод.**"
   ]
  },
  {
   "cell_type": "markdown",
   "id": "c6d27f4d",
   "metadata": {},
   "source": [
    "Здесь тоже нужно сравнить две выборки.\n",
    "\n",
    "Нулевая гипотеза: помесячные выручки от пользователей с подпиской и без подписки равны.\n",
    "Альтернативная гипотеза: помесячная выручка от пользователей с подпиской больше, чем от пользователей без подписки."
   ]
  },
  {
   "cell_type": "code",
   "execution_count": 109,
   "id": "dc1240c9",
   "metadata": {},
   "outputs": [],
   "source": [
    "data_ultra = data_new.query('subscription_type==\"ultra\"')\n",
    "data_free=data_new.query('subscription_type==\"free\"')\n"
   ]
  },
  {
   "cell_type": "code",
   "execution_count": 110,
   "id": "a3cee650",
   "metadata": {},
   "outputs": [
    {
     "name": "stdout",
     "output_type": "stream",
     "text": [
      "p-значение: 1.6762276547034842e-31\n",
      "Отвергаем нулевую гипотезу: помесячная выручка от пользователей с подпиской больше, чем от пользователей без подписки\n"
     ]
    }
   ],
   "source": [
    "alpha = 0.05\n",
    "results = st.ttest_ind(data_ultra['receipts'], \n",
    "data_free['receipts'], alternative='greater')\n",
    "print('p-значение:', results.pvalue ) \n",
    "\n",
    "if (results.pvalue < alpha):\n",
    "    print('Отвергаем нулевую гипотезу: помесячная выручка от пользователей с подпиской больше, чем от пользователей без подписки')\n",
    "else:\n",
    "    print('Не получилось отвергнуть нулевую гипотезу: помесячные выручки от пользователей с подпиской и без подписки равны ')"
   ]
  },
  {
   "cell_type": "markdown",
   "id": "4f2ac24e",
   "metadata": {},
   "source": [
    "**6.4 Представьте такую ситуацию: техническая команда сервиса обновила сервера, с которыми взаимодействует мобильное приложение. Она надеется, что из-за этого количество обращений в техподдержку значимо снизилось. Некоторый файл содержит для каждого пользователя данные о количестве обращений до обновления и после него. Какой тест вам понадобился бы для проверки этой гипотезы?**"
   ]
  },
  {
   "cell_type": "markdown",
   "id": "22d2b889",
   "metadata": {},
   "source": [
    "Здесь нужно сравнивать парные (зависимые выборки): количество обращений до обновления сервера и после.\n",
    "\n",
    "Для проверки этой гипотезы подойдет **t-критерий Стьюдента для зависимых выборок**.\n",
    "\n",
    "Чтобы проверить гипотезу о равенстве среднего генеральной совокупности для зависимых (парных) выборок в Python, применим метод scipy.stats.ttest_rel()."
   ]
  },
  {
   "cell_type": "markdown",
   "id": "ec0c92bd",
   "metadata": {},
   "source": [
    "**В результате проверки гипотез не удалось отвергнуть следующие гипотезы:**\n",
    "\n",
    "1) пользователи с подпиской тратят больше времени на поездки;\n",
    "\n",
    "2) среднее расстояние одной поездки пользователей с подпиской не превышает 3130 метров;\n",
    "\n",
    "3) помесячная выручка от пользователей с подпиской больше, чем от пользователей без подписки."
   ]
  },
  {
   "cell_type": "markdown",
   "id": "31a6bb5a",
   "metadata": {},
   "source": [
    "# Общий вывод"
   ]
  },
  {
   "cell_type": "markdown",
   "id": "34655c0c",
   "metadata": {},
   "source": [
    "В ходе работы были выполнены следующие задачи:\n",
    "\n",
    "1) Осуществлена предобработка данных: датафреймы проверены на наличие пропусков и дубликатов. Удалены явные дубликаты, изменен тип данных в столбце date на datetime. Обнаружены выбросы в данных.\n",
    "\n",
    "2) Описана и визуализирована общая информация о пользователях и поездках, а также обработаны аномалии: cреди пользователей самокатов чаще встречаются молодые люди в возрасте 23-27 лет, без подписки. Люди старше 30 и меньше 18 встречаются реже. Среднее время сессии - 18-20 минут, расстояние, которое пользователь преодолевает за одну поездку - 3000 метров. Большинство пользователь из Пятигорска, на последнем месте - Москва.\n",
    "\n",
    "3) Объединены данные о пользователях, поездках и подписках в один датафрейм. Созданы ещё два датафрейма из датафрейма: c данными о пользователях без подписки и с данными о пользователях с подпиской. Визуализирована информация о расстоянии и времени поездок для пользователей обеих категорий. Пользователи без подписки чаще всего проезжают в течение одной поездки около 2500 метров, пользователи с подпиской больше - 3000 метров. Среднее время сессии - 18-20 минут для пользователей с подпиской и 12-23 минуты для пользователей без подписки.\n",
    "\n",
    "4) Создан датафрейм с агрегированными данными о поездках: найдены суммарное расстояние, количество поездок и суммарное время для каждого пользователя за каждый месяц. Подсчитана помесячная выручка, которую принёс каждый пользователь.\n",
    "\n",
    "5) Проверено несколько гипотез: \n",
    "\n",
    "- тратят ли пользователи с подпиской больше времени на поездки;\n",
    "- проезжает ли пользователи с подпиской за одну поездку среднее расстояние, которое не первышает 3130 метров?\n",
    "- будет ли помесячная выручка от пользователей с подпиской по месяцам выше, чем выручка от пользователей без подписки?\n",
    "\n",
    "В результате проверки не были отвергнуты следующие гипотезы:\n",
    "\n",
    "1. пользователи с подпиской тратят больше времени на поездки;\n",
    "\n",
    "2. среднее расстояние одной поездки пользователей с подпиской не превышает 3130 метров;\n",
    "\n",
    "3. помесячная выручка от пользователей с подпиской больше, чем от пользователей без подписки.\n",
    "\n",
    "Таким образом, несмотря на то, что пользователей без подписки больше, чем с подпиской, пользователи с подпиской приносят больше выгоды сервису, поэтому имеет смысл удерживать эту категорию + также мотивировать людей переходить на подписку.\n"
   ]
  }
 ],
 "metadata": {
  "ExecuteTimeLog": [
   {
    "duration": 842,
    "start_time": "2024-09-04T09:20:09.786Z"
   },
   {
    "duration": 366,
    "start_time": "2024-09-04T09:20:13.443Z"
   },
   {
    "duration": 23,
    "start_time": "2024-09-04T09:20:35.587Z"
   },
   {
    "duration": 84,
    "start_time": "2024-09-04T09:21:01.492Z"
   },
   {
    "duration": 3,
    "start_time": "2024-09-04T09:21:15.404Z"
   },
   {
    "duration": 84,
    "start_time": "2024-09-04T09:21:15.408Z"
   },
   {
    "duration": 8,
    "start_time": "2024-09-04T09:21:15.493Z"
   },
   {
    "duration": 6,
    "start_time": "2024-09-04T09:21:39.035Z"
   },
   {
    "duration": 9,
    "start_time": "2024-09-04T09:22:26.488Z"
   },
   {
    "duration": 8,
    "start_time": "2024-09-04T09:22:33.327Z"
   },
   {
    "duration": 7,
    "start_time": "2024-09-04T09:22:36.436Z"
   },
   {
    "duration": 7,
    "start_time": "2024-09-04T09:27:16.345Z"
   },
   {
    "duration": 852,
    "start_time": "2024-09-04T09:29:35.852Z"
   },
   {
    "duration": 4,
    "start_time": "2024-09-04T09:29:50.565Z"
   },
   {
    "duration": 9,
    "start_time": "2024-09-04T09:30:02.842Z"
   },
   {
    "duration": 11,
    "start_time": "2024-09-04T09:30:26.248Z"
   },
   {
    "duration": 11,
    "start_time": "2024-09-04T09:30:44.274Z"
   },
   {
    "duration": 10,
    "start_time": "2024-09-04T09:31:19.618Z"
   },
   {
    "duration": 10,
    "start_time": "2024-09-04T09:32:28.311Z"
   },
   {
    "duration": 5,
    "start_time": "2024-09-04T09:33:28.317Z"
   },
   {
    "duration": 817,
    "start_time": "2024-09-04T09:36:51.337Z"
   },
   {
    "duration": 5,
    "start_time": "2024-09-04T09:37:10.426Z"
   },
   {
    "duration": 4,
    "start_time": "2024-09-04T09:38:40.799Z"
   },
   {
    "duration": 7,
    "start_time": "2024-09-04T09:39:20.465Z"
   },
   {
    "duration": 6,
    "start_time": "2024-09-04T09:39:51.336Z"
   },
   {
    "duration": 5,
    "start_time": "2024-09-04T09:41:20.916Z"
   },
   {
    "duration": 5,
    "start_time": "2024-09-04T09:41:34.095Z"
   },
   {
    "duration": 3,
    "start_time": "2024-09-04T09:41:45.255Z"
   },
   {
    "duration": 4,
    "start_time": "2024-09-04T09:41:55.387Z"
   },
   {
    "duration": 13,
    "start_time": "2024-09-04T09:44:16.823Z"
   },
   {
    "duration": 7,
    "start_time": "2024-09-04T09:44:36.757Z"
   },
   {
    "duration": 9,
    "start_time": "2024-09-04T09:45:44.682Z"
   },
   {
    "duration": 8,
    "start_time": "2024-09-04T09:46:23.848Z"
   },
   {
    "duration": 9,
    "start_time": "2024-09-04T09:46:47.141Z"
   },
   {
    "duration": 10,
    "start_time": "2024-09-04T09:46:55.286Z"
   },
   {
    "duration": 12,
    "start_time": "2024-09-04T09:47:07.142Z"
   },
   {
    "duration": 9,
    "start_time": "2024-09-04T09:47:13.818Z"
   },
   {
    "duration": 13,
    "start_time": "2024-09-04T09:47:50.412Z"
   },
   {
    "duration": 8,
    "start_time": "2024-09-04T09:48:06.912Z"
   },
   {
    "duration": 436,
    "start_time": "2024-09-04T09:52:03.508Z"
   },
   {
    "duration": 4,
    "start_time": "2024-09-04T09:52:54.713Z"
   },
   {
    "duration": 15,
    "start_time": "2024-09-04T09:54:08.201Z"
   },
   {
    "duration": 14,
    "start_time": "2024-09-04T09:54:21.856Z"
   },
   {
    "duration": 9,
    "start_time": "2024-09-04T09:54:35.217Z"
   },
   {
    "duration": 11,
    "start_time": "2024-09-04T09:54:46.122Z"
   },
   {
    "duration": 12,
    "start_time": "2024-09-04T09:55:09.609Z"
   },
   {
    "duration": 8,
    "start_time": "2024-09-04T09:56:50.387Z"
   },
   {
    "duration": 6,
    "start_time": "2024-09-04T09:57:02.228Z"
   },
   {
    "duration": 9,
    "start_time": "2024-09-04T09:58:30.741Z"
   },
   {
    "duration": 12,
    "start_time": "2024-09-04T09:58:47.329Z"
   },
   {
    "duration": 10,
    "start_time": "2024-09-04T09:59:10.163Z"
   },
   {
    "duration": 163,
    "start_time": "2024-09-04T09:59:53.602Z"
   },
   {
    "duration": 148,
    "start_time": "2024-09-04T10:01:00.327Z"
   },
   {
    "duration": 159,
    "start_time": "2024-09-04T10:02:04.573Z"
   },
   {
    "duration": 160,
    "start_time": "2024-09-04T10:02:45.611Z"
   },
   {
    "duration": 163,
    "start_time": "2024-09-04T10:03:56.775Z"
   },
   {
    "duration": 149,
    "start_time": "2024-09-04T10:04:05.828Z"
   },
   {
    "duration": 141,
    "start_time": "2024-09-04T10:04:51.172Z"
   },
   {
    "duration": 55,
    "start_time": "2024-09-04T10:05:46.272Z"
   },
   {
    "duration": 143,
    "start_time": "2024-09-04T10:05:58.072Z"
   },
   {
    "duration": 261,
    "start_time": "2024-09-04T10:07:24.721Z"
   },
   {
    "duration": 16,
    "start_time": "2024-09-04T10:10:31.379Z"
   },
   {
    "duration": 11,
    "start_time": "2024-09-04T10:21:13.399Z"
   },
   {
    "duration": 25,
    "start_time": "2024-09-04T10:21:13.432Z"
   },
   {
    "duration": 22,
    "start_time": "2024-09-04T10:21:13.479Z"
   },
   {
    "duration": 14,
    "start_time": "2024-09-04T10:21:13.533Z"
   },
   {
    "duration": 17,
    "start_time": "2024-09-04T10:21:13.585Z"
   },
   {
    "duration": 28,
    "start_time": "2024-09-04T10:21:13.648Z"
   },
   {
    "duration": 5,
    "start_time": "2024-09-04T10:21:13.707Z"
   },
   {
    "duration": 10,
    "start_time": "2024-09-04T10:21:13.741Z"
   },
   {
    "duration": 18,
    "start_time": "2024-09-04T10:21:13.774Z"
   },
   {
    "duration": 10,
    "start_time": "2024-09-04T10:21:13.838Z"
   },
   {
    "duration": 26,
    "start_time": "2024-09-04T10:21:13.884Z"
   },
   {
    "duration": 5,
    "start_time": "2024-09-04T10:21:13.937Z"
   },
   {
    "duration": 14,
    "start_time": "2024-09-04T10:21:13.954Z"
   },
   {
    "duration": 7,
    "start_time": "2024-09-04T10:21:13.989Z"
   },
   {
    "duration": 24,
    "start_time": "2024-09-04T10:21:14.190Z"
   },
   {
    "duration": 2,
    "start_time": "2024-09-04T10:21:14.525Z"
   },
   {
    "duration": 6,
    "start_time": "2024-09-04T10:21:14.971Z"
   },
   {
    "duration": 7,
    "start_time": "2024-09-04T10:26:33.789Z"
   },
   {
    "duration": 172,
    "start_time": "2024-09-04T10:31:48.272Z"
   },
   {
    "duration": 154,
    "start_time": "2024-09-04T10:36:57.268Z"
   },
   {
    "duration": 284,
    "start_time": "2024-09-04T10:36:57.462Z"
   },
   {
    "duration": 1033,
    "start_time": "2024-09-04T10:43:34.614Z"
   },
   {
    "duration": 350,
    "start_time": "2024-09-04T10:43:35.649Z"
   },
   {
    "duration": 12,
    "start_time": "2024-09-04T10:43:36.000Z"
   },
   {
    "duration": 33,
    "start_time": "2024-09-04T10:43:36.015Z"
   },
   {
    "duration": 20,
    "start_time": "2024-09-04T10:43:36.049Z"
   },
   {
    "duration": 18,
    "start_time": "2024-09-04T10:43:36.071Z"
   },
   {
    "duration": 20,
    "start_time": "2024-09-04T10:43:36.091Z"
   },
   {
    "duration": 52,
    "start_time": "2024-09-04T10:43:36.113Z"
   },
   {
    "duration": 11,
    "start_time": "2024-09-04T10:43:36.167Z"
   },
   {
    "duration": 23,
    "start_time": "2024-09-04T10:43:36.181Z"
   },
   {
    "duration": 14,
    "start_time": "2024-09-04T10:43:36.206Z"
   },
   {
    "duration": 55,
    "start_time": "2024-09-04T10:43:36.222Z"
   },
   {
    "duration": 24,
    "start_time": "2024-09-04T10:43:36.279Z"
   },
   {
    "duration": 14,
    "start_time": "2024-09-04T10:43:36.304Z"
   },
   {
    "duration": 26,
    "start_time": "2024-09-04T10:43:36.320Z"
   },
   {
    "duration": 18,
    "start_time": "2024-09-04T10:43:36.348Z"
   },
   {
    "duration": 19,
    "start_time": "2024-09-04T10:43:36.367Z"
   },
   {
    "duration": 10,
    "start_time": "2024-09-04T10:43:36.387Z"
   },
   {
    "duration": 189,
    "start_time": "2024-09-04T10:43:36.398Z"
   },
   {
    "duration": 151,
    "start_time": "2024-09-04T10:43:36.589Z"
   },
   {
    "duration": 287,
    "start_time": "2024-09-04T10:43:36.741Z"
   },
   {
    "duration": 178,
    "start_time": "2024-09-04T10:43:37.029Z"
   },
   {
    "duration": 181,
    "start_time": "2024-09-04T10:43:37.209Z"
   },
   {
    "duration": 9,
    "start_time": "2024-09-04T10:43:37.391Z"
   },
   {
    "duration": 10,
    "start_time": "2024-09-04T10:43:37.402Z"
   },
   {
    "duration": 52,
    "start_time": "2024-09-04T10:43:37.413Z"
   },
   {
    "duration": 0,
    "start_time": "2024-09-04T10:43:37.467Z"
   },
   {
    "duration": 927,
    "start_time": "2024-09-04T10:45:48.492Z"
   },
   {
    "duration": 52,
    "start_time": "2024-09-04T10:46:30.065Z"
   },
   {
    "duration": 182,
    "start_time": "2024-09-04T10:46:36.602Z"
   },
   {
    "duration": 806,
    "start_time": "2024-09-04T10:47:47.799Z"
   },
   {
    "duration": 49,
    "start_time": "2024-09-04T10:50:18.656Z"
   },
   {
    "duration": 1060,
    "start_time": "2024-09-04T10:50:21.577Z"
   },
   {
    "duration": 70,
    "start_time": "2024-09-04T10:50:22.638Z"
   },
   {
    "duration": 13,
    "start_time": "2024-09-04T10:50:22.710Z"
   },
   {
    "duration": 8,
    "start_time": "2024-09-04T10:50:22.725Z"
   },
   {
    "duration": 18,
    "start_time": "2024-09-04T10:50:22.735Z"
   },
   {
    "duration": 8,
    "start_time": "2024-09-04T10:50:22.755Z"
   },
   {
    "duration": 6,
    "start_time": "2024-09-04T10:50:22.764Z"
   },
   {
    "duration": 21,
    "start_time": "2024-09-04T10:50:22.771Z"
   },
   {
    "duration": 27,
    "start_time": "2024-09-04T10:50:22.794Z"
   },
   {
    "duration": 17,
    "start_time": "2024-09-04T10:50:22.824Z"
   },
   {
    "duration": 10,
    "start_time": "2024-09-04T10:50:22.842Z"
   },
   {
    "duration": 9,
    "start_time": "2024-09-04T10:50:22.853Z"
   },
   {
    "duration": 8,
    "start_time": "2024-09-04T10:50:22.863Z"
   },
   {
    "duration": 4,
    "start_time": "2024-09-04T10:50:22.872Z"
   },
   {
    "duration": 4,
    "start_time": "2024-09-04T10:50:22.890Z"
   },
   {
    "duration": 3,
    "start_time": "2024-09-04T10:50:22.895Z"
   },
   {
    "duration": 35,
    "start_time": "2024-09-04T10:50:22.899Z"
   },
   {
    "duration": 12,
    "start_time": "2024-09-04T10:50:22.937Z"
   },
   {
    "duration": 222,
    "start_time": "2024-09-04T10:50:22.950Z"
   },
   {
    "duration": 164,
    "start_time": "2024-09-04T10:50:23.174Z"
   },
   {
    "duration": 271,
    "start_time": "2024-09-04T10:50:23.339Z"
   },
   {
    "duration": 1052,
    "start_time": "2024-09-04T10:51:08.694Z"
   },
   {
    "duration": 70,
    "start_time": "2024-09-04T10:51:09.748Z"
   },
   {
    "duration": 12,
    "start_time": "2024-09-04T10:51:09.819Z"
   },
   {
    "duration": 20,
    "start_time": "2024-09-04T10:51:09.833Z"
   },
   {
    "duration": 15,
    "start_time": "2024-09-04T10:51:09.855Z"
   },
   {
    "duration": 26,
    "start_time": "2024-09-04T10:51:09.871Z"
   },
   {
    "duration": 29,
    "start_time": "2024-09-04T10:51:09.899Z"
   },
   {
    "duration": 13,
    "start_time": "2024-09-04T10:51:09.929Z"
   },
   {
    "duration": 10,
    "start_time": "2024-09-04T10:51:09.944Z"
   },
   {
    "duration": 12,
    "start_time": "2024-09-04T10:51:09.955Z"
   },
   {
    "duration": 9,
    "start_time": "2024-09-04T10:51:09.968Z"
   },
   {
    "duration": 4,
    "start_time": "2024-09-04T10:51:09.979Z"
   },
   {
    "duration": 18,
    "start_time": "2024-09-04T10:51:09.984Z"
   },
   {
    "duration": 10,
    "start_time": "2024-09-04T10:51:10.004Z"
   },
   {
    "duration": 12,
    "start_time": "2024-09-04T10:51:10.016Z"
   },
   {
    "duration": 5,
    "start_time": "2024-09-04T10:51:10.029Z"
   },
   {
    "duration": 16,
    "start_time": "2024-09-04T10:51:10.036Z"
   },
   {
    "duration": 18,
    "start_time": "2024-09-04T10:51:10.054Z"
   },
   {
    "duration": 187,
    "start_time": "2024-09-04T10:51:10.074Z"
   },
   {
    "duration": 152,
    "start_time": "2024-09-04T10:51:10.263Z"
   },
   {
    "duration": 272,
    "start_time": "2024-09-04T10:51:10.417Z"
   },
   {
    "duration": 47,
    "start_time": "2024-09-04T10:53:20.845Z"
   },
   {
    "duration": 1114,
    "start_time": "2024-09-04T10:53:34.549Z"
   },
   {
    "duration": 70,
    "start_time": "2024-09-04T10:53:39.328Z"
   },
   {
    "duration": 13,
    "start_time": "2024-09-04T10:53:41.142Z"
   },
   {
    "duration": 8,
    "start_time": "2024-09-04T10:53:41.771Z"
   },
   {
    "duration": 6,
    "start_time": "2024-09-04T10:53:42.685Z"
   },
   {
    "duration": 8,
    "start_time": "2024-09-04T10:53:43.376Z"
   },
   {
    "duration": 4,
    "start_time": "2024-09-04T10:53:44.045Z"
   },
   {
    "duration": 8,
    "start_time": "2024-09-04T10:53:44.695Z"
   },
   {
    "duration": 11,
    "start_time": "2024-09-04T10:53:45.376Z"
   },
   {
    "duration": 10,
    "start_time": "2024-09-04T10:53:46.045Z"
   },
   {
    "duration": 10,
    "start_time": "2024-09-04T10:53:46.735Z"
   },
   {
    "duration": 4,
    "start_time": "2024-09-04T10:53:47.491Z"
   },
   {
    "duration": 9,
    "start_time": "2024-09-04T10:53:48.296Z"
   },
   {
    "duration": 5,
    "start_time": "2024-09-04T10:53:48.961Z"
   },
   {
    "duration": 4,
    "start_time": "2024-09-04T10:53:49.570Z"
   },
   {
    "duration": 4,
    "start_time": "2024-09-04T10:53:50.211Z"
   },
   {
    "duration": 5,
    "start_time": "2024-09-04T10:53:51.610Z"
   },
   {
    "duration": 10,
    "start_time": "2024-09-04T10:53:52.669Z"
   },
   {
    "duration": 157,
    "start_time": "2024-09-04T10:53:54.401Z"
   },
   {
    "duration": 136,
    "start_time": "2024-09-04T10:53:55.231Z"
   },
   {
    "duration": 259,
    "start_time": "2024-09-04T10:53:56.147Z"
   },
   {
    "duration": 1031,
    "start_time": "2024-09-04T10:56:31.022Z"
   },
   {
    "duration": 69,
    "start_time": "2024-09-04T10:56:34.149Z"
   },
   {
    "duration": 12,
    "start_time": "2024-09-04T10:56:35.762Z"
   },
   {
    "duration": 8,
    "start_time": "2024-09-04T10:56:36.445Z"
   },
   {
    "duration": 6,
    "start_time": "2024-09-04T10:56:37.101Z"
   },
   {
    "duration": 7,
    "start_time": "2024-09-04T10:56:37.792Z"
   },
   {
    "duration": 4,
    "start_time": "2024-09-04T10:56:38.447Z"
   },
   {
    "duration": 9,
    "start_time": "2024-09-04T10:56:39.102Z"
   },
   {
    "duration": 11,
    "start_time": "2024-09-04T10:56:39.721Z"
   },
   {
    "duration": 11,
    "start_time": "2024-09-04T10:56:40.409Z"
   },
   {
    "duration": 9,
    "start_time": "2024-09-04T10:56:41.044Z"
   },
   {
    "duration": 5,
    "start_time": "2024-09-04T10:56:41.770Z"
   },
   {
    "duration": 7,
    "start_time": "2024-09-04T10:56:42.431Z"
   },
   {
    "duration": 5,
    "start_time": "2024-09-04T10:56:43.142Z"
   },
   {
    "duration": 5,
    "start_time": "2024-09-04T10:56:43.788Z"
   },
   {
    "duration": 2,
    "start_time": "2024-09-04T10:56:44.476Z"
   },
   {
    "duration": 4,
    "start_time": "2024-09-04T10:56:45.149Z"
   },
   {
    "duration": 7,
    "start_time": "2024-09-04T10:56:45.789Z"
   },
   {
    "duration": 160,
    "start_time": "2024-09-04T10:56:47.047Z"
   },
   {
    "duration": 131,
    "start_time": "2024-09-04T10:56:47.694Z"
   },
   {
    "duration": 264,
    "start_time": "2024-09-04T10:56:48.413Z"
   },
   {
    "duration": 12,
    "start_time": "2024-09-04T10:56:49.257Z"
   },
   {
    "duration": 155,
    "start_time": "2024-09-04T10:56:50.517Z"
   },
   {
    "duration": 9,
    "start_time": "2024-09-04T10:56:56.116Z"
   },
   {
    "duration": 9,
    "start_time": "2024-09-04T10:56:58.047Z"
   },
   {
    "duration": 50,
    "start_time": "2024-09-04T10:56:58.943Z"
   },
   {
    "duration": 51,
    "start_time": "2024-09-04T10:56:59.547Z"
   },
   {
    "duration": 18,
    "start_time": "2024-09-04T10:57:12.027Z"
   },
   {
    "duration": 17,
    "start_time": "2024-09-04T10:57:30.677Z"
   },
   {
    "duration": 666,
    "start_time": "2024-09-04T10:59:12.095Z"
   },
   {
    "duration": 185,
    "start_time": "2024-09-04T10:59:28.829Z"
   },
   {
    "duration": 155,
    "start_time": "2024-09-04T10:59:37.462Z"
   },
   {
    "duration": 173,
    "start_time": "2024-09-04T10:59:43.008Z"
   },
   {
    "duration": 170,
    "start_time": "2024-09-04T11:00:41.178Z"
   },
   {
    "duration": 18,
    "start_time": "2024-09-04T11:01:12.041Z"
   },
   {
    "duration": 9,
    "start_time": "2024-09-04T11:01:35.499Z"
   },
   {
    "duration": 65,
    "start_time": "2024-09-04T11:01:36.957Z"
   },
   {
    "duration": 6,
    "start_time": "2024-09-04T11:01:42.496Z"
   },
   {
    "duration": 12,
    "start_time": "2024-09-04T11:01:52.786Z"
   },
   {
    "duration": 334,
    "start_time": "2024-09-04T11:03:32.904Z"
   },
   {
    "duration": 349,
    "start_time": "2024-09-04T11:04:12.922Z"
   },
   {
    "duration": 15,
    "start_time": "2024-09-04T11:06:03.284Z"
   },
   {
    "duration": 22,
    "start_time": "2024-09-04T11:06:38.554Z"
   },
   {
    "duration": 8,
    "start_time": "2024-09-04T11:07:38.530Z"
   },
   {
    "duration": 8,
    "start_time": "2024-09-04T11:09:14.037Z"
   },
   {
    "duration": 21,
    "start_time": "2024-09-04T11:17:17.742Z"
   },
   {
    "duration": 31,
    "start_time": "2024-09-04T11:17:25.239Z"
   },
   {
    "duration": 35,
    "start_time": "2024-09-04T11:18:01.794Z"
   },
   {
    "duration": 94,
    "start_time": "2024-09-04T11:18:49.801Z"
   },
   {
    "duration": 36,
    "start_time": "2024-09-04T11:19:02.169Z"
   },
   {
    "duration": 47,
    "start_time": "2024-09-04T11:19:08.407Z"
   },
   {
    "duration": 31,
    "start_time": "2024-09-04T11:19:59.755Z"
   },
   {
    "duration": 21,
    "start_time": "2024-09-04T11:20:49.738Z"
   },
   {
    "duration": 30,
    "start_time": "2024-09-04T11:20:56.802Z"
   },
   {
    "duration": 29,
    "start_time": "2024-09-04T11:21:35.943Z"
   },
   {
    "duration": 40,
    "start_time": "2024-09-04T11:21:50.217Z"
   },
   {
    "duration": 34,
    "start_time": "2024-09-04T11:23:13.728Z"
   },
   {
    "duration": 36,
    "start_time": "2024-09-04T11:23:34.686Z"
   },
   {
    "duration": 38,
    "start_time": "2024-09-04T11:26:24.727Z"
   },
   {
    "duration": 36,
    "start_time": "2024-09-04T11:27:25.263Z"
   },
   {
    "duration": 30,
    "start_time": "2024-09-04T11:27:40.615Z"
   },
   {
    "duration": 31,
    "start_time": "2024-09-04T11:27:53.438Z"
   },
   {
    "duration": 55,
    "start_time": "2024-09-04T11:31:03.493Z"
   },
   {
    "duration": 46,
    "start_time": "2024-09-04T11:31:19.449Z"
   },
   {
    "duration": 28,
    "start_time": "2024-09-04T11:31:37.603Z"
   },
   {
    "duration": 849,
    "start_time": "2024-09-04T11:32:04.397Z"
   },
   {
    "duration": 30,
    "start_time": "2024-09-04T11:32:17.751Z"
   },
   {
    "duration": 42,
    "start_time": "2024-09-04T11:33:41.519Z"
   },
   {
    "duration": 27,
    "start_time": "2024-09-04T11:33:49.339Z"
   },
   {
    "duration": 35,
    "start_time": "2024-09-04T11:33:55.999Z"
   },
   {
    "duration": 29,
    "start_time": "2024-09-04T11:38:34.634Z"
   },
   {
    "duration": 37,
    "start_time": "2024-09-04T11:38:46.088Z"
   },
   {
    "duration": 50,
    "start_time": "2024-09-04T12:03:12.086Z"
   },
   {
    "duration": 63,
    "start_time": "2024-09-04T12:03:27.764Z"
   },
   {
    "duration": 48,
    "start_time": "2024-09-04T12:03:38.740Z"
   },
   {
    "duration": 36,
    "start_time": "2024-09-04T12:03:46.225Z"
   },
   {
    "duration": 36,
    "start_time": "2024-09-04T12:04:04.962Z"
   },
   {
    "duration": 34,
    "start_time": "2024-09-04T12:04:20.406Z"
   },
   {
    "duration": 946,
    "start_time": "2024-09-04T12:05:21.394Z"
   },
   {
    "duration": 35,
    "start_time": "2024-09-04T12:05:41.323Z"
   },
   {
    "duration": 34,
    "start_time": "2024-09-04T12:06:32.036Z"
   },
   {
    "duration": 35,
    "start_time": "2024-09-04T12:06:39.447Z"
   },
   {
    "duration": 36,
    "start_time": "2024-09-04T12:07:40.998Z"
   },
   {
    "duration": 17,
    "start_time": "2024-09-04T12:12:30.498Z"
   },
   {
    "duration": 5,
    "start_time": "2024-09-04T12:13:17.301Z"
   },
   {
    "duration": 5,
    "start_time": "2024-09-04T12:13:48.890Z"
   },
   {
    "duration": 5,
    "start_time": "2024-09-04T12:15:25.539Z"
   },
   {
    "duration": 4,
    "start_time": "2024-09-04T12:16:28.293Z"
   },
   {
    "duration": 5,
    "start_time": "2024-09-04T12:16:33.511Z"
   },
   {
    "duration": 5,
    "start_time": "2024-09-04T12:16:52.836Z"
   },
   {
    "duration": 2,
    "start_time": "2024-09-04T12:17:07.150Z"
   },
   {
    "duration": 73,
    "start_time": "2024-09-04T12:17:07.155Z"
   },
   {
    "duration": 8,
    "start_time": "2024-09-04T12:17:07.230Z"
   },
   {
    "duration": 14,
    "start_time": "2024-09-04T12:17:07.239Z"
   },
   {
    "duration": 7,
    "start_time": "2024-09-04T12:17:07.254Z"
   },
   {
    "duration": 7,
    "start_time": "2024-09-04T12:17:07.263Z"
   },
   {
    "duration": 18,
    "start_time": "2024-09-04T12:17:07.271Z"
   },
   {
    "duration": 9,
    "start_time": "2024-09-04T12:17:07.290Z"
   },
   {
    "duration": 40,
    "start_time": "2024-09-04T12:17:07.301Z"
   },
   {
    "duration": 26,
    "start_time": "2024-09-04T12:17:07.342Z"
   },
   {
    "duration": 10,
    "start_time": "2024-09-04T12:17:07.369Z"
   },
   {
    "duration": 9,
    "start_time": "2024-09-04T12:17:07.381Z"
   },
   {
    "duration": 12,
    "start_time": "2024-09-04T12:17:07.391Z"
   },
   {
    "duration": 5,
    "start_time": "2024-09-04T12:17:07.406Z"
   },
   {
    "duration": 13,
    "start_time": "2024-09-04T12:17:07.412Z"
   },
   {
    "duration": 4,
    "start_time": "2024-09-04T12:17:07.426Z"
   },
   {
    "duration": 12,
    "start_time": "2024-09-04T12:17:07.431Z"
   },
   {
    "duration": 7,
    "start_time": "2024-09-04T12:17:07.445Z"
   },
   {
    "duration": 176,
    "start_time": "2024-09-04T12:17:07.453Z"
   },
   {
    "duration": 253,
    "start_time": "2024-09-04T12:17:07.630Z"
   },
   {
    "duration": 295,
    "start_time": "2024-09-04T12:17:07.884Z"
   },
   {
    "duration": 199,
    "start_time": "2024-09-04T12:17:08.181Z"
   },
   {
    "duration": 184,
    "start_time": "2024-09-04T12:17:08.382Z"
   },
   {
    "duration": 9,
    "start_time": "2024-09-04T12:17:08.568Z"
   },
   {
    "duration": 27,
    "start_time": "2024-09-04T12:17:08.589Z"
   },
   {
    "duration": 29,
    "start_time": "2024-09-04T12:17:08.618Z"
   },
   {
    "duration": 6,
    "start_time": "2024-09-04T12:17:08.649Z"
   },
   {
    "duration": 365,
    "start_time": "2024-09-04T12:17:08.657Z"
   },
   {
    "duration": 335,
    "start_time": "2024-09-04T12:17:09.024Z"
   },
   {
    "duration": 28,
    "start_time": "2024-09-04T12:17:09.361Z"
   },
   {
    "duration": 39,
    "start_time": "2024-09-04T12:17:09.391Z"
   },
   {
    "duration": 5,
    "start_time": "2024-09-04T12:17:09.431Z"
   },
   {
    "duration": 3,
    "start_time": "2024-09-04T12:18:37.943Z"
   },
   {
    "duration": 82,
    "start_time": "2024-09-04T12:18:37.949Z"
   },
   {
    "duration": 9,
    "start_time": "2024-09-04T12:18:38.032Z"
   },
   {
    "duration": 12,
    "start_time": "2024-09-04T12:18:38.042Z"
   },
   {
    "duration": 10,
    "start_time": "2024-09-04T12:18:38.057Z"
   },
   {
    "duration": 10,
    "start_time": "2024-09-04T12:18:38.069Z"
   },
   {
    "duration": 23,
    "start_time": "2024-09-04T12:18:38.090Z"
   },
   {
    "duration": 15,
    "start_time": "2024-09-04T12:18:38.114Z"
   },
   {
    "duration": 16,
    "start_time": "2024-09-04T12:18:38.130Z"
   },
   {
    "duration": 26,
    "start_time": "2024-09-04T12:18:38.147Z"
   },
   {
    "duration": 9,
    "start_time": "2024-09-04T12:18:38.176Z"
   },
   {
    "duration": 8,
    "start_time": "2024-09-04T12:18:38.186Z"
   },
   {
    "duration": 22,
    "start_time": "2024-09-04T12:18:38.195Z"
   },
   {
    "duration": 5,
    "start_time": "2024-09-04T12:18:38.218Z"
   },
   {
    "duration": 5,
    "start_time": "2024-09-04T12:18:38.225Z"
   },
   {
    "duration": 3,
    "start_time": "2024-09-04T12:18:38.231Z"
   },
   {
    "duration": 6,
    "start_time": "2024-09-04T12:18:38.236Z"
   },
   {
    "duration": 10,
    "start_time": "2024-09-04T12:18:38.244Z"
   },
   {
    "duration": 168,
    "start_time": "2024-09-04T12:18:38.255Z"
   },
   {
    "duration": 148,
    "start_time": "2024-09-04T12:18:38.425Z"
   },
   {
    "duration": 390,
    "start_time": "2024-09-04T12:18:38.574Z"
   },
   {
    "duration": 178,
    "start_time": "2024-09-04T12:18:38.965Z"
   },
   {
    "duration": 181,
    "start_time": "2024-09-04T12:18:39.145Z"
   },
   {
    "duration": 10,
    "start_time": "2024-09-04T12:18:39.327Z"
   },
   {
    "duration": 19,
    "start_time": "2024-09-04T12:18:39.339Z"
   },
   {
    "duration": 36,
    "start_time": "2024-09-04T12:18:39.360Z"
   },
   {
    "duration": 7,
    "start_time": "2024-09-04T12:18:39.398Z"
   },
   {
    "duration": 334,
    "start_time": "2024-09-04T12:18:39.407Z"
   },
   {
    "duration": 329,
    "start_time": "2024-09-04T12:18:39.745Z"
   },
   {
    "duration": 40,
    "start_time": "2024-09-04T12:18:40.076Z"
   },
   {
    "duration": 40,
    "start_time": "2024-09-04T12:18:40.118Z"
   },
   {
    "duration": 6,
    "start_time": "2024-09-04T12:18:40.159Z"
   },
   {
    "duration": 6,
    "start_time": "2024-09-04T12:24:46.428Z"
   },
   {
    "duration": 3,
    "start_time": "2024-09-04T12:29:24.198Z"
   },
   {
    "duration": 86,
    "start_time": "2024-09-04T12:29:24.203Z"
   },
   {
    "duration": 8,
    "start_time": "2024-09-04T12:29:24.290Z"
   },
   {
    "duration": 9,
    "start_time": "2024-09-04T12:29:24.299Z"
   },
   {
    "duration": 7,
    "start_time": "2024-09-04T12:29:24.309Z"
   },
   {
    "duration": 8,
    "start_time": "2024-09-04T12:29:24.318Z"
   },
   {
    "duration": 4,
    "start_time": "2024-09-04T12:29:24.328Z"
   },
   {
    "duration": 8,
    "start_time": "2024-09-04T12:29:24.334Z"
   },
   {
    "duration": 9,
    "start_time": "2024-09-04T12:29:24.343Z"
   },
   {
    "duration": 42,
    "start_time": "2024-09-04T12:29:24.354Z"
   },
   {
    "duration": 9,
    "start_time": "2024-09-04T12:29:24.398Z"
   },
   {
    "duration": 12,
    "start_time": "2024-09-04T12:29:24.409Z"
   },
   {
    "duration": 19,
    "start_time": "2024-09-04T12:29:24.422Z"
   },
   {
    "duration": 4,
    "start_time": "2024-09-04T12:29:24.442Z"
   },
   {
    "duration": 4,
    "start_time": "2024-09-04T12:29:24.448Z"
   },
   {
    "duration": 5,
    "start_time": "2024-09-04T12:29:24.453Z"
   },
   {
    "duration": 9,
    "start_time": "2024-09-04T12:29:24.459Z"
   },
   {
    "duration": 22,
    "start_time": "2024-09-04T12:29:24.469Z"
   },
   {
    "duration": 160,
    "start_time": "2024-09-04T12:29:24.492Z"
   },
   {
    "duration": 141,
    "start_time": "2024-09-04T12:29:24.654Z"
   },
   {
    "duration": 265,
    "start_time": "2024-09-04T12:29:24.797Z"
   },
   {
    "duration": 174,
    "start_time": "2024-09-04T12:29:25.064Z"
   },
   {
    "duration": 305,
    "start_time": "2024-09-04T12:29:25.239Z"
   },
   {
    "duration": 10,
    "start_time": "2024-09-04T12:29:25.546Z"
   },
   {
    "duration": 33,
    "start_time": "2024-09-04T12:29:25.558Z"
   },
   {
    "duration": 19,
    "start_time": "2024-09-04T12:29:25.592Z"
   },
   {
    "duration": 7,
    "start_time": "2024-09-04T12:29:25.613Z"
   },
   {
    "duration": 341,
    "start_time": "2024-09-04T12:29:25.622Z"
   },
   {
    "duration": 334,
    "start_time": "2024-09-04T12:29:25.967Z"
   },
   {
    "duration": 20,
    "start_time": "2024-09-04T12:29:26.303Z"
   },
   {
    "duration": 35,
    "start_time": "2024-09-04T12:29:26.324Z"
   },
   {
    "duration": 5,
    "start_time": "2024-09-04T12:29:26.360Z"
   },
   {
    "duration": 9,
    "start_time": "2024-09-04T12:36:57.317Z"
   },
   {
    "duration": 9,
    "start_time": "2024-09-04T12:37:08.665Z"
   },
   {
    "duration": 5,
    "start_time": "2024-09-04T12:37:28.761Z"
   },
   {
    "duration": 5,
    "start_time": "2024-09-04T12:40:45.756Z"
   },
   {
    "duration": 5,
    "start_time": "2024-09-04T12:41:17.753Z"
   },
   {
    "duration": 12,
    "start_time": "2024-09-04T12:42:41.782Z"
   },
   {
    "duration": 43,
    "start_time": "2024-09-04T12:44:35.734Z"
   },
   {
    "duration": 7,
    "start_time": "2024-09-04T12:45:11.348Z"
   },
   {
    "duration": 17,
    "start_time": "2024-09-04T12:46:28.572Z"
   },
   {
    "duration": 16,
    "start_time": "2024-09-04T12:46:46.306Z"
   },
   {
    "duration": 6,
    "start_time": "2024-09-04T12:46:59.724Z"
   },
   {
    "duration": 7,
    "start_time": "2024-09-04T12:47:07.476Z"
   },
   {
    "duration": 5,
    "start_time": "2024-09-04T12:50:13.525Z"
   },
   {
    "duration": 231,
    "start_time": "2024-09-04T13:20:35.845Z"
   },
   {
    "duration": 246,
    "start_time": "2024-09-04T13:25:04.667Z"
   },
   {
    "duration": 103,
    "start_time": "2024-09-04T13:34:38.349Z"
   },
   {
    "duration": 215,
    "start_time": "2024-09-04T13:36:34.679Z"
   },
   {
    "duration": 396,
    "start_time": "2024-09-04T13:39:40.163Z"
   },
   {
    "duration": 9,
    "start_time": "2024-09-04T13:53:05.774Z"
   },
   {
    "duration": 5,
    "start_time": "2024-09-04T13:53:34.953Z"
   },
   {
    "duration": 6,
    "start_time": "2024-09-04T13:53:42.366Z"
   },
   {
    "duration": 141,
    "start_time": "2024-09-04T13:56:14.729Z"
   },
   {
    "duration": 147,
    "start_time": "2024-09-04T13:56:41.817Z"
   },
   {
    "duration": 152,
    "start_time": "2024-09-04T14:02:06.645Z"
   },
   {
    "duration": 5,
    "start_time": "2024-09-04T14:06:04.311Z"
   },
   {
    "duration": 127,
    "start_time": "2024-09-04T14:07:13.384Z"
   },
   {
    "duration": 1077,
    "start_time": "2024-09-04T14:11:08.583Z"
   },
   {
    "duration": 70,
    "start_time": "2024-09-04T14:11:09.662Z"
   },
   {
    "duration": 11,
    "start_time": "2024-09-04T14:11:09.734Z"
   },
   {
    "duration": 19,
    "start_time": "2024-09-04T14:11:09.746Z"
   },
   {
    "duration": 7,
    "start_time": "2024-09-04T14:11:09.767Z"
   },
   {
    "duration": 9,
    "start_time": "2024-09-04T14:11:09.775Z"
   },
   {
    "duration": 9,
    "start_time": "2024-09-04T14:11:09.785Z"
   },
   {
    "duration": 9,
    "start_time": "2024-09-04T14:11:09.796Z"
   },
   {
    "duration": 15,
    "start_time": "2024-09-04T14:11:09.806Z"
   },
   {
    "duration": 12,
    "start_time": "2024-09-04T14:11:09.822Z"
   },
   {
    "duration": 8,
    "start_time": "2024-09-04T14:11:09.836Z"
   },
   {
    "duration": 6,
    "start_time": "2024-09-04T14:11:09.846Z"
   },
   {
    "duration": 12,
    "start_time": "2024-09-04T14:11:09.853Z"
   },
   {
    "duration": 6,
    "start_time": "2024-09-04T14:11:09.889Z"
   },
   {
    "duration": 9,
    "start_time": "2024-09-04T14:11:09.897Z"
   },
   {
    "duration": 4,
    "start_time": "2024-09-04T14:11:09.908Z"
   },
   {
    "duration": 12,
    "start_time": "2024-09-04T14:11:09.914Z"
   },
   {
    "duration": 15,
    "start_time": "2024-09-04T14:11:09.927Z"
   },
   {
    "duration": 185,
    "start_time": "2024-09-04T14:11:09.944Z"
   },
   {
    "duration": 180,
    "start_time": "2024-09-04T14:11:10.131Z"
   },
   {
    "duration": 267,
    "start_time": "2024-09-04T14:11:10.313Z"
   },
   {
    "duration": 184,
    "start_time": "2024-09-04T14:11:10.582Z"
   },
   {
    "duration": 182,
    "start_time": "2024-09-04T14:11:10.768Z"
   },
   {
    "duration": 11,
    "start_time": "2024-09-04T14:11:10.952Z"
   },
   {
    "duration": 33,
    "start_time": "2024-09-04T14:11:10.965Z"
   },
   {
    "duration": 19,
    "start_time": "2024-09-04T14:11:11.000Z"
   },
   {
    "duration": 17,
    "start_time": "2024-09-04T14:11:11.021Z"
   },
   {
    "duration": 331,
    "start_time": "2024-09-04T14:11:11.039Z"
   },
   {
    "duration": 386,
    "start_time": "2024-09-04T14:11:11.372Z"
   },
   {
    "duration": 20,
    "start_time": "2024-09-04T14:11:11.759Z"
   },
   {
    "duration": 63,
    "start_time": "2024-09-04T14:11:11.789Z"
   },
   {
    "duration": 5,
    "start_time": "2024-09-04T14:11:11.854Z"
   },
   {
    "duration": 8,
    "start_time": "2024-09-04T14:11:11.861Z"
   },
   {
    "duration": 42,
    "start_time": "2024-09-04T14:11:11.870Z"
   },
   {
    "duration": 16,
    "start_time": "2024-09-04T14:11:11.913Z"
   },
   {
    "duration": 113,
    "start_time": "2024-09-04T14:11:11.930Z"
   },
   {
    "duration": 0,
    "start_time": "2024-09-04T14:11:12.045Z"
   },
   {
    "duration": 0,
    "start_time": "2024-09-04T14:11:12.046Z"
   },
   {
    "duration": 10,
    "start_time": "2024-09-04T14:17:01.541Z"
   },
   {
    "duration": 128,
    "start_time": "2024-09-04T14:17:04.398Z"
   },
   {
    "duration": 32782,
    "start_time": "2024-09-04T14:17:05.540Z"
   },
   {
    "duration": 1418,
    "start_time": "2024-09-05T11:31:39.153Z"
   },
   {
    "duration": 389,
    "start_time": "2024-09-05T11:31:40.573Z"
   },
   {
    "duration": 13,
    "start_time": "2024-09-05T11:31:40.963Z"
   },
   {
    "duration": 19,
    "start_time": "2024-09-05T11:31:40.978Z"
   },
   {
    "duration": 28,
    "start_time": "2024-09-05T11:31:40.999Z"
   },
   {
    "duration": 12,
    "start_time": "2024-09-05T11:31:41.029Z"
   },
   {
    "duration": 6,
    "start_time": "2024-09-05T11:31:41.042Z"
   },
   {
    "duration": 8,
    "start_time": "2024-09-05T11:31:41.049Z"
   },
   {
    "duration": 23,
    "start_time": "2024-09-05T11:31:41.058Z"
   },
   {
    "duration": 19,
    "start_time": "2024-09-05T11:31:41.083Z"
   },
   {
    "duration": 20,
    "start_time": "2024-09-05T11:31:41.104Z"
   },
   {
    "duration": 10,
    "start_time": "2024-09-05T11:31:41.126Z"
   },
   {
    "duration": 8,
    "start_time": "2024-09-05T11:31:41.137Z"
   },
   {
    "duration": 5,
    "start_time": "2024-09-05T11:31:41.147Z"
   },
   {
    "duration": 5,
    "start_time": "2024-09-05T11:31:41.153Z"
   },
   {
    "duration": 5,
    "start_time": "2024-09-05T11:31:41.159Z"
   },
   {
    "duration": 17,
    "start_time": "2024-09-05T11:31:41.166Z"
   },
   {
    "duration": 13,
    "start_time": "2024-09-05T11:31:41.184Z"
   },
   {
    "duration": 213,
    "start_time": "2024-09-05T11:31:41.198Z"
   },
   {
    "duration": 157,
    "start_time": "2024-09-05T11:31:41.412Z"
   },
   {
    "duration": 273,
    "start_time": "2024-09-05T11:31:41.571Z"
   },
   {
    "duration": 200,
    "start_time": "2024-09-05T11:31:41.846Z"
   },
   {
    "duration": 186,
    "start_time": "2024-09-05T11:31:42.048Z"
   },
   {
    "duration": 10,
    "start_time": "2024-09-05T11:31:42.235Z"
   },
   {
    "duration": 16,
    "start_time": "2024-09-05T11:31:42.247Z"
   },
   {
    "duration": 35,
    "start_time": "2024-09-05T11:31:42.264Z"
   },
   {
    "duration": 6,
    "start_time": "2024-09-05T11:31:42.300Z"
   },
   {
    "duration": 343,
    "start_time": "2024-09-05T11:31:42.309Z"
   },
   {
    "duration": 386,
    "start_time": "2024-09-05T11:31:42.653Z"
   },
   {
    "duration": 21,
    "start_time": "2024-09-05T11:31:43.041Z"
   },
   {
    "duration": 60,
    "start_time": "2024-09-05T11:31:43.063Z"
   },
   {
    "duration": 5,
    "start_time": "2024-09-05T11:31:43.124Z"
   },
   {
    "duration": 7,
    "start_time": "2024-09-05T11:31:43.130Z"
   },
   {
    "duration": 21,
    "start_time": "2024-09-05T11:31:43.139Z"
   },
   {
    "duration": 21,
    "start_time": "2024-09-05T11:31:43.161Z"
   },
   {
    "duration": 114,
    "start_time": "2024-09-05T11:31:43.183Z"
   },
   {
    "duration": 0,
    "start_time": "2024-09-05T11:31:43.298Z"
   },
   {
    "duration": 0,
    "start_time": "2024-09-05T11:31:43.299Z"
   },
   {
    "duration": 3,
    "start_time": "2024-09-05T11:41:43.134Z"
   },
   {
    "duration": 87,
    "start_time": "2024-09-05T11:41:43.139Z"
   },
   {
    "duration": 11,
    "start_time": "2024-09-05T11:41:43.228Z"
   },
   {
    "duration": 28,
    "start_time": "2024-09-05T11:41:43.241Z"
   },
   {
    "duration": 16,
    "start_time": "2024-09-05T11:41:43.270Z"
   },
   {
    "duration": 6,
    "start_time": "2024-09-05T11:41:43.288Z"
   },
   {
    "duration": 12,
    "start_time": "2024-09-05T11:41:43.296Z"
   },
   {
    "duration": 19,
    "start_time": "2024-09-05T11:41:43.309Z"
   },
   {
    "duration": 18,
    "start_time": "2024-09-05T11:41:43.329Z"
   },
   {
    "duration": 13,
    "start_time": "2024-09-05T11:41:43.348Z"
   },
   {
    "duration": 8,
    "start_time": "2024-09-05T11:41:43.363Z"
   },
   {
    "duration": 4,
    "start_time": "2024-09-05T11:41:43.372Z"
   },
   {
    "duration": 14,
    "start_time": "2024-09-05T11:41:43.378Z"
   },
   {
    "duration": 5,
    "start_time": "2024-09-05T11:41:43.393Z"
   },
   {
    "duration": 21,
    "start_time": "2024-09-05T11:41:43.399Z"
   },
   {
    "duration": 9,
    "start_time": "2024-09-05T11:41:43.422Z"
   },
   {
    "duration": 23,
    "start_time": "2024-09-05T11:41:43.433Z"
   },
   {
    "duration": 13,
    "start_time": "2024-09-05T11:41:43.458Z"
   },
   {
    "duration": 147,
    "start_time": "2024-09-05T11:41:43.473Z"
   },
   {
    "duration": 145,
    "start_time": "2024-09-05T11:41:43.621Z"
   },
   {
    "duration": 275,
    "start_time": "2024-09-05T11:41:43.767Z"
   },
   {
    "duration": 179,
    "start_time": "2024-09-05T11:41:44.043Z"
   },
   {
    "duration": 171,
    "start_time": "2024-09-05T11:41:44.223Z"
   },
   {
    "duration": 10,
    "start_time": "2024-09-05T11:41:44.395Z"
   },
   {
    "duration": 57,
    "start_time": "2024-09-05T11:41:44.406Z"
   },
   {
    "duration": 64,
    "start_time": "2024-09-05T11:41:44.465Z"
   },
   {
    "duration": 10,
    "start_time": "2024-09-05T11:41:44.530Z"
   },
   {
    "duration": 333,
    "start_time": "2024-09-05T11:41:44.542Z"
   },
   {
    "duration": 324,
    "start_time": "2024-09-05T11:41:44.876Z"
   },
   {
    "duration": 22,
    "start_time": "2024-09-05T11:41:45.202Z"
   },
   {
    "duration": 161,
    "start_time": "2024-09-05T11:41:45.225Z"
   },
   {
    "duration": 6,
    "start_time": "2024-09-05T11:41:45.389Z"
   },
   {
    "duration": 34,
    "start_time": "2024-09-05T11:41:45.396Z"
   },
   {
    "duration": 33,
    "start_time": "2024-09-05T11:41:45.431Z"
   },
   {
    "duration": 6,
    "start_time": "2024-09-05T11:41:45.465Z"
   },
   {
    "duration": 12,
    "start_time": "2024-09-05T11:41:45.473Z"
   },
   {
    "duration": 0,
    "start_time": "2024-09-05T11:41:45.487Z"
   },
   {
    "duration": 0,
    "start_time": "2024-09-05T11:41:45.489Z"
   },
   {
    "duration": 236,
    "start_time": "2024-09-05T11:51:10.083Z"
   },
   {
    "duration": 172,
    "start_time": "2024-09-05T11:51:32.562Z"
   },
   {
    "duration": 706,
    "start_time": "2024-09-05T11:52:42.780Z"
   },
   {
    "duration": 174,
    "start_time": "2024-09-05T11:52:52.194Z"
   },
   {
    "duration": 183,
    "start_time": "2024-09-05T11:53:27.268Z"
   },
   {
    "duration": 169,
    "start_time": "2024-09-05T11:53:34.146Z"
   },
   {
    "duration": 3,
    "start_time": "2024-09-05T11:54:59.640Z"
   },
   {
    "duration": 87,
    "start_time": "2024-09-05T11:54:59.645Z"
   },
   {
    "duration": 8,
    "start_time": "2024-09-05T11:54:59.734Z"
   },
   {
    "duration": 9,
    "start_time": "2024-09-05T11:54:59.744Z"
   },
   {
    "duration": 22,
    "start_time": "2024-09-05T11:54:59.755Z"
   },
   {
    "duration": 8,
    "start_time": "2024-09-05T11:54:59.778Z"
   },
   {
    "duration": 4,
    "start_time": "2024-09-05T11:54:59.788Z"
   },
   {
    "duration": 8,
    "start_time": "2024-09-05T11:54:59.793Z"
   },
   {
    "duration": 14,
    "start_time": "2024-09-05T11:54:59.803Z"
   },
   {
    "duration": 20,
    "start_time": "2024-09-05T11:54:59.818Z"
   },
   {
    "duration": 16,
    "start_time": "2024-09-05T11:54:59.839Z"
   },
   {
    "duration": 8,
    "start_time": "2024-09-05T11:54:59.857Z"
   },
   {
    "duration": 21,
    "start_time": "2024-09-05T11:54:59.868Z"
   },
   {
    "duration": 5,
    "start_time": "2024-09-05T11:54:59.891Z"
   },
   {
    "duration": 5,
    "start_time": "2024-09-05T11:54:59.898Z"
   },
   {
    "duration": 4,
    "start_time": "2024-09-05T11:54:59.904Z"
   },
   {
    "duration": 6,
    "start_time": "2024-09-05T11:54:59.909Z"
   },
   {
    "duration": 8,
    "start_time": "2024-09-05T11:54:59.917Z"
   },
   {
    "duration": 192,
    "start_time": "2024-09-05T11:54:59.926Z"
   },
   {
    "duration": 170,
    "start_time": "2024-09-05T11:55:00.120Z"
   },
   {
    "duration": 317,
    "start_time": "2024-09-05T11:55:00.292Z"
   },
   {
    "duration": 208,
    "start_time": "2024-09-05T11:55:00.611Z"
   },
   {
    "duration": 178,
    "start_time": "2024-09-05T11:55:00.821Z"
   },
   {
    "duration": 12,
    "start_time": "2024-09-05T11:55:01.001Z"
   },
   {
    "duration": 27,
    "start_time": "2024-09-05T11:55:01.015Z"
   },
   {
    "duration": 20,
    "start_time": "2024-09-05T11:55:01.044Z"
   },
   {
    "duration": 29,
    "start_time": "2024-09-05T11:55:01.066Z"
   },
   {
    "duration": 449,
    "start_time": "2024-09-05T11:55:01.097Z"
   },
   {
    "duration": 374,
    "start_time": "2024-09-05T11:55:01.547Z"
   },
   {
    "duration": 22,
    "start_time": "2024-09-05T11:55:01.922Z"
   },
   {
    "duration": 81,
    "start_time": "2024-09-05T11:55:01.945Z"
   },
   {
    "duration": 10,
    "start_time": "2024-09-05T11:55:02.028Z"
   },
   {
    "duration": 11,
    "start_time": "2024-09-05T11:55:02.039Z"
   },
   {
    "duration": 13,
    "start_time": "2024-09-05T11:55:02.052Z"
   },
   {
    "duration": 6,
    "start_time": "2024-09-05T11:55:02.067Z"
   },
   {
    "duration": 29,
    "start_time": "2024-09-05T11:55:02.089Z"
   },
   {
    "duration": 0,
    "start_time": "2024-09-05T11:55:02.121Z"
   },
   {
    "duration": 0,
    "start_time": "2024-09-05T11:55:02.124Z"
   },
   {
    "duration": 271,
    "start_time": "2024-09-05T11:55:24.074Z"
   },
   {
    "duration": 175,
    "start_time": "2024-09-05T11:56:23.899Z"
   },
   {
    "duration": 175,
    "start_time": "2024-09-05T11:57:14.994Z"
   },
   {
    "duration": 175,
    "start_time": "2024-09-05T11:57:22.146Z"
   },
   {
    "duration": 15,
    "start_time": "2024-09-05T12:01:28.634Z"
   },
   {
    "duration": 14,
    "start_time": "2024-09-05T12:01:34.656Z"
   },
   {
    "duration": 362,
    "start_time": "2024-09-05T12:06:01.658Z"
   },
   {
    "duration": 71,
    "start_time": "2024-09-05T12:06:35.737Z"
   },
   {
    "duration": 438,
    "start_time": "2024-09-05T12:06:44.088Z"
   },
   {
    "duration": 339,
    "start_time": "2024-09-05T12:07:10.618Z"
   },
   {
    "duration": 184,
    "start_time": "2024-09-05T12:07:32.065Z"
   },
   {
    "duration": 178,
    "start_time": "2024-09-05T12:08:06.113Z"
   },
   {
    "duration": 342,
    "start_time": "2024-09-05T12:08:17.033Z"
   },
   {
    "duration": 324,
    "start_time": "2024-09-05T12:08:49.017Z"
   },
   {
    "duration": 334,
    "start_time": "2024-09-05T12:09:07.491Z"
   },
   {
    "duration": 471,
    "start_time": "2024-09-05T12:09:41.097Z"
   },
   {
    "duration": 327,
    "start_time": "2024-09-05T12:11:34.497Z"
   },
   {
    "duration": 12,
    "start_time": "2024-09-05T12:18:43.521Z"
   },
   {
    "duration": 3,
    "start_time": "2024-09-05T12:21:56.948Z"
   },
   {
    "duration": 83,
    "start_time": "2024-09-05T12:21:56.953Z"
   },
   {
    "duration": 8,
    "start_time": "2024-09-05T12:21:57.037Z"
   },
   {
    "duration": 17,
    "start_time": "2024-09-05T12:21:57.046Z"
   },
   {
    "duration": 10,
    "start_time": "2024-09-05T12:21:57.065Z"
   },
   {
    "duration": 7,
    "start_time": "2024-09-05T12:21:57.076Z"
   },
   {
    "duration": 12,
    "start_time": "2024-09-05T12:21:57.085Z"
   },
   {
    "duration": 7,
    "start_time": "2024-09-05T12:21:57.099Z"
   },
   {
    "duration": 10,
    "start_time": "2024-09-05T12:21:57.108Z"
   },
   {
    "duration": 9,
    "start_time": "2024-09-05T12:21:57.119Z"
   },
   {
    "duration": 14,
    "start_time": "2024-09-05T12:21:57.129Z"
   },
   {
    "duration": 7,
    "start_time": "2024-09-05T12:21:57.145Z"
   },
   {
    "duration": 20,
    "start_time": "2024-09-05T12:21:57.155Z"
   },
   {
    "duration": 4,
    "start_time": "2024-09-05T12:21:57.177Z"
   },
   {
    "duration": 30,
    "start_time": "2024-09-05T12:21:57.182Z"
   },
   {
    "duration": 13,
    "start_time": "2024-09-05T12:21:57.213Z"
   },
   {
    "duration": 7,
    "start_time": "2024-09-05T12:21:57.227Z"
   },
   {
    "duration": 8,
    "start_time": "2024-09-05T12:21:57.236Z"
   },
   {
    "duration": 155,
    "start_time": "2024-09-05T12:21:57.246Z"
   },
   {
    "duration": 149,
    "start_time": "2024-09-05T12:21:57.402Z"
   },
   {
    "duration": 261,
    "start_time": "2024-09-05T12:21:57.552Z"
   },
   {
    "duration": 172,
    "start_time": "2024-09-05T12:21:57.815Z"
   },
   {
    "duration": 177,
    "start_time": "2024-09-05T12:21:57.990Z"
   },
   {
    "duration": 10,
    "start_time": "2024-09-05T12:21:58.169Z"
   },
   {
    "duration": 17,
    "start_time": "2024-09-05T12:21:58.190Z"
   },
   {
    "duration": 17,
    "start_time": "2024-09-05T12:21:58.208Z"
   },
   {
    "duration": 14,
    "start_time": "2024-09-05T12:21:58.227Z"
   },
   {
    "duration": 353,
    "start_time": "2024-09-05T12:21:58.243Z"
   },
   {
    "duration": 335,
    "start_time": "2024-09-05T12:21:58.597Z"
   },
   {
    "duration": 11,
    "start_time": "2024-09-05T12:21:58.934Z"
   },
   {
    "duration": 46,
    "start_time": "2024-09-05T12:21:58.947Z"
   },
   {
    "duration": 13,
    "start_time": "2024-09-05T12:21:58.995Z"
   },
   {
    "duration": 5,
    "start_time": "2024-09-05T12:21:59.009Z"
   },
   {
    "duration": 4,
    "start_time": "2024-09-05T12:21:59.016Z"
   },
   {
    "duration": 9,
    "start_time": "2024-09-05T12:21:59.022Z"
   },
   {
    "duration": 5,
    "start_time": "2024-09-05T12:21:59.032Z"
   },
   {
    "duration": 12,
    "start_time": "2024-09-05T12:21:59.040Z"
   },
   {
    "duration": 0,
    "start_time": "2024-09-05T12:21:59.054Z"
   },
   {
    "duration": 0,
    "start_time": "2024-09-05T12:21:59.055Z"
   },
   {
    "duration": 5,
    "start_time": "2024-09-05T12:25:43.928Z"
   },
   {
    "duration": 5,
    "start_time": "2024-09-05T12:30:30.008Z"
   },
   {
    "duration": 61,
    "start_time": "2024-09-05T12:30:48.713Z"
   },
   {
    "duration": 55,
    "start_time": "2024-09-05T12:31:07.136Z"
   },
   {
    "duration": 5,
    "start_time": "2024-09-05T12:31:15.152Z"
   },
   {
    "duration": 7,
    "start_time": "2024-09-05T12:34:32.231Z"
   },
   {
    "duration": 6,
    "start_time": "2024-09-05T12:35:27.823Z"
   },
   {
    "duration": 47,
    "start_time": "2024-09-05T12:35:36.087Z"
   },
   {
    "duration": 51,
    "start_time": "2024-09-05T12:35:39.071Z"
   },
   {
    "duration": 53,
    "start_time": "2024-09-05T12:35:41.936Z"
   },
   {
    "duration": 46,
    "start_time": "2024-09-05T12:35:54.047Z"
   },
   {
    "duration": 53,
    "start_time": "2024-09-05T12:35:57.743Z"
   },
   {
    "duration": 50,
    "start_time": "2024-09-05T12:36:01.295Z"
   },
   {
    "duration": 5,
    "start_time": "2024-09-05T12:36:05.919Z"
   },
   {
    "duration": 2,
    "start_time": "2024-09-05T12:40:43.631Z"
   },
   {
    "duration": 92,
    "start_time": "2024-09-05T12:40:43.635Z"
   },
   {
    "duration": 7,
    "start_time": "2024-09-05T12:40:43.729Z"
   },
   {
    "duration": 9,
    "start_time": "2024-09-05T12:40:43.738Z"
   },
   {
    "duration": 7,
    "start_time": "2024-09-05T12:40:43.748Z"
   },
   {
    "duration": 8,
    "start_time": "2024-09-05T12:40:43.756Z"
   },
   {
    "duration": 12,
    "start_time": "2024-09-05T12:40:43.765Z"
   },
   {
    "duration": 10,
    "start_time": "2024-09-05T12:40:43.779Z"
   },
   {
    "duration": 10,
    "start_time": "2024-09-05T12:40:43.792Z"
   },
   {
    "duration": 35,
    "start_time": "2024-09-05T12:40:43.804Z"
   },
   {
    "duration": 22,
    "start_time": "2024-09-05T12:40:43.841Z"
   },
   {
    "duration": 26,
    "start_time": "2024-09-05T12:40:43.865Z"
   },
   {
    "duration": 16,
    "start_time": "2024-09-05T12:40:43.893Z"
   },
   {
    "duration": 5,
    "start_time": "2024-09-05T12:40:43.911Z"
   },
   {
    "duration": 16,
    "start_time": "2024-09-05T12:40:43.918Z"
   },
   {
    "duration": 4,
    "start_time": "2024-09-05T12:40:43.935Z"
   },
   {
    "duration": 10,
    "start_time": "2024-09-05T12:40:43.941Z"
   },
   {
    "duration": 13,
    "start_time": "2024-09-05T12:40:43.952Z"
   },
   {
    "duration": 155,
    "start_time": "2024-09-05T12:40:43.966Z"
   },
   {
    "duration": 299,
    "start_time": "2024-09-05T12:40:44.122Z"
   },
   {
    "duration": 257,
    "start_time": "2024-09-05T12:40:44.422Z"
   },
   {
    "duration": 182,
    "start_time": "2024-09-05T12:40:44.680Z"
   },
   {
    "duration": 173,
    "start_time": "2024-09-05T12:40:44.864Z"
   },
   {
    "duration": 8,
    "start_time": "2024-09-05T12:40:45.041Z"
   },
   {
    "duration": 40,
    "start_time": "2024-09-05T12:40:45.051Z"
   },
   {
    "duration": 57,
    "start_time": "2024-09-05T12:40:45.092Z"
   },
   {
    "duration": 28,
    "start_time": "2024-09-05T12:40:45.151Z"
   },
   {
    "duration": 362,
    "start_time": "2024-09-05T12:40:45.181Z"
   },
   {
    "duration": 330,
    "start_time": "2024-09-05T12:40:45.544Z"
   },
   {
    "duration": 15,
    "start_time": "2024-09-05T12:40:45.876Z"
   },
   {
    "duration": 49,
    "start_time": "2024-09-05T12:40:45.893Z"
   },
   {
    "duration": 13,
    "start_time": "2024-09-05T12:40:45.943Z"
   },
   {
    "duration": 5,
    "start_time": "2024-09-05T12:40:45.957Z"
   },
   {
    "duration": 8,
    "start_time": "2024-09-05T12:40:45.963Z"
   },
   {
    "duration": 22,
    "start_time": "2024-09-05T12:40:45.972Z"
   },
   {
    "duration": 6,
    "start_time": "2024-09-05T12:40:45.995Z"
   },
   {
    "duration": 25,
    "start_time": "2024-09-05T12:40:46.002Z"
   },
   {
    "duration": 0,
    "start_time": "2024-09-05T12:40:46.028Z"
   },
   {
    "duration": 0,
    "start_time": "2024-09-05T12:40:46.029Z"
   },
   {
    "duration": 53,
    "start_time": "2024-09-05T12:59:35.885Z"
   },
   {
    "duration": 51,
    "start_time": "2024-09-05T12:59:54.621Z"
   },
   {
    "duration": 9,
    "start_time": "2024-09-05T13:00:02.009Z"
   },
   {
    "duration": 11,
    "start_time": "2024-09-05T13:00:30.813Z"
   },
   {
    "duration": 249,
    "start_time": "2024-09-05T13:01:34.110Z"
   },
   {
    "duration": 524,
    "start_time": "2024-09-05T13:02:14.068Z"
   },
   {
    "duration": 179,
    "start_time": "2024-09-05T13:03:01.166Z"
   },
   {
    "duration": 2,
    "start_time": "2024-09-05T13:11:53.273Z"
   },
   {
    "duration": 2,
    "start_time": "2024-09-05T13:11:56.701Z"
   },
   {
    "duration": 888,
    "start_time": "2024-09-05T13:16:27.845Z"
   },
   {
    "duration": 25,
    "start_time": "2024-09-05T13:16:51.885Z"
   },
   {
    "duration": 149,
    "start_time": "2024-09-05T13:17:08.675Z"
   },
   {
    "duration": 51,
    "start_time": "2024-09-05T13:18:54.629Z"
   },
   {
    "duration": 150,
    "start_time": "2024-09-05T13:19:05.519Z"
   },
   {
    "duration": 12,
    "start_time": "2024-09-05T13:22:39.196Z"
   },
   {
    "duration": 741,
    "start_time": "2024-09-05T13:25:08.963Z"
   },
   {
    "duration": 12,
    "start_time": "2024-09-05T13:25:30.557Z"
   },
   {
    "duration": 515,
    "start_time": "2024-09-05T13:26:02.833Z"
   },
   {
    "duration": 180,
    "start_time": "2024-09-05T13:26:16.283Z"
   },
   {
    "duration": 183,
    "start_time": "2024-09-05T13:26:34.225Z"
   },
   {
    "duration": 210,
    "start_time": "2024-09-05T13:26:38.411Z"
   },
   {
    "duration": 197,
    "start_time": "2024-09-05T13:26:52.008Z"
   },
   {
    "duration": 13,
    "start_time": "2024-09-05T13:27:22.459Z"
   },
   {
    "duration": 179,
    "start_time": "2024-09-05T13:30:10.860Z"
   },
   {
    "duration": 175,
    "start_time": "2024-09-05T13:30:43.316Z"
   },
   {
    "duration": 289,
    "start_time": "2024-09-05T13:32:41.892Z"
   },
   {
    "duration": 214,
    "start_time": "2024-09-05T13:38:54.811Z"
   },
   {
    "duration": 220,
    "start_time": "2024-09-05T13:39:05.651Z"
   },
   {
    "duration": 262,
    "start_time": "2024-09-05T13:39:18.355Z"
   },
   {
    "duration": 1117,
    "start_time": "2024-09-05T13:51:35.469Z"
   },
   {
    "duration": 78,
    "start_time": "2024-09-05T13:51:36.590Z"
   },
   {
    "duration": 12,
    "start_time": "2024-09-05T13:51:36.669Z"
   },
   {
    "duration": 18,
    "start_time": "2024-09-05T13:51:36.682Z"
   },
   {
    "duration": 10,
    "start_time": "2024-09-05T13:51:36.702Z"
   },
   {
    "duration": 22,
    "start_time": "2024-09-05T13:51:36.714Z"
   },
   {
    "duration": 5,
    "start_time": "2024-09-05T13:51:36.738Z"
   },
   {
    "duration": 8,
    "start_time": "2024-09-05T13:51:36.744Z"
   },
   {
    "duration": 12,
    "start_time": "2024-09-05T13:51:36.753Z"
   },
   {
    "duration": 26,
    "start_time": "2024-09-05T13:51:36.766Z"
   },
   {
    "duration": 49,
    "start_time": "2024-09-05T13:51:36.793Z"
   },
   {
    "duration": 5,
    "start_time": "2024-09-05T13:51:36.843Z"
   },
   {
    "duration": 10,
    "start_time": "2024-09-05T13:51:36.849Z"
   },
   {
    "duration": 7,
    "start_time": "2024-09-05T13:51:36.862Z"
   },
   {
    "duration": 7,
    "start_time": "2024-09-05T13:51:36.871Z"
   },
   {
    "duration": 6,
    "start_time": "2024-09-05T13:51:36.879Z"
   },
   {
    "duration": 4,
    "start_time": "2024-09-05T13:51:36.886Z"
   },
   {
    "duration": 7,
    "start_time": "2024-09-05T13:51:36.892Z"
   },
   {
    "duration": 180,
    "start_time": "2024-09-05T13:51:36.900Z"
   },
   {
    "duration": 144,
    "start_time": "2024-09-05T13:51:37.082Z"
   },
   {
    "duration": 273,
    "start_time": "2024-09-05T13:51:37.227Z"
   },
   {
    "duration": 9,
    "start_time": "2024-09-05T13:51:37.501Z"
   },
   {
    "duration": 183,
    "start_time": "2024-09-05T13:51:37.512Z"
   },
   {
    "duration": 7,
    "start_time": "2024-09-05T13:51:37.697Z"
   },
   {
    "duration": 183,
    "start_time": "2024-09-05T13:51:37.706Z"
   },
   {
    "duration": 9,
    "start_time": "2024-09-05T13:51:37.891Z"
   },
   {
    "duration": 19,
    "start_time": "2024-09-05T13:51:37.902Z"
   },
   {
    "duration": 16,
    "start_time": "2024-09-05T13:51:37.923Z"
   },
   {
    "duration": 14,
    "start_time": "2024-09-05T13:51:37.941Z"
   },
   {
    "duration": 376,
    "start_time": "2024-09-05T13:51:37.956Z"
   },
   {
    "duration": 396,
    "start_time": "2024-09-05T13:51:38.333Z"
   },
   {
    "duration": 12,
    "start_time": "2024-09-05T13:51:38.730Z"
   },
   {
    "duration": 47,
    "start_time": "2024-09-05T13:51:38.744Z"
   },
   {
    "duration": 16,
    "start_time": "2024-09-05T13:51:38.793Z"
   },
   {
    "duration": 35,
    "start_time": "2024-09-05T13:51:38.811Z"
   },
   {
    "duration": 6,
    "start_time": "2024-09-05T13:51:38.848Z"
   },
   {
    "duration": 9,
    "start_time": "2024-09-05T13:51:38.856Z"
   },
   {
    "duration": 6,
    "start_time": "2024-09-05T13:51:38.867Z"
   },
   {
    "duration": 1043,
    "start_time": "2024-09-05T13:57:53.003Z"
   },
   {
    "duration": 76,
    "start_time": "2024-09-05T13:57:54.047Z"
   },
   {
    "duration": 13,
    "start_time": "2024-09-05T13:57:54.124Z"
   },
   {
    "duration": 12,
    "start_time": "2024-09-05T13:57:54.138Z"
   },
   {
    "duration": 27,
    "start_time": "2024-09-05T13:57:54.152Z"
   },
   {
    "duration": 24,
    "start_time": "2024-09-05T13:57:54.181Z"
   },
   {
    "duration": 7,
    "start_time": "2024-09-05T13:57:54.207Z"
   },
   {
    "duration": 12,
    "start_time": "2024-09-05T13:57:54.215Z"
   },
   {
    "duration": 29,
    "start_time": "2024-09-05T13:57:54.228Z"
   },
   {
    "duration": 19,
    "start_time": "2024-09-05T13:57:54.260Z"
   },
   {
    "duration": 11,
    "start_time": "2024-09-05T13:57:54.280Z"
   },
   {
    "duration": 11,
    "start_time": "2024-09-05T13:57:54.292Z"
   },
   {
    "duration": 8,
    "start_time": "2024-09-05T13:57:54.305Z"
   },
   {
    "duration": 8,
    "start_time": "2024-09-05T13:57:54.314Z"
   },
   {
    "duration": 18,
    "start_time": "2024-09-05T13:57:54.323Z"
   },
   {
    "duration": 4,
    "start_time": "2024-09-05T13:57:54.342Z"
   },
   {
    "duration": 5,
    "start_time": "2024-09-05T13:57:54.347Z"
   },
   {
    "duration": 14,
    "start_time": "2024-09-05T13:57:54.353Z"
   },
   {
    "duration": 173,
    "start_time": "2024-09-05T13:57:54.369Z"
   },
   {
    "duration": 148,
    "start_time": "2024-09-05T13:57:54.543Z"
   },
   {
    "duration": 263,
    "start_time": "2024-09-05T13:57:54.693Z"
   },
   {
    "duration": 8,
    "start_time": "2024-09-05T13:57:54.958Z"
   },
   {
    "duration": 186,
    "start_time": "2024-09-05T13:57:54.968Z"
   },
   {
    "duration": 8,
    "start_time": "2024-09-05T13:57:55.156Z"
   },
   {
    "duration": 190,
    "start_time": "2024-09-05T13:57:55.166Z"
   },
   {
    "duration": 9,
    "start_time": "2024-09-05T13:57:55.358Z"
   },
   {
    "duration": 25,
    "start_time": "2024-09-05T13:57:55.368Z"
   },
   {
    "duration": 18,
    "start_time": "2024-09-05T13:57:55.396Z"
   },
   {
    "duration": 14,
    "start_time": "2024-09-05T13:57:55.415Z"
   },
   {
    "duration": 359,
    "start_time": "2024-09-05T13:57:55.430Z"
   },
   {
    "duration": 389,
    "start_time": "2024-09-05T13:57:55.791Z"
   },
   {
    "duration": 11,
    "start_time": "2024-09-05T13:57:56.189Z"
   },
   {
    "duration": 50,
    "start_time": "2024-09-05T13:57:56.201Z"
   },
   {
    "duration": 13,
    "start_time": "2024-09-05T13:57:56.255Z"
   },
   {
    "duration": 7,
    "start_time": "2024-09-05T13:57:56.269Z"
   },
   {
    "duration": 23,
    "start_time": "2024-09-05T13:57:56.277Z"
   },
   {
    "duration": 17,
    "start_time": "2024-09-05T13:57:56.302Z"
   },
   {
    "duration": 6,
    "start_time": "2024-09-05T13:57:56.320Z"
   },
   {
    "duration": 1075,
    "start_time": "2024-09-05T14:02:54.601Z"
   },
   {
    "duration": 74,
    "start_time": "2024-09-05T14:02:55.678Z"
   },
   {
    "duration": 12,
    "start_time": "2024-09-05T14:02:55.754Z"
   },
   {
    "duration": 11,
    "start_time": "2024-09-05T14:02:55.768Z"
   },
   {
    "duration": 27,
    "start_time": "2024-09-05T14:02:55.780Z"
   },
   {
    "duration": 14,
    "start_time": "2024-09-05T14:02:55.809Z"
   },
   {
    "duration": 5,
    "start_time": "2024-09-05T14:02:55.824Z"
   },
   {
    "duration": 7,
    "start_time": "2024-09-05T14:02:55.831Z"
   },
   {
    "duration": 10,
    "start_time": "2024-09-05T14:02:55.839Z"
   },
   {
    "duration": 12,
    "start_time": "2024-09-05T14:02:55.851Z"
   },
   {
    "duration": 8,
    "start_time": "2024-09-05T14:02:55.865Z"
   },
   {
    "duration": 16,
    "start_time": "2024-09-05T14:02:55.875Z"
   },
   {
    "duration": 7,
    "start_time": "2024-09-05T14:02:55.893Z"
   },
   {
    "duration": 6,
    "start_time": "2024-09-05T14:02:55.901Z"
   },
   {
    "duration": 10,
    "start_time": "2024-09-05T14:02:55.909Z"
   },
   {
    "duration": 10,
    "start_time": "2024-09-05T14:02:55.920Z"
   },
   {
    "duration": 7,
    "start_time": "2024-09-05T14:02:55.932Z"
   },
   {
    "duration": 8,
    "start_time": "2024-09-05T14:02:55.941Z"
   },
   {
    "duration": 185,
    "start_time": "2024-09-05T14:02:55.950Z"
   },
   {
    "duration": 147,
    "start_time": "2024-09-05T14:02:56.137Z"
   },
   {
    "duration": 261,
    "start_time": "2024-09-05T14:02:56.289Z"
   },
   {
    "duration": 8,
    "start_time": "2024-09-05T14:02:56.551Z"
   },
   {
    "duration": 189,
    "start_time": "2024-09-05T14:02:56.560Z"
   },
   {
    "duration": 7,
    "start_time": "2024-09-05T14:02:56.751Z"
   },
   {
    "duration": 189,
    "start_time": "2024-09-05T14:02:56.759Z"
   },
   {
    "duration": 9,
    "start_time": "2024-09-05T14:02:56.949Z"
   },
   {
    "duration": 21,
    "start_time": "2024-09-05T14:02:56.960Z"
   },
   {
    "duration": 17,
    "start_time": "2024-09-05T14:02:56.991Z"
   },
   {
    "duration": 14,
    "start_time": "2024-09-05T14:02:57.010Z"
   },
   {
    "duration": 358,
    "start_time": "2024-09-05T14:02:57.025Z"
   },
   {
    "duration": 398,
    "start_time": "2024-09-05T14:02:57.389Z"
   },
   {
    "duration": 12,
    "start_time": "2024-09-05T14:02:57.789Z"
   },
   {
    "duration": 48,
    "start_time": "2024-09-05T14:02:57.802Z"
   },
   {
    "duration": 12,
    "start_time": "2024-09-05T14:02:57.852Z"
   },
   {
    "duration": 7,
    "start_time": "2024-09-05T14:02:57.866Z"
   },
   {
    "duration": 16,
    "start_time": "2024-09-05T14:02:57.875Z"
   },
   {
    "duration": 22,
    "start_time": "2024-09-05T14:02:57.892Z"
   },
   {
    "duration": 7,
    "start_time": "2024-09-05T14:02:57.915Z"
   },
   {
    "duration": 954,
    "start_time": "2024-09-05T14:39:16.302Z"
   },
   {
    "duration": 63,
    "start_time": "2024-09-05T14:39:17.257Z"
   },
   {
    "duration": 12,
    "start_time": "2024-09-05T14:39:17.322Z"
   },
   {
    "duration": 15,
    "start_time": "2024-09-05T14:39:17.336Z"
   },
   {
    "duration": 7,
    "start_time": "2024-09-05T14:39:17.352Z"
   },
   {
    "duration": 8,
    "start_time": "2024-09-05T14:39:17.360Z"
   },
   {
    "duration": 5,
    "start_time": "2024-09-05T14:39:17.369Z"
   },
   {
    "duration": 11,
    "start_time": "2024-09-05T14:39:17.376Z"
   },
   {
    "duration": 10,
    "start_time": "2024-09-05T14:39:17.389Z"
   },
   {
    "duration": 9,
    "start_time": "2024-09-05T14:39:17.402Z"
   },
   {
    "duration": 9,
    "start_time": "2024-09-05T14:39:17.412Z"
   },
   {
    "duration": 4,
    "start_time": "2024-09-05T14:39:17.451Z"
   },
   {
    "duration": 71,
    "start_time": "2024-09-05T14:39:17.456Z"
   },
   {
    "duration": 4,
    "start_time": "2024-09-05T14:39:17.529Z"
   },
   {
    "duration": 8,
    "start_time": "2024-09-05T14:39:17.534Z"
   },
   {
    "duration": 5,
    "start_time": "2024-09-05T14:39:17.543Z"
   },
   {
    "duration": 9,
    "start_time": "2024-09-05T14:39:17.549Z"
   },
   {
    "duration": 17,
    "start_time": "2024-09-05T14:39:17.559Z"
   },
   {
    "duration": 147,
    "start_time": "2024-09-05T14:39:17.577Z"
   },
   {
    "duration": 116,
    "start_time": "2024-09-05T14:39:17.725Z"
   },
   {
    "duration": 214,
    "start_time": "2024-09-05T14:39:17.843Z"
   },
   {
    "duration": 6,
    "start_time": "2024-09-05T14:39:18.059Z"
   },
   {
    "duration": 176,
    "start_time": "2024-09-05T14:39:18.067Z"
   },
   {
    "duration": 11,
    "start_time": "2024-09-05T14:39:18.245Z"
   },
   {
    "duration": 154,
    "start_time": "2024-09-05T14:39:18.257Z"
   },
   {
    "duration": 8,
    "start_time": "2024-09-05T14:39:18.412Z"
   },
   {
    "duration": 14,
    "start_time": "2024-09-05T14:39:18.421Z"
   },
   {
    "duration": 15,
    "start_time": "2024-09-05T14:39:18.450Z"
   },
   {
    "duration": 11,
    "start_time": "2024-09-05T14:39:18.466Z"
   },
   {
    "duration": 287,
    "start_time": "2024-09-05T14:39:18.478Z"
   },
   {
    "duration": 325,
    "start_time": "2024-09-05T14:39:18.767Z"
   },
   {
    "duration": 10,
    "start_time": "2024-09-05T14:39:19.093Z"
   },
   {
    "duration": 32,
    "start_time": "2024-09-05T14:39:19.104Z"
   },
   {
    "duration": 22,
    "start_time": "2024-09-05T14:39:19.137Z"
   },
   {
    "duration": 4,
    "start_time": "2024-09-05T14:39:19.161Z"
   },
   {
    "duration": 4,
    "start_time": "2024-09-05T14:39:19.166Z"
   },
   {
    "duration": 7,
    "start_time": "2024-09-05T14:39:19.171Z"
   },
   {
    "duration": 4,
    "start_time": "2024-09-05T14:39:19.179Z"
   },
   {
    "duration": 14,
    "start_time": "2024-09-05T14:42:45.797Z"
   },
   {
    "duration": 5,
    "start_time": "2024-09-05T14:44:11.255Z"
   },
   {
    "duration": 1023,
    "start_time": "2024-09-05T14:45:50.533Z"
   },
   {
    "duration": 62,
    "start_time": "2024-09-05T14:45:51.558Z"
   },
   {
    "duration": 11,
    "start_time": "2024-09-05T14:45:51.621Z"
   },
   {
    "duration": 6,
    "start_time": "2024-09-05T14:45:51.634Z"
   },
   {
    "duration": 6,
    "start_time": "2024-09-05T14:45:51.641Z"
   },
   {
    "duration": 8,
    "start_time": "2024-09-05T14:45:51.648Z"
   },
   {
    "duration": 4,
    "start_time": "2024-09-05T14:45:51.657Z"
   },
   {
    "duration": 8,
    "start_time": "2024-09-05T14:45:51.662Z"
   },
   {
    "duration": 10,
    "start_time": "2024-09-05T14:45:51.671Z"
   },
   {
    "duration": 10,
    "start_time": "2024-09-05T14:45:51.683Z"
   },
   {
    "duration": 10,
    "start_time": "2024-09-05T14:45:51.694Z"
   },
   {
    "duration": 3,
    "start_time": "2024-09-05T14:45:51.706Z"
   },
   {
    "duration": 7,
    "start_time": "2024-09-05T14:45:51.710Z"
   },
   {
    "duration": 34,
    "start_time": "2024-09-05T14:45:51.718Z"
   },
   {
    "duration": 4,
    "start_time": "2024-09-05T14:45:51.753Z"
   },
   {
    "duration": 3,
    "start_time": "2024-09-05T14:45:51.759Z"
   },
   {
    "duration": 4,
    "start_time": "2024-09-05T14:45:51.763Z"
   },
   {
    "duration": 7,
    "start_time": "2024-09-05T14:45:51.769Z"
   },
   {
    "duration": 179,
    "start_time": "2024-09-05T14:45:51.778Z"
   },
   {
    "duration": 122,
    "start_time": "2024-09-05T14:45:51.959Z"
   },
   {
    "duration": 216,
    "start_time": "2024-09-05T14:45:52.083Z"
   },
   {
    "duration": 7,
    "start_time": "2024-09-05T14:45:52.300Z"
   },
   {
    "duration": 155,
    "start_time": "2024-09-05T14:45:52.308Z"
   },
   {
    "duration": 7,
    "start_time": "2024-09-05T14:45:52.464Z"
   },
   {
    "duration": 165,
    "start_time": "2024-09-05T14:45:52.472Z"
   },
   {
    "duration": 14,
    "start_time": "2024-09-05T14:45:52.638Z"
   },
   {
    "duration": 14,
    "start_time": "2024-09-05T14:45:52.653Z"
   },
   {
    "duration": 15,
    "start_time": "2024-09-05T14:45:52.670Z"
   },
   {
    "duration": 12,
    "start_time": "2024-09-05T14:45:52.686Z"
   },
   {
    "duration": 302,
    "start_time": "2024-09-05T14:45:52.699Z"
   },
   {
    "duration": 329,
    "start_time": "2024-09-05T14:45:53.003Z"
   },
   {
    "duration": 10,
    "start_time": "2024-09-05T14:45:53.333Z"
   },
   {
    "duration": 30,
    "start_time": "2024-09-05T14:45:53.350Z"
   },
   {
    "duration": 11,
    "start_time": "2024-09-05T14:45:53.381Z"
   },
   {
    "duration": 5,
    "start_time": "2024-09-05T14:45:53.393Z"
   },
   {
    "duration": 3,
    "start_time": "2024-09-05T14:45:53.399Z"
   },
   {
    "duration": 8,
    "start_time": "2024-09-05T14:45:53.403Z"
   },
   {
    "duration": 4,
    "start_time": "2024-09-05T14:45:53.412Z"
   },
   {
    "duration": 1392,
    "start_time": "2024-09-05T16:12:46.655Z"
   },
   {
    "duration": 308,
    "start_time": "2024-09-05T16:12:48.053Z"
   },
   {
    "duration": 13,
    "start_time": "2024-09-05T16:12:48.362Z"
   },
   {
    "duration": 52,
    "start_time": "2024-09-05T16:12:48.376Z"
   },
   {
    "duration": 10,
    "start_time": "2024-09-05T16:12:48.430Z"
   },
   {
    "duration": 13,
    "start_time": "2024-09-05T16:12:48.441Z"
   },
   {
    "duration": 23,
    "start_time": "2024-09-05T16:12:48.455Z"
   },
   {
    "duration": 28,
    "start_time": "2024-09-05T16:12:48.480Z"
   },
   {
    "duration": 59,
    "start_time": "2024-09-05T16:12:48.509Z"
   },
   {
    "duration": 9,
    "start_time": "2024-09-05T16:12:48.570Z"
   },
   {
    "duration": 9,
    "start_time": "2024-09-05T16:12:48.580Z"
   },
   {
    "duration": 10,
    "start_time": "2024-09-05T16:12:48.590Z"
   },
   {
    "duration": 120,
    "start_time": "2024-09-05T16:12:48.602Z"
   },
   {
    "duration": 0,
    "start_time": "2024-09-05T16:12:48.724Z"
   },
   {
    "duration": 0,
    "start_time": "2024-09-05T16:12:48.725Z"
   },
   {
    "duration": 0,
    "start_time": "2024-09-05T16:12:48.726Z"
   },
   {
    "duration": 0,
    "start_time": "2024-09-05T16:12:48.727Z"
   },
   {
    "duration": 0,
    "start_time": "2024-09-05T16:12:48.728Z"
   },
   {
    "duration": 0,
    "start_time": "2024-09-05T16:12:48.729Z"
   },
   {
    "duration": 0,
    "start_time": "2024-09-05T16:12:48.730Z"
   },
   {
    "duration": 0,
    "start_time": "2024-09-05T16:12:48.731Z"
   },
   {
    "duration": 0,
    "start_time": "2024-09-05T16:12:48.733Z"
   },
   {
    "duration": 0,
    "start_time": "2024-09-05T16:12:48.733Z"
   },
   {
    "duration": 0,
    "start_time": "2024-09-05T16:12:48.735Z"
   },
   {
    "duration": 0,
    "start_time": "2024-09-05T16:12:48.735Z"
   },
   {
    "duration": 0,
    "start_time": "2024-09-05T16:12:48.737Z"
   },
   {
    "duration": 0,
    "start_time": "2024-09-05T16:12:48.738Z"
   },
   {
    "duration": 0,
    "start_time": "2024-09-05T16:12:48.738Z"
   },
   {
    "duration": 0,
    "start_time": "2024-09-05T16:12:48.739Z"
   },
   {
    "duration": 0,
    "start_time": "2024-09-05T16:12:48.741Z"
   },
   {
    "duration": 0,
    "start_time": "2024-09-05T16:12:48.742Z"
   },
   {
    "duration": 0,
    "start_time": "2024-09-05T16:12:48.744Z"
   },
   {
    "duration": 0,
    "start_time": "2024-09-05T16:12:48.745Z"
   },
   {
    "duration": 0,
    "start_time": "2024-09-05T16:12:48.747Z"
   },
   {
    "duration": 0,
    "start_time": "2024-09-05T16:12:48.748Z"
   },
   {
    "duration": 0,
    "start_time": "2024-09-05T16:12:48.750Z"
   },
   {
    "duration": 0,
    "start_time": "2024-09-05T16:12:48.751Z"
   },
   {
    "duration": 0,
    "start_time": "2024-09-05T16:12:48.753Z"
   },
   {
    "duration": 0,
    "start_time": "2024-09-05T16:12:48.754Z"
   },
   {
    "duration": 0,
    "start_time": "2024-09-05T16:12:48.756Z"
   },
   {
    "duration": 0,
    "start_time": "2024-09-05T16:12:48.757Z"
   },
   {
    "duration": 7,
    "start_time": "2024-09-05T16:13:39.074Z"
   },
   {
    "duration": 7,
    "start_time": "2024-09-05T16:13:40.746Z"
   },
   {
    "duration": 8,
    "start_time": "2024-09-05T16:13:47.299Z"
   },
   {
    "duration": 7,
    "start_time": "2024-09-05T16:14:28.382Z"
   },
   {
    "duration": 9,
    "start_time": "2024-09-05T16:14:47.229Z"
   },
   {
    "duration": 7,
    "start_time": "2024-09-05T16:14:54.666Z"
   },
   {
    "duration": 12,
    "start_time": "2024-09-05T16:16:46.045Z"
   },
   {
    "duration": 1225,
    "start_time": "2024-09-05T16:19:27.173Z"
   },
   {
    "duration": 70,
    "start_time": "2024-09-05T16:19:28.400Z"
   },
   {
    "duration": 12,
    "start_time": "2024-09-05T16:19:28.472Z"
   },
   {
    "duration": 9,
    "start_time": "2024-09-05T16:19:28.486Z"
   },
   {
    "duration": 76,
    "start_time": "2024-09-05T16:19:28.496Z"
   },
   {
    "duration": 15,
    "start_time": "2024-09-05T16:19:28.573Z"
   },
   {
    "duration": 28,
    "start_time": "2024-09-05T16:19:28.589Z"
   },
   {
    "duration": 14,
    "start_time": "2024-09-05T16:19:28.619Z"
   },
   {
    "duration": 23,
    "start_time": "2024-09-05T16:19:28.635Z"
   },
   {
    "duration": 10,
    "start_time": "2024-09-05T16:19:28.661Z"
   },
   {
    "duration": 5,
    "start_time": "2024-09-05T16:19:28.673Z"
   },
   {
    "duration": 29,
    "start_time": "2024-09-05T16:19:28.679Z"
   },
   {
    "duration": 12,
    "start_time": "2024-09-05T16:19:28.710Z"
   },
   {
    "duration": 10,
    "start_time": "2024-09-05T16:19:28.724Z"
   },
   {
    "duration": 6,
    "start_time": "2024-09-05T16:19:28.736Z"
   },
   {
    "duration": 6,
    "start_time": "2024-09-05T16:19:28.744Z"
   },
   {
    "duration": 10,
    "start_time": "2024-09-05T16:19:28.752Z"
   },
   {
    "duration": 42,
    "start_time": "2024-09-05T16:19:28.763Z"
   },
   {
    "duration": 5,
    "start_time": "2024-09-05T16:19:28.807Z"
   },
   {
    "duration": 4,
    "start_time": "2024-09-05T16:19:28.814Z"
   },
   {
    "duration": 9,
    "start_time": "2024-09-05T16:19:28.819Z"
   },
   {
    "duration": 25,
    "start_time": "2024-09-05T16:19:28.829Z"
   },
   {
    "duration": 228,
    "start_time": "2024-09-05T16:19:28.856Z"
   },
   {
    "duration": 164,
    "start_time": "2024-09-05T16:19:29.085Z"
   },
   {
    "duration": 306,
    "start_time": "2024-09-05T16:19:29.251Z"
   },
   {
    "duration": 9,
    "start_time": "2024-09-05T16:19:29.558Z"
   },
   {
    "duration": 270,
    "start_time": "2024-09-05T16:19:29.569Z"
   },
   {
    "duration": 8,
    "start_time": "2024-09-05T16:19:29.843Z"
   },
   {
    "duration": 228,
    "start_time": "2024-09-05T16:19:29.853Z"
   },
   {
    "duration": 11,
    "start_time": "2024-09-05T16:19:30.082Z"
   },
   {
    "duration": 68,
    "start_time": "2024-09-05T16:19:30.094Z"
   },
   {
    "duration": 19,
    "start_time": "2024-09-05T16:19:30.163Z"
   },
   {
    "duration": 47,
    "start_time": "2024-09-05T16:19:30.184Z"
   },
   {
    "duration": 392,
    "start_time": "2024-09-05T16:19:30.233Z"
   },
   {
    "duration": 484,
    "start_time": "2024-09-05T16:19:30.627Z"
   },
   {
    "duration": 17,
    "start_time": "2024-09-05T16:19:31.114Z"
   },
   {
    "duration": 51,
    "start_time": "2024-09-05T16:19:31.133Z"
   },
   {
    "duration": 42,
    "start_time": "2024-09-05T16:19:31.186Z"
   },
   {
    "duration": 45,
    "start_time": "2024-09-05T16:19:31.229Z"
   },
   {
    "duration": 7,
    "start_time": "2024-09-05T16:19:31.276Z"
   },
   {
    "duration": 11,
    "start_time": "2024-09-05T16:19:31.285Z"
   },
   {
    "duration": 21,
    "start_time": "2024-09-05T16:19:31.297Z"
   },
   {
    "duration": 207,
    "start_time": "2024-09-05T16:20:30.981Z"
   },
   {
    "duration": 72,
    "start_time": "2024-09-05T16:21:46.021Z"
   },
   {
    "duration": 117,
    "start_time": "2024-09-05T16:22:00.104Z"
   },
   {
    "duration": 22,
    "start_time": "2024-09-05T16:22:23.194Z"
   },
   {
    "duration": 142,
    "start_time": "2024-09-05T16:22:56.545Z"
   },
   {
    "duration": 16,
    "start_time": "2024-09-05T16:24:11.435Z"
   },
   {
    "duration": 23,
    "start_time": "2024-09-05T16:24:24.695Z"
   },
   {
    "duration": 177,
    "start_time": "2024-09-05T16:25:03.751Z"
   },
   {
    "duration": 174,
    "start_time": "2024-09-05T16:26:00.049Z"
   },
   {
    "duration": 13,
    "start_time": "2024-09-05T16:26:27.822Z"
   },
   {
    "duration": 104,
    "start_time": "2024-09-05T16:27:45.186Z"
   },
   {
    "duration": 77,
    "start_time": "2024-09-05T16:28:59.277Z"
   },
   {
    "duration": 77,
    "start_time": "2024-09-05T16:29:07.314Z"
   },
   {
    "duration": 105,
    "start_time": "2024-09-05T16:31:51.721Z"
   },
   {
    "duration": 109,
    "start_time": "2024-09-05T16:32:05.651Z"
   },
   {
    "duration": 176,
    "start_time": "2024-09-05T16:33:14.577Z"
   },
   {
    "duration": 217,
    "start_time": "2024-09-05T16:33:33.613Z"
   },
   {
    "duration": 193,
    "start_time": "2024-09-05T16:33:39.085Z"
   },
   {
    "duration": 227,
    "start_time": "2024-09-05T16:33:49.998Z"
   },
   {
    "duration": 320,
    "start_time": "2024-09-05T16:34:06.025Z"
   },
   {
    "duration": 180,
    "start_time": "2024-09-05T16:34:22.863Z"
   },
   {
    "duration": 6,
    "start_time": "2024-09-05T16:35:04.639Z"
   },
   {
    "duration": 185,
    "start_time": "2024-09-05T16:42:16.314Z"
   },
   {
    "duration": 371,
    "start_time": "2024-09-05T16:42:28.334Z"
   },
   {
    "duration": 368,
    "start_time": "2024-09-05T16:42:46.100Z"
   },
   {
    "duration": 1180,
    "start_time": "2024-09-05T16:45:21.696Z"
   },
   {
    "duration": 82,
    "start_time": "2024-09-05T16:45:22.878Z"
   },
   {
    "duration": 15,
    "start_time": "2024-09-05T16:45:22.961Z"
   },
   {
    "duration": 9,
    "start_time": "2024-09-05T16:45:22.978Z"
   },
   {
    "duration": 29,
    "start_time": "2024-09-05T16:45:22.990Z"
   },
   {
    "duration": 13,
    "start_time": "2024-09-05T16:45:23.021Z"
   },
   {
    "duration": 13,
    "start_time": "2024-09-05T16:45:23.036Z"
   },
   {
    "duration": 10,
    "start_time": "2024-09-05T16:45:23.050Z"
   },
   {
    "duration": 8,
    "start_time": "2024-09-05T16:45:23.062Z"
   },
   {
    "duration": 35,
    "start_time": "2024-09-05T16:45:23.071Z"
   },
   {
    "duration": 5,
    "start_time": "2024-09-05T16:45:23.117Z"
   },
   {
    "duration": 23,
    "start_time": "2024-09-05T16:45:23.124Z"
   },
   {
    "duration": 7,
    "start_time": "2024-09-05T16:45:23.149Z"
   },
   {
    "duration": 9,
    "start_time": "2024-09-05T16:45:23.160Z"
   },
   {
    "duration": 6,
    "start_time": "2024-09-05T16:45:23.171Z"
   },
   {
    "duration": 34,
    "start_time": "2024-09-05T16:45:23.179Z"
   },
   {
    "duration": 17,
    "start_time": "2024-09-05T16:45:23.215Z"
   },
   {
    "duration": 16,
    "start_time": "2024-09-05T16:45:23.234Z"
   },
   {
    "duration": 26,
    "start_time": "2024-09-05T16:45:23.252Z"
   },
   {
    "duration": 66,
    "start_time": "2024-09-05T16:45:23.280Z"
   },
   {
    "duration": 18,
    "start_time": "2024-09-05T16:45:23.348Z"
   },
   {
    "duration": 14,
    "start_time": "2024-09-05T16:45:23.369Z"
   },
   {
    "duration": 33,
    "start_time": "2024-09-05T16:45:23.385Z"
   },
   {
    "duration": 207,
    "start_time": "2024-09-05T16:45:23.424Z"
   },
   {
    "duration": 110,
    "start_time": "2024-09-05T16:45:23.633Z"
   },
   {
    "duration": 5,
    "start_time": "2024-09-05T16:45:23.745Z"
   },
   {
    "duration": 201,
    "start_time": "2024-09-05T16:45:23.752Z"
   },
   {
    "duration": 11,
    "start_time": "2024-09-05T16:45:23.955Z"
   },
   {
    "duration": 251,
    "start_time": "2024-09-05T16:45:23.968Z"
   },
   {
    "duration": 9,
    "start_time": "2024-09-05T16:45:24.221Z"
   },
   {
    "duration": 234,
    "start_time": "2024-09-05T16:45:24.232Z"
   },
   {
    "duration": 10,
    "start_time": "2024-09-05T16:45:24.468Z"
   },
   {
    "duration": 35,
    "start_time": "2024-09-05T16:45:24.480Z"
   },
   {
    "duration": 27,
    "start_time": "2024-09-05T16:45:24.517Z"
   },
   {
    "duration": 46,
    "start_time": "2024-09-05T16:45:24.546Z"
   },
   {
    "duration": 405,
    "start_time": "2024-09-05T16:45:24.594Z"
   },
   {
    "duration": 414,
    "start_time": "2024-09-05T16:45:25.004Z"
   },
   {
    "duration": 13,
    "start_time": "2024-09-05T16:45:25.420Z"
   },
   {
    "duration": 139,
    "start_time": "2024-09-05T16:45:25.435Z"
   },
   {
    "duration": 15,
    "start_time": "2024-09-05T16:45:25.576Z"
   },
   {
    "duration": 9,
    "start_time": "2024-09-05T16:45:25.604Z"
   },
   {
    "duration": 13,
    "start_time": "2024-09-05T16:45:25.614Z"
   },
   {
    "duration": 16,
    "start_time": "2024-09-05T16:45:25.629Z"
   },
   {
    "duration": 7,
    "start_time": "2024-09-05T16:45:25.646Z"
   },
   {
    "duration": 1146,
    "start_time": "2024-09-05T16:46:46.473Z"
   },
   {
    "duration": 69,
    "start_time": "2024-09-05T16:46:49.817Z"
   },
   {
    "duration": 18,
    "start_time": "2024-09-05T16:46:50.978Z"
   },
   {
    "duration": 19,
    "start_time": "2024-09-05T16:46:52.314Z"
   },
   {
    "duration": 7,
    "start_time": "2024-09-05T16:46:53.220Z"
   },
   {
    "duration": 12,
    "start_time": "2024-09-05T16:46:54.846Z"
   },
   {
    "duration": 15,
    "start_time": "2024-09-05T16:46:55.566Z"
   },
   {
    "duration": 14,
    "start_time": "2024-09-05T16:46:56.372Z"
   },
   {
    "duration": 7,
    "start_time": "2024-09-05T16:46:58.631Z"
   },
   {
    "duration": 10,
    "start_time": "2024-09-05T16:46:59.257Z"
   },
   {
    "duration": 5,
    "start_time": "2024-09-05T16:46:59.998Z"
   },
   {
    "duration": 10,
    "start_time": "2024-09-05T16:47:01.691Z"
   },
   {
    "duration": 7,
    "start_time": "2024-09-05T16:47:03.271Z"
   },
   {
    "duration": 7,
    "start_time": "2024-09-05T16:47:04.043Z"
   },
   {
    "duration": 6,
    "start_time": "2024-09-05T16:47:05.040Z"
   },
   {
    "duration": 15,
    "start_time": "2024-09-05T16:47:06.402Z"
   },
   {
    "duration": 9,
    "start_time": "2024-09-05T16:47:07.064Z"
   },
   {
    "duration": 5,
    "start_time": "2024-09-05T16:47:07.594Z"
   },
   {
    "duration": 4,
    "start_time": "2024-09-05T16:47:08.317Z"
   },
   {
    "duration": 3,
    "start_time": "2024-09-05T16:47:08.517Z"
   },
   {
    "duration": 5,
    "start_time": "2024-09-05T16:47:08.851Z"
   },
   {
    "duration": 8,
    "start_time": "2024-09-05T16:47:09.337Z"
   },
   {
    "duration": 16,
    "start_time": "2024-09-05T16:47:11.561Z"
   },
   {
    "duration": 223,
    "start_time": "2024-09-05T16:47:12.100Z"
   },
   {
    "duration": 100,
    "start_time": "2024-09-05T16:47:18.329Z"
   },
   {
    "duration": 7,
    "start_time": "2024-09-05T16:47:21.766Z"
   },
   {
    "duration": 168,
    "start_time": "2024-09-05T16:47:22.734Z"
   },
   {
    "duration": 11,
    "start_time": "2024-09-05T16:47:29.160Z"
   },
   {
    "duration": 240,
    "start_time": "2024-09-05T16:47:49.106Z"
   },
   {
    "duration": 4,
    "start_time": "2024-09-05T16:49:35.269Z"
   },
   {
    "duration": 134,
    "start_time": "2024-09-05T16:49:35.276Z"
   },
   {
    "duration": 11,
    "start_time": "2024-09-05T16:49:35.413Z"
   },
   {
    "duration": 36,
    "start_time": "2024-09-05T16:49:35.425Z"
   },
   {
    "duration": 21,
    "start_time": "2024-09-05T16:49:35.463Z"
   },
   {
    "duration": 55,
    "start_time": "2024-09-05T16:49:35.485Z"
   },
   {
    "duration": 27,
    "start_time": "2024-09-05T16:49:35.541Z"
   },
   {
    "duration": 13,
    "start_time": "2024-09-05T16:49:35.569Z"
   },
   {
    "duration": 37,
    "start_time": "2024-09-05T16:49:35.583Z"
   },
   {
    "duration": 62,
    "start_time": "2024-09-05T16:49:35.622Z"
   },
   {
    "duration": 9,
    "start_time": "2024-09-05T16:49:35.687Z"
   },
   {
    "duration": 20,
    "start_time": "2024-09-05T16:49:35.697Z"
   },
   {
    "duration": 16,
    "start_time": "2024-09-05T16:49:35.719Z"
   },
   {
    "duration": 11,
    "start_time": "2024-09-05T16:49:35.737Z"
   },
   {
    "duration": 13,
    "start_time": "2024-09-05T16:49:35.750Z"
   },
   {
    "duration": 33,
    "start_time": "2024-09-05T16:49:35.764Z"
   },
   {
    "duration": 38,
    "start_time": "2024-09-05T16:49:35.799Z"
   },
   {
    "duration": 19,
    "start_time": "2024-09-05T16:49:35.839Z"
   },
   {
    "duration": 27,
    "start_time": "2024-09-05T16:49:35.860Z"
   },
   {
    "duration": 37,
    "start_time": "2024-09-05T16:49:35.889Z"
   },
   {
    "duration": 62,
    "start_time": "2024-09-05T16:49:35.928Z"
   },
   {
    "duration": 37,
    "start_time": "2024-09-05T16:49:35.992Z"
   },
   {
    "duration": 38,
    "start_time": "2024-09-05T16:49:36.031Z"
   },
   {
    "duration": 193,
    "start_time": "2024-09-05T16:49:36.071Z"
   },
   {
    "duration": 127,
    "start_time": "2024-09-05T16:49:36.266Z"
   },
   {
    "duration": 26,
    "start_time": "2024-09-05T16:49:36.395Z"
   },
   {
    "duration": 186,
    "start_time": "2024-09-05T16:49:36.422Z"
   },
   {
    "duration": 9,
    "start_time": "2024-09-05T16:49:36.609Z"
   },
   {
    "duration": 272,
    "start_time": "2024-09-05T16:49:36.624Z"
   },
   {
    "duration": 15,
    "start_time": "2024-09-05T16:49:36.898Z"
   },
   {
    "duration": 227,
    "start_time": "2024-09-05T16:49:36.914Z"
   },
   {
    "duration": 11,
    "start_time": "2024-09-05T16:49:37.142Z"
   },
   {
    "duration": 19,
    "start_time": "2024-09-05T16:49:37.154Z"
   },
   {
    "duration": 122,
    "start_time": "2024-09-05T16:49:37.174Z"
   },
   {
    "duration": 30,
    "start_time": "2024-09-05T16:49:37.305Z"
   },
   {
    "duration": 423,
    "start_time": "2024-09-05T16:49:37.337Z"
   },
   {
    "duration": 388,
    "start_time": "2024-09-05T16:49:37.761Z"
   },
   {
    "duration": 13,
    "start_time": "2024-09-05T16:49:38.151Z"
   },
   {
    "duration": 130,
    "start_time": "2024-09-05T16:49:38.166Z"
   },
   {
    "duration": 24,
    "start_time": "2024-09-05T16:49:38.297Z"
   },
   {
    "duration": 11,
    "start_time": "2024-09-05T16:49:38.323Z"
   },
   {
    "duration": 6,
    "start_time": "2024-09-05T16:49:38.335Z"
   },
   {
    "duration": 11,
    "start_time": "2024-09-05T16:49:38.343Z"
   },
   {
    "duration": 7,
    "start_time": "2024-09-05T16:49:38.356Z"
   },
   {
    "duration": 410,
    "start_time": "2024-09-05T16:50:51.330Z"
   },
   {
    "duration": 117,
    "start_time": "2024-09-05T16:59:02.513Z"
   },
   {
    "duration": 13,
    "start_time": "2024-09-05T17:02:52.060Z"
   },
   {
    "duration": 11,
    "start_time": "2024-09-05T17:03:40.542Z"
   },
   {
    "duration": 12,
    "start_time": "2024-09-05T17:03:52.840Z"
   },
   {
    "duration": 13,
    "start_time": "2024-09-05T17:04:09.888Z"
   },
   {
    "duration": 216,
    "start_time": "2024-09-05T17:05:31.522Z"
   },
   {
    "duration": 161,
    "start_time": "2024-09-05T17:06:09.772Z"
   },
   {
    "duration": 177,
    "start_time": "2024-09-05T17:06:27.998Z"
   },
   {
    "duration": 176,
    "start_time": "2024-09-05T17:06:36.672Z"
   },
   {
    "duration": 190,
    "start_time": "2024-09-05T17:06:42.085Z"
   },
   {
    "duration": 298,
    "start_time": "2024-09-05T17:06:48.976Z"
   },
   {
    "duration": 177,
    "start_time": "2024-09-05T17:06:54.217Z"
   },
   {
    "duration": 195,
    "start_time": "2024-09-05T17:07:00.834Z"
   },
   {
    "duration": 205,
    "start_time": "2024-09-05T17:07:26.216Z"
   },
   {
    "duration": 138,
    "start_time": "2024-09-05T17:07:33.020Z"
   },
   {
    "duration": 172,
    "start_time": "2024-09-05T17:07:40.173Z"
   },
   {
    "duration": 173,
    "start_time": "2024-09-05T17:07:46.697Z"
   },
   {
    "duration": 189,
    "start_time": "2024-09-05T17:08:11.230Z"
   },
   {
    "duration": 322,
    "start_time": "2024-09-05T17:08:29.875Z"
   },
   {
    "duration": 1069,
    "start_time": "2024-09-05T17:09:18.071Z"
   },
   {
    "duration": 204,
    "start_time": "2024-09-05T17:10:32.837Z"
   },
   {
    "duration": 179,
    "start_time": "2024-09-05T17:12:00.988Z"
   },
   {
    "duration": 166,
    "start_time": "2024-09-05T17:15:36.217Z"
   },
   {
    "duration": 16,
    "start_time": "2024-09-05T17:16:51.776Z"
   },
   {
    "duration": 282,
    "start_time": "2024-09-05T17:17:16.567Z"
   },
   {
    "duration": 1209,
    "start_time": "2024-09-05T17:18:40.332Z"
   },
   {
    "duration": 72,
    "start_time": "2024-09-05T17:18:41.542Z"
   },
   {
    "duration": 12,
    "start_time": "2024-09-05T17:18:41.619Z"
   },
   {
    "duration": 8,
    "start_time": "2024-09-05T17:18:41.633Z"
   },
   {
    "duration": 9,
    "start_time": "2024-09-05T17:18:41.643Z"
   },
   {
    "duration": 14,
    "start_time": "2024-09-05T17:18:41.654Z"
   },
   {
    "duration": 17,
    "start_time": "2024-09-05T17:18:41.669Z"
   },
   {
    "duration": 33,
    "start_time": "2024-09-05T17:18:41.687Z"
   },
   {
    "duration": 7,
    "start_time": "2024-09-05T17:18:41.722Z"
   },
   {
    "duration": 12,
    "start_time": "2024-09-05T17:18:41.733Z"
   },
   {
    "duration": 4,
    "start_time": "2024-09-05T17:18:41.746Z"
   },
   {
    "duration": 15,
    "start_time": "2024-09-05T17:18:41.752Z"
   },
   {
    "duration": 14,
    "start_time": "2024-09-05T17:18:41.769Z"
   },
   {
    "duration": 29,
    "start_time": "2024-09-05T17:18:41.785Z"
   },
   {
    "duration": 9,
    "start_time": "2024-09-05T17:18:41.821Z"
   },
   {
    "duration": 11,
    "start_time": "2024-09-05T17:18:41.831Z"
   },
   {
    "duration": 12,
    "start_time": "2024-09-05T17:18:41.843Z"
   },
   {
    "duration": 4,
    "start_time": "2024-09-05T17:18:41.857Z"
   },
   {
    "duration": 20,
    "start_time": "2024-09-05T17:18:41.862Z"
   },
   {
    "duration": 39,
    "start_time": "2024-09-05T17:18:41.883Z"
   },
   {
    "duration": 9,
    "start_time": "2024-09-05T17:18:41.924Z"
   },
   {
    "duration": 16,
    "start_time": "2024-09-05T17:18:41.934Z"
   },
   {
    "duration": 22,
    "start_time": "2024-09-05T17:18:41.951Z"
   },
   {
    "duration": 196,
    "start_time": "2024-09-05T17:18:41.974Z"
   },
   {
    "duration": 110,
    "start_time": "2024-09-05T17:18:42.172Z"
   },
   {
    "duration": 178,
    "start_time": "2024-09-05T17:18:42.284Z"
   },
   {
    "duration": 8,
    "start_time": "2024-09-05T17:18:42.464Z"
   },
   {
    "duration": 229,
    "start_time": "2024-09-05T17:18:42.475Z"
   },
   {
    "duration": 18,
    "start_time": "2024-09-05T17:18:42.706Z"
   },
   {
    "duration": 306,
    "start_time": "2024-09-05T17:18:42.726Z"
   },
   {
    "duration": 10,
    "start_time": "2024-09-05T17:18:43.034Z"
   },
   {
    "duration": 19,
    "start_time": "2024-09-05T17:18:43.046Z"
   },
   {
    "duration": 19,
    "start_time": "2024-09-05T17:18:43.066Z"
   },
   {
    "duration": 41,
    "start_time": "2024-09-05T17:18:43.086Z"
   },
   {
    "duration": 509,
    "start_time": "2024-09-05T17:18:43.129Z"
   },
   {
    "duration": 0,
    "start_time": "2024-09-05T17:18:43.640Z"
   },
   {
    "duration": 0,
    "start_time": "2024-09-05T17:18:43.641Z"
   },
   {
    "duration": 0,
    "start_time": "2024-09-05T17:18:43.642Z"
   },
   {
    "duration": 0,
    "start_time": "2024-09-05T17:18:43.643Z"
   },
   {
    "duration": 0,
    "start_time": "2024-09-05T17:18:43.644Z"
   },
   {
    "duration": 0,
    "start_time": "2024-09-05T17:18:43.645Z"
   },
   {
    "duration": 0,
    "start_time": "2024-09-05T17:18:43.646Z"
   },
   {
    "duration": 0,
    "start_time": "2024-09-05T17:18:43.647Z"
   },
   {
    "duration": 0,
    "start_time": "2024-09-05T17:18:43.648Z"
   },
   {
    "duration": 377,
    "start_time": "2024-09-05T17:20:17.481Z"
   },
   {
    "duration": 470,
    "start_time": "2024-09-05T17:20:32.518Z"
   },
   {
    "duration": 380,
    "start_time": "2024-09-05T17:20:48.841Z"
   },
   {
    "duration": 12,
    "start_time": "2024-09-05T17:26:33.263Z"
   },
   {
    "duration": 5,
    "start_time": "2024-09-05T17:26:34.263Z"
   },
   {
    "duration": 42,
    "start_time": "2024-09-05T17:26:35.925Z"
   },
   {
    "duration": 19,
    "start_time": "2024-09-05T17:26:39.472Z"
   },
   {
    "duration": 12,
    "start_time": "2024-09-05T17:27:11.071Z"
   },
   {
    "duration": 1215,
    "start_time": "2024-09-05T17:28:06.231Z"
   },
   {
    "duration": 71,
    "start_time": "2024-09-05T17:28:07.448Z"
   },
   {
    "duration": 15,
    "start_time": "2024-09-05T17:28:07.521Z"
   },
   {
    "duration": 9,
    "start_time": "2024-09-05T17:28:07.538Z"
   },
   {
    "duration": 13,
    "start_time": "2024-09-05T17:28:07.548Z"
   },
   {
    "duration": 16,
    "start_time": "2024-09-05T17:28:07.563Z"
   },
   {
    "duration": 11,
    "start_time": "2024-09-05T17:28:07.580Z"
   },
   {
    "duration": 25,
    "start_time": "2024-09-05T17:28:07.592Z"
   },
   {
    "duration": 18,
    "start_time": "2024-09-05T17:28:07.619Z"
   },
   {
    "duration": 22,
    "start_time": "2024-09-05T17:28:07.640Z"
   },
   {
    "duration": 33,
    "start_time": "2024-09-05T17:28:07.664Z"
   },
   {
    "duration": 12,
    "start_time": "2024-09-05T17:28:07.698Z"
   },
   {
    "duration": 10,
    "start_time": "2024-09-05T17:28:07.711Z"
   },
   {
    "duration": 16,
    "start_time": "2024-09-05T17:28:07.723Z"
   },
   {
    "duration": 38,
    "start_time": "2024-09-05T17:28:07.740Z"
   },
   {
    "duration": 18,
    "start_time": "2024-09-05T17:28:07.780Z"
   },
   {
    "duration": 28,
    "start_time": "2024-09-05T17:28:07.799Z"
   },
   {
    "duration": 19,
    "start_time": "2024-09-05T17:28:07.829Z"
   },
   {
    "duration": 19,
    "start_time": "2024-09-05T17:28:07.849Z"
   },
   {
    "duration": 6,
    "start_time": "2024-09-05T17:28:07.870Z"
   },
   {
    "duration": 26,
    "start_time": "2024-09-05T17:28:07.877Z"
   },
   {
    "duration": 26,
    "start_time": "2024-09-05T17:28:07.904Z"
   },
   {
    "duration": 17,
    "start_time": "2024-09-05T17:28:07.932Z"
   },
   {
    "duration": 177,
    "start_time": "2024-09-05T17:28:07.951Z"
   },
   {
    "duration": 101,
    "start_time": "2024-09-05T17:28:08.129Z"
   },
   {
    "duration": 163,
    "start_time": "2024-09-05T17:28:08.232Z"
   },
   {
    "duration": 25,
    "start_time": "2024-09-05T17:28:08.396Z"
   },
   {
    "duration": 273,
    "start_time": "2024-09-05T17:28:08.425Z"
   },
   {
    "duration": 15,
    "start_time": "2024-09-05T17:28:08.705Z"
   },
   {
    "duration": 326,
    "start_time": "2024-09-05T17:28:08.722Z"
   },
   {
    "duration": 9,
    "start_time": "2024-09-05T17:28:09.050Z"
   },
   {
    "duration": 17,
    "start_time": "2024-09-05T17:28:09.061Z"
   },
   {
    "duration": 47,
    "start_time": "2024-09-05T17:28:09.079Z"
   },
   {
    "duration": 14,
    "start_time": "2024-09-05T17:28:09.128Z"
   },
   {
    "duration": 457,
    "start_time": "2024-09-05T17:28:09.143Z"
   },
   {
    "duration": 0,
    "start_time": "2024-09-05T17:28:09.604Z"
   },
   {
    "duration": 0,
    "start_time": "2024-09-05T17:28:09.605Z"
   },
   {
    "duration": 0,
    "start_time": "2024-09-05T17:28:09.606Z"
   },
   {
    "duration": 0,
    "start_time": "2024-09-05T17:28:09.607Z"
   },
   {
    "duration": 0,
    "start_time": "2024-09-05T17:28:09.607Z"
   },
   {
    "duration": 0,
    "start_time": "2024-09-05T17:28:09.609Z"
   },
   {
    "duration": 0,
    "start_time": "2024-09-05T17:28:09.610Z"
   },
   {
    "duration": 0,
    "start_time": "2024-09-05T17:28:09.610Z"
   },
   {
    "duration": 0,
    "start_time": "2024-09-05T17:28:09.611Z"
   },
   {
    "duration": 0,
    "start_time": "2024-09-05T17:28:09.621Z"
   },
   {
    "duration": 211,
    "start_time": "2024-09-05T17:28:40.030Z"
   },
   {
    "duration": 135,
    "start_time": "2024-09-05T17:31:35.281Z"
   },
   {
    "duration": 19,
    "start_time": "2024-09-05T17:32:57.042Z"
   },
   {
    "duration": 170,
    "start_time": "2024-09-05T17:33:22.882Z"
   },
   {
    "duration": 249,
    "start_time": "2024-09-05T17:33:59.975Z"
   },
   {
    "duration": 11,
    "start_time": "2024-09-05T17:35:38.927Z"
   },
   {
    "duration": 13,
    "start_time": "2024-09-05T17:35:45.454Z"
   },
   {
    "duration": 1159,
    "start_time": "2024-09-05T17:36:48.169Z"
   },
   {
    "duration": 70,
    "start_time": "2024-09-05T17:36:49.330Z"
   },
   {
    "duration": 21,
    "start_time": "2024-09-05T17:36:49.401Z"
   },
   {
    "duration": 38,
    "start_time": "2024-09-05T17:36:49.425Z"
   },
   {
    "duration": 18,
    "start_time": "2024-09-05T17:36:49.465Z"
   },
   {
    "duration": 12,
    "start_time": "2024-09-05T17:36:49.485Z"
   },
   {
    "duration": 26,
    "start_time": "2024-09-05T17:36:49.499Z"
   },
   {
    "duration": 25,
    "start_time": "2024-09-05T17:36:49.526Z"
   },
   {
    "duration": 12,
    "start_time": "2024-09-05T17:36:49.553Z"
   },
   {
    "duration": 11,
    "start_time": "2024-09-05T17:36:49.569Z"
   },
   {
    "duration": 13,
    "start_time": "2024-09-05T17:36:49.582Z"
   },
   {
    "duration": 30,
    "start_time": "2024-09-05T17:36:49.597Z"
   },
   {
    "duration": 17,
    "start_time": "2024-09-05T17:36:49.629Z"
   },
   {
    "duration": 27,
    "start_time": "2024-09-05T17:36:49.648Z"
   },
   {
    "duration": 19,
    "start_time": "2024-09-05T17:36:49.676Z"
   },
   {
    "duration": 7,
    "start_time": "2024-09-05T17:36:49.696Z"
   },
   {
    "duration": 22,
    "start_time": "2024-09-05T17:36:49.704Z"
   },
   {
    "duration": 14,
    "start_time": "2024-09-05T17:36:49.727Z"
   },
   {
    "duration": 18,
    "start_time": "2024-09-05T17:36:49.743Z"
   },
   {
    "duration": 4,
    "start_time": "2024-09-05T17:36:49.763Z"
   },
   {
    "duration": 12,
    "start_time": "2024-09-05T17:36:49.769Z"
   },
   {
    "duration": 18,
    "start_time": "2024-09-05T17:36:49.783Z"
   },
   {
    "duration": 35,
    "start_time": "2024-09-05T17:36:49.803Z"
   },
   {
    "duration": 114,
    "start_time": "2024-09-05T17:36:49.840Z"
   },
   {
    "duration": 0,
    "start_time": "2024-09-05T17:36:49.956Z"
   },
   {
    "duration": 0,
    "start_time": "2024-09-05T17:36:49.958Z"
   },
   {
    "duration": 1,
    "start_time": "2024-09-05T17:36:49.959Z"
   },
   {
    "duration": 0,
    "start_time": "2024-09-05T17:36:49.961Z"
   },
   {
    "duration": 0,
    "start_time": "2024-09-05T17:36:49.962Z"
   },
   {
    "duration": 0,
    "start_time": "2024-09-05T17:36:49.964Z"
   },
   {
    "duration": 0,
    "start_time": "2024-09-05T17:36:49.965Z"
   },
   {
    "duration": 0,
    "start_time": "2024-09-05T17:36:49.967Z"
   },
   {
    "duration": 0,
    "start_time": "2024-09-05T17:36:49.968Z"
   },
   {
    "duration": 0,
    "start_time": "2024-09-05T17:36:49.970Z"
   },
   {
    "duration": 0,
    "start_time": "2024-09-05T17:36:49.972Z"
   },
   {
    "duration": 0,
    "start_time": "2024-09-05T17:36:49.974Z"
   },
   {
    "duration": 0,
    "start_time": "2024-09-05T17:36:50.009Z"
   },
   {
    "duration": 0,
    "start_time": "2024-09-05T17:36:50.011Z"
   },
   {
    "duration": 0,
    "start_time": "2024-09-05T17:36:50.012Z"
   },
   {
    "duration": 0,
    "start_time": "2024-09-05T17:36:50.013Z"
   },
   {
    "duration": 0,
    "start_time": "2024-09-05T17:36:50.015Z"
   },
   {
    "duration": 0,
    "start_time": "2024-09-05T17:36:50.016Z"
   },
   {
    "duration": 0,
    "start_time": "2024-09-05T17:36:50.017Z"
   },
   {
    "duration": 0,
    "start_time": "2024-09-05T17:36:50.020Z"
   },
   {
    "duration": 0,
    "start_time": "2024-09-05T17:36:50.021Z"
   },
   {
    "duration": 31,
    "start_time": "2024-09-05T17:37:16.448Z"
   },
   {
    "duration": 14,
    "start_time": "2024-09-05T17:37:48.638Z"
   },
   {
    "duration": 13,
    "start_time": "2024-09-05T17:38:15.698Z"
   },
   {
    "duration": 9,
    "start_time": "2024-09-05T17:38:23.620Z"
   },
   {
    "duration": 158,
    "start_time": "2024-09-05T17:38:35.217Z"
   },
   {
    "duration": 139,
    "start_time": "2024-09-05T17:39:00.234Z"
   },
   {
    "duration": 142,
    "start_time": "2024-09-05T17:39:31.042Z"
   },
   {
    "duration": 1349,
    "start_time": "2024-09-05T17:40:48.646Z"
   },
   {
    "duration": 1255,
    "start_time": "2024-09-05T17:40:59.957Z"
   },
   {
    "duration": 14,
    "start_time": "2024-09-05T17:41:35.222Z"
   },
   {
    "duration": 13,
    "start_time": "2024-09-05T17:42:35.087Z"
   },
   {
    "duration": 164,
    "start_time": "2024-09-05T17:42:53.687Z"
   },
   {
    "duration": 15,
    "start_time": "2024-09-05T17:43:04.683Z"
   },
   {
    "duration": 1310,
    "start_time": "2024-09-05T17:43:59.065Z"
   },
   {
    "duration": 179,
    "start_time": "2024-09-05T17:47:51.788Z"
   },
   {
    "duration": 202,
    "start_time": "2024-09-05T17:48:35.375Z"
   },
   {
    "duration": 214,
    "start_time": "2024-09-05T17:49:39.985Z"
   },
   {
    "duration": 71,
    "start_time": "2024-09-05T17:50:07.017Z"
   },
   {
    "duration": 82,
    "start_time": "2024-09-05T17:50:22.235Z"
   },
   {
    "duration": 93,
    "start_time": "2024-09-05T17:50:43.294Z"
   },
   {
    "duration": 73,
    "start_time": "2024-09-05T17:50:52.424Z"
   },
   {
    "duration": 80,
    "start_time": "2024-09-05T17:51:11.057Z"
   },
   {
    "duration": 72,
    "start_time": "2024-09-05T17:51:39.091Z"
   },
   {
    "duration": 200,
    "start_time": "2024-09-05T17:53:06.638Z"
   },
   {
    "duration": 287,
    "start_time": "2024-09-05T17:53:41.260Z"
   },
   {
    "duration": 172,
    "start_time": "2024-09-05T17:54:04.158Z"
   },
   {
    "duration": 181,
    "start_time": "2024-09-05T17:54:14.364Z"
   },
   {
    "duration": 15,
    "start_time": "2024-09-05T17:54:38.170Z"
   },
   {
    "duration": 95,
    "start_time": "2024-09-05T17:54:54.056Z"
   },
   {
    "duration": 167,
    "start_time": "2024-09-05T17:55:04.179Z"
   },
   {
    "duration": 215,
    "start_time": "2024-09-05T17:56:37.583Z"
   },
   {
    "duration": 153,
    "start_time": "2024-09-05T17:57:45.670Z"
   },
   {
    "duration": 164,
    "start_time": "2024-09-05T17:57:59.882Z"
   },
   {
    "duration": 152,
    "start_time": "2024-09-05T17:58:09.114Z"
   },
   {
    "duration": 15,
    "start_time": "2024-09-05T17:58:57.033Z"
   },
   {
    "duration": 13,
    "start_time": "2024-09-05T17:59:24.611Z"
   },
   {
    "duration": 12,
    "start_time": "2024-09-05T17:59:36.002Z"
   },
   {
    "duration": 210,
    "start_time": "2024-09-05T17:59:41.119Z"
   },
   {
    "duration": 203,
    "start_time": "2024-09-05T18:02:15.997Z"
   },
   {
    "duration": 9,
    "start_time": "2024-09-05T18:02:54.379Z"
   },
   {
    "duration": 267,
    "start_time": "2024-09-05T18:02:56.994Z"
   },
   {
    "duration": 216,
    "start_time": "2024-09-05T18:03:38.913Z"
   },
   {
    "duration": 11,
    "start_time": "2024-09-05T18:04:07.933Z"
   },
   {
    "duration": 25,
    "start_time": "2024-09-05T18:04:09.082Z"
   },
   {
    "duration": 4,
    "start_time": "2024-09-05T18:04:38.814Z"
   },
   {
    "duration": 5,
    "start_time": "2024-09-05T18:05:06.627Z"
   },
   {
    "duration": 6,
    "start_time": "2024-09-05T18:05:19.344Z"
   },
   {
    "duration": 4,
    "start_time": "2024-09-05T18:05:42.881Z"
   },
   {
    "duration": 11,
    "start_time": "2024-09-05T18:05:58.195Z"
   },
   {
    "duration": 4,
    "start_time": "2024-09-05T18:06:03.754Z"
   },
   {
    "duration": 20,
    "start_time": "2024-09-05T18:06:16.784Z"
   },
   {
    "duration": 17,
    "start_time": "2024-09-05T18:06:17.924Z"
   },
   {
    "duration": 393,
    "start_time": "2024-09-05T18:06:24.460Z"
   },
   {
    "duration": 363,
    "start_time": "2024-09-05T18:07:01.484Z"
   },
   {
    "duration": 75,
    "start_time": "2024-09-05T18:07:46.915Z"
   },
   {
    "duration": 1183,
    "start_time": "2024-09-05T18:08:18.012Z"
   },
   {
    "duration": 71,
    "start_time": "2024-09-05T18:08:19.197Z"
   },
   {
    "duration": 12,
    "start_time": "2024-09-05T18:08:19.269Z"
   },
   {
    "duration": 16,
    "start_time": "2024-09-05T18:08:19.282Z"
   },
   {
    "duration": 12,
    "start_time": "2024-09-05T18:08:19.300Z"
   },
   {
    "duration": 12,
    "start_time": "2024-09-05T18:08:19.313Z"
   },
   {
    "duration": 29,
    "start_time": "2024-09-05T18:08:19.326Z"
   },
   {
    "duration": 10,
    "start_time": "2024-09-05T18:08:19.357Z"
   },
   {
    "duration": 17,
    "start_time": "2024-09-05T18:08:19.369Z"
   },
   {
    "duration": 20,
    "start_time": "2024-09-05T18:08:19.387Z"
   },
   {
    "duration": 7,
    "start_time": "2024-09-05T18:08:19.409Z"
   },
   {
    "duration": 21,
    "start_time": "2024-09-05T18:08:19.417Z"
   },
   {
    "duration": 9,
    "start_time": "2024-09-05T18:08:19.439Z"
   },
   {
    "duration": 6,
    "start_time": "2024-09-05T18:08:19.450Z"
   },
   {
    "duration": 6,
    "start_time": "2024-09-05T18:08:19.457Z"
   },
   {
    "duration": 9,
    "start_time": "2024-09-05T18:08:19.464Z"
   },
   {
    "duration": 8,
    "start_time": "2024-09-05T18:08:19.474Z"
   },
   {
    "duration": 51,
    "start_time": "2024-09-05T18:08:19.484Z"
   },
   {
    "duration": 5,
    "start_time": "2024-09-05T18:08:19.537Z"
   },
   {
    "duration": 7,
    "start_time": "2024-09-05T18:08:19.544Z"
   },
   {
    "duration": 7,
    "start_time": "2024-09-05T18:08:19.552Z"
   },
   {
    "duration": 11,
    "start_time": "2024-09-05T18:08:19.560Z"
   },
   {
    "duration": 12,
    "start_time": "2024-09-05T18:08:19.573Z"
   },
   {
    "duration": 181,
    "start_time": "2024-09-05T18:08:19.587Z"
   },
   {
    "duration": 12,
    "start_time": "2024-09-05T18:08:19.770Z"
   },
   {
    "duration": 218,
    "start_time": "2024-09-05T18:08:19.784Z"
   },
   {
    "duration": 13,
    "start_time": "2024-09-05T18:08:20.003Z"
   },
   {
    "duration": 183,
    "start_time": "2024-09-05T18:08:20.018Z"
   },
   {
    "duration": 11,
    "start_time": "2024-09-05T18:08:20.203Z"
   },
   {
    "duration": 208,
    "start_time": "2024-09-05T18:08:20.216Z"
   },
   {
    "duration": 8,
    "start_time": "2024-09-05T18:08:20.426Z"
   },
   {
    "duration": 222,
    "start_time": "2024-09-05T18:08:20.436Z"
   },
   {
    "duration": 10,
    "start_time": "2024-09-05T18:08:20.660Z"
   },
   {
    "duration": 44,
    "start_time": "2024-09-05T18:08:20.671Z"
   },
   {
    "duration": 4,
    "start_time": "2024-09-05T18:08:20.717Z"
   },
   {
    "duration": 17,
    "start_time": "2024-09-05T18:08:20.723Z"
   },
   {
    "duration": 9,
    "start_time": "2024-09-05T18:08:20.742Z"
   },
   {
    "duration": 8,
    "start_time": "2024-09-05T18:08:20.752Z"
   },
   {
    "duration": 4,
    "start_time": "2024-09-05T18:08:20.761Z"
   },
   {
    "duration": 22,
    "start_time": "2024-09-05T18:08:20.767Z"
   },
   {
    "duration": 23,
    "start_time": "2024-09-05T18:08:20.793Z"
   },
   {
    "duration": 116,
    "start_time": "2024-09-05T18:08:20.818Z"
   },
   {
    "duration": 0,
    "start_time": "2024-09-05T18:08:20.936Z"
   },
   {
    "duration": 0,
    "start_time": "2024-09-05T18:08:20.937Z"
   },
   {
    "duration": 0,
    "start_time": "2024-09-05T18:08:20.938Z"
   },
   {
    "duration": 0,
    "start_time": "2024-09-05T18:08:20.939Z"
   },
   {
    "duration": 0,
    "start_time": "2024-09-05T18:08:20.940Z"
   },
   {
    "duration": 1,
    "start_time": "2024-09-05T18:08:20.941Z"
   },
   {
    "duration": 0,
    "start_time": "2024-09-05T18:08:20.942Z"
   },
   {
    "duration": 0,
    "start_time": "2024-09-05T18:08:20.943Z"
   },
   {
    "duration": 0,
    "start_time": "2024-09-05T18:08:20.944Z"
   },
   {
    "duration": 0,
    "start_time": "2024-09-05T18:08:20.945Z"
   },
   {
    "duration": 71,
    "start_time": "2024-09-05T18:09:46.344Z"
   },
   {
    "duration": 205,
    "start_time": "2024-09-05T18:09:56.500Z"
   },
   {
    "duration": 464,
    "start_time": "2024-09-05T18:11:08.026Z"
   },
   {
    "duration": 482,
    "start_time": "2024-09-05T18:11:56.836Z"
   },
   {
    "duration": 334,
    "start_time": "2024-09-05T18:12:41.957Z"
   },
   {
    "duration": 79,
    "start_time": "2024-09-05T18:13:33.279Z"
   },
   {
    "duration": 214,
    "start_time": "2024-09-05T18:13:39.808Z"
   },
   {
    "duration": 190,
    "start_time": "2024-09-05T18:13:51.642Z"
   },
   {
    "duration": 365,
    "start_time": "2024-09-05T18:14:10.368Z"
   },
   {
    "duration": 364,
    "start_time": "2024-09-05T18:14:42.430Z"
   },
   {
    "duration": 1141,
    "start_time": "2024-09-05T18:15:10.540Z"
   },
   {
    "duration": 73,
    "start_time": "2024-09-05T18:15:11.683Z"
   },
   {
    "duration": 12,
    "start_time": "2024-09-05T18:15:11.758Z"
   },
   {
    "duration": 22,
    "start_time": "2024-09-05T18:15:11.772Z"
   },
   {
    "duration": 24,
    "start_time": "2024-09-05T18:15:11.797Z"
   },
   {
    "duration": 19,
    "start_time": "2024-09-05T18:15:11.823Z"
   },
   {
    "duration": 18,
    "start_time": "2024-09-05T18:15:11.844Z"
   },
   {
    "duration": 10,
    "start_time": "2024-09-05T18:15:11.864Z"
   },
   {
    "duration": 9,
    "start_time": "2024-09-05T18:15:11.876Z"
   },
   {
    "duration": 22,
    "start_time": "2024-09-05T18:15:11.887Z"
   },
   {
    "duration": 5,
    "start_time": "2024-09-05T18:15:11.910Z"
   },
   {
    "duration": 14,
    "start_time": "2024-09-05T18:15:11.917Z"
   },
   {
    "duration": 12,
    "start_time": "2024-09-05T18:15:11.933Z"
   },
   {
    "duration": 9,
    "start_time": "2024-09-05T18:15:11.948Z"
   },
   {
    "duration": 23,
    "start_time": "2024-09-05T18:15:11.959Z"
   },
   {
    "duration": 15,
    "start_time": "2024-09-05T18:15:11.984Z"
   },
   {
    "duration": 10,
    "start_time": "2024-09-05T18:15:12.001Z"
   },
   {
    "duration": 4,
    "start_time": "2024-09-05T18:15:12.013Z"
   },
   {
    "duration": 13,
    "start_time": "2024-09-05T18:15:12.019Z"
   },
   {
    "duration": 9,
    "start_time": "2024-09-05T18:15:12.034Z"
   },
   {
    "duration": 5,
    "start_time": "2024-09-05T18:15:12.045Z"
   },
   {
    "duration": 10,
    "start_time": "2024-09-05T18:15:12.052Z"
   },
   {
    "duration": 23,
    "start_time": "2024-09-05T18:15:12.064Z"
   },
   {
    "duration": 211,
    "start_time": "2024-09-05T18:15:12.089Z"
   },
   {
    "duration": 15,
    "start_time": "2024-09-05T18:15:12.301Z"
   },
   {
    "duration": 110,
    "start_time": "2024-09-05T18:15:12.318Z"
   },
   {
    "duration": 14,
    "start_time": "2024-09-05T18:15:12.430Z"
   },
   {
    "duration": 178,
    "start_time": "2024-09-05T18:15:12.445Z"
   },
   {
    "duration": 12,
    "start_time": "2024-09-05T18:15:12.626Z"
   },
   {
    "duration": 247,
    "start_time": "2024-09-05T18:15:12.640Z"
   },
   {
    "duration": 16,
    "start_time": "2024-09-05T18:15:12.896Z"
   },
   {
    "duration": 251,
    "start_time": "2024-09-05T18:15:12.914Z"
   },
   {
    "duration": 11,
    "start_time": "2024-09-05T18:15:13.167Z"
   },
   {
    "duration": 37,
    "start_time": "2024-09-05T18:15:13.179Z"
   },
   {
    "duration": 4,
    "start_time": "2024-09-05T18:15:13.218Z"
   },
   {
    "duration": 35,
    "start_time": "2024-09-05T18:15:13.224Z"
   },
   {
    "duration": 13,
    "start_time": "2024-09-05T18:15:13.260Z"
   },
   {
    "duration": 12,
    "start_time": "2024-09-05T18:15:13.274Z"
   },
   {
    "duration": 22,
    "start_time": "2024-09-05T18:15:13.288Z"
   },
   {
    "duration": 45,
    "start_time": "2024-09-05T18:15:13.312Z"
   },
   {
    "duration": 17,
    "start_time": "2024-09-05T18:15:13.361Z"
   },
   {
    "duration": 415,
    "start_time": "2024-09-05T18:15:13.379Z"
   },
   {
    "duration": 407,
    "start_time": "2024-09-05T18:15:13.796Z"
   },
   {
    "duration": 13,
    "start_time": "2024-09-05T18:15:14.205Z"
   },
   {
    "duration": 25,
    "start_time": "2024-09-05T18:15:14.220Z"
   },
   {
    "duration": 28,
    "start_time": "2024-09-05T18:15:14.246Z"
   },
   {
    "duration": 45,
    "start_time": "2024-09-05T18:15:14.276Z"
   },
   {
    "duration": 15,
    "start_time": "2024-09-05T18:15:14.323Z"
   },
   {
    "duration": 7,
    "start_time": "2024-09-05T18:15:14.340Z"
   },
   {
    "duration": 26,
    "start_time": "2024-09-05T18:15:14.348Z"
   },
   {
    "duration": 96,
    "start_time": "2024-09-05T18:15:14.376Z"
   },
   {
    "duration": 7,
    "start_time": "2024-09-05T18:15:14.475Z"
   },
   {
    "duration": 102,
    "start_time": "2024-09-05T18:31:36.526Z"
   },
   {
    "duration": 602,
    "start_time": "2024-09-05T18:35:00.522Z"
   },
   {
    "duration": 451,
    "start_time": "2024-09-05T18:35:18.413Z"
   },
   {
    "duration": 194,
    "start_time": "2024-09-05T18:37:01.442Z"
   },
   {
    "duration": 5,
    "start_time": "2024-09-05T18:37:55.004Z"
   },
   {
    "duration": 187,
    "start_time": "2024-09-05T18:38:08.768Z"
   },
   {
    "duration": 6,
    "start_time": "2024-09-05T18:38:23.026Z"
   },
   {
    "duration": 187,
    "start_time": "2024-09-05T18:38:24.051Z"
   },
   {
    "duration": 6,
    "start_time": "2024-09-05T18:38:36.533Z"
   },
   {
    "duration": 295,
    "start_time": "2024-09-05T18:38:37.410Z"
   },
   {
    "duration": 102,
    "start_time": "2024-09-05T18:41:17.438Z"
   },
   {
    "duration": 7,
    "start_time": "2024-09-05T18:44:55.654Z"
   },
   {
    "duration": 213,
    "start_time": "2024-09-05T18:44:57.252Z"
   },
   {
    "duration": 117,
    "start_time": "2024-09-05T18:49:32.971Z"
   },
   {
    "duration": 15,
    "start_time": "2024-09-05T18:49:51.768Z"
   },
   {
    "duration": 21,
    "start_time": "2024-09-05T18:50:20.978Z"
   },
   {
    "duration": 8,
    "start_time": "2024-09-05T18:50:45.414Z"
   },
   {
    "duration": 19,
    "start_time": "2024-09-05T18:51:01.961Z"
   },
   {
    "duration": 1179,
    "start_time": "2024-09-05T18:52:24.095Z"
   },
   {
    "duration": 72,
    "start_time": "2024-09-05T18:52:25.276Z"
   },
   {
    "duration": 12,
    "start_time": "2024-09-05T18:52:25.350Z"
   },
   {
    "duration": 8,
    "start_time": "2024-09-05T18:52:25.364Z"
   },
   {
    "duration": 7,
    "start_time": "2024-09-05T18:52:25.373Z"
   },
   {
    "duration": 17,
    "start_time": "2024-09-05T18:52:25.382Z"
   },
   {
    "duration": 12,
    "start_time": "2024-09-05T18:52:25.400Z"
   },
   {
    "duration": 13,
    "start_time": "2024-09-05T18:52:25.413Z"
   },
   {
    "duration": 22,
    "start_time": "2024-09-05T18:52:25.427Z"
   },
   {
    "duration": 22,
    "start_time": "2024-09-05T18:52:25.452Z"
   },
   {
    "duration": 32,
    "start_time": "2024-09-05T18:52:25.475Z"
   },
   {
    "duration": 10,
    "start_time": "2024-09-05T18:52:25.510Z"
   },
   {
    "duration": 19,
    "start_time": "2024-09-05T18:52:25.522Z"
   },
   {
    "duration": 6,
    "start_time": "2024-09-05T18:52:25.543Z"
   },
   {
    "duration": 25,
    "start_time": "2024-09-05T18:52:25.551Z"
   },
   {
    "duration": 54,
    "start_time": "2024-09-05T18:52:25.578Z"
   },
   {
    "duration": 25,
    "start_time": "2024-09-05T18:52:25.633Z"
   },
   {
    "duration": 34,
    "start_time": "2024-09-05T18:52:25.660Z"
   },
   {
    "duration": 6,
    "start_time": "2024-09-05T18:52:25.696Z"
   },
   {
    "duration": 10,
    "start_time": "2024-09-05T18:52:25.703Z"
   },
   {
    "duration": 4,
    "start_time": "2024-09-05T18:52:25.715Z"
   },
   {
    "duration": 12,
    "start_time": "2024-09-05T18:52:25.721Z"
   },
   {
    "duration": 4,
    "start_time": "2024-09-05T18:52:25.734Z"
   },
   {
    "duration": 12,
    "start_time": "2024-09-05T18:52:25.740Z"
   },
   {
    "duration": 9,
    "start_time": "2024-09-05T18:52:25.754Z"
   },
   {
    "duration": 14,
    "start_time": "2024-09-05T18:52:25.765Z"
   },
   {
    "duration": 227,
    "start_time": "2024-09-05T18:52:25.781Z"
   },
   {
    "duration": 15,
    "start_time": "2024-09-05T18:52:26.012Z"
   },
   {
    "duration": 113,
    "start_time": "2024-09-05T18:52:26.030Z"
   },
   {
    "duration": 13,
    "start_time": "2024-09-05T18:52:26.145Z"
   },
   {
    "duration": 178,
    "start_time": "2024-09-05T18:52:26.159Z"
   },
   {
    "duration": 9,
    "start_time": "2024-09-05T18:52:26.339Z"
   },
   {
    "duration": 112,
    "start_time": "2024-09-05T18:52:26.349Z"
   },
   {
    "duration": 6,
    "start_time": "2024-09-05T18:52:26.463Z"
   },
   {
    "duration": 202,
    "start_time": "2024-09-05T18:52:26.470Z"
   },
   {
    "duration": 9,
    "start_time": "2024-09-05T18:52:26.673Z"
   },
   {
    "duration": 76,
    "start_time": "2024-09-05T18:52:26.683Z"
   },
   {
    "duration": 206,
    "start_time": "2024-09-05T18:52:26.760Z"
   },
   {
    "duration": 10,
    "start_time": "2024-09-05T18:52:26.968Z"
   },
   {
    "duration": 85,
    "start_time": "2024-09-05T18:52:26.979Z"
   },
   {
    "duration": 4,
    "start_time": "2024-09-05T18:52:27.066Z"
   },
   {
    "duration": 5,
    "start_time": "2024-09-05T18:52:27.071Z"
   },
   {
    "duration": 4,
    "start_time": "2024-09-05T18:52:27.078Z"
   },
   {
    "duration": 4,
    "start_time": "2024-09-05T18:52:27.084Z"
   },
   {
    "duration": 4,
    "start_time": "2024-09-05T18:52:27.090Z"
   },
   {
    "duration": 20,
    "start_time": "2024-09-05T18:52:27.096Z"
   },
   {
    "duration": 17,
    "start_time": "2024-09-05T18:52:27.117Z"
   },
   {
    "duration": 409,
    "start_time": "2024-09-05T18:52:27.135Z"
   },
   {
    "duration": 453,
    "start_time": "2024-09-05T18:52:27.548Z"
   },
   {
    "duration": 13,
    "start_time": "2024-09-05T18:52:28.002Z"
   },
   {
    "duration": 3,
    "start_time": "2024-09-05T18:52:28.017Z"
   },
   {
    "duration": 14,
    "start_time": "2024-09-05T18:52:28.022Z"
   },
   {
    "duration": 36,
    "start_time": "2024-09-05T18:52:28.038Z"
   },
   {
    "duration": 37,
    "start_time": "2024-09-05T18:52:28.076Z"
   },
   {
    "duration": 5,
    "start_time": "2024-09-05T18:52:28.115Z"
   },
   {
    "duration": 5,
    "start_time": "2024-09-05T18:52:28.122Z"
   },
   {
    "duration": 9,
    "start_time": "2024-09-05T18:52:28.129Z"
   },
   {
    "duration": 6,
    "start_time": "2024-09-05T18:52:28.139Z"
   },
   {
    "duration": 1170,
    "start_time": "2024-09-05T18:59:38.938Z"
   },
   {
    "duration": 75,
    "start_time": "2024-09-05T18:59:47.922Z"
   },
   {
    "duration": 15,
    "start_time": "2024-09-05T18:59:49.512Z"
   },
   {
    "duration": 10,
    "start_time": "2024-09-05T18:59:50.511Z"
   },
   {
    "duration": 7,
    "start_time": "2024-09-05T18:59:51.424Z"
   },
   {
    "duration": 12,
    "start_time": "2024-09-05T18:59:53.846Z"
   },
   {
    "duration": 11,
    "start_time": "2024-09-05T18:59:54.506Z"
   },
   {
    "duration": 11,
    "start_time": "2024-09-05T18:59:54.901Z"
   },
   {
    "duration": 15,
    "start_time": "2024-09-05T18:59:55.102Z"
   },
   {
    "duration": 20,
    "start_time": "2024-09-05T18:59:55.297Z"
   },
   {
    "duration": 18,
    "start_time": "2024-09-05T18:59:55.474Z"
   },
   {
    "duration": 8,
    "start_time": "2024-09-05T18:59:55.984Z"
   },
   {
    "duration": 9,
    "start_time": "2024-09-05T18:59:56.140Z"
   },
   {
    "duration": 5,
    "start_time": "2024-09-05T18:59:56.312Z"
   },
   {
    "duration": 10,
    "start_time": "2024-09-05T18:59:56.663Z"
   },
   {
    "duration": 6,
    "start_time": "2024-09-05T18:59:57.008Z"
   },
   {
    "duration": 6,
    "start_time": "2024-09-05T18:59:57.184Z"
   },
   {
    "duration": 7,
    "start_time": "2024-09-05T18:59:57.361Z"
   },
   {
    "duration": 5,
    "start_time": "2024-09-05T18:59:57.713Z"
   },
   {
    "duration": 9,
    "start_time": "2024-09-05T18:59:57.885Z"
   },
   {
    "duration": 5,
    "start_time": "2024-09-05T18:59:58.069Z"
   },
   {
    "duration": 5,
    "start_time": "2024-09-05T18:59:58.463Z"
   },
   {
    "duration": 3,
    "start_time": "2024-09-05T18:59:58.784Z"
   },
   {
    "duration": 7,
    "start_time": "2024-09-05T18:59:58.970Z"
   },
   {
    "duration": 7,
    "start_time": "2024-09-05T18:59:59.328Z"
   },
   {
    "duration": 14,
    "start_time": "2024-09-05T19:00:00.205Z"
   },
   {
    "duration": 193,
    "start_time": "2024-09-05T19:00:00.376Z"
   },
   {
    "duration": 13,
    "start_time": "2024-09-05T19:00:01.130Z"
   },
   {
    "duration": 97,
    "start_time": "2024-09-05T19:00:01.684Z"
   },
   {
    "duration": 16,
    "start_time": "2024-09-05T19:00:02.266Z"
   },
   {
    "duration": 181,
    "start_time": "2024-09-05T19:00:02.468Z"
   },
   {
    "duration": 8,
    "start_time": "2024-09-05T19:00:03.022Z"
   },
   {
    "duration": 103,
    "start_time": "2024-09-05T19:00:03.282Z"
   },
   {
    "duration": 6,
    "start_time": "2024-09-05T19:00:04.296Z"
   },
   {
    "duration": 194,
    "start_time": "2024-09-05T19:00:04.486Z"
   },
   {
    "duration": 9,
    "start_time": "2024-09-05T19:00:05.079Z"
   },
   {
    "duration": 6,
    "start_time": "2024-09-05T19:00:05.465Z"
   },
   {
    "duration": 193,
    "start_time": "2024-09-05T19:00:05.648Z"
   },
   {
    "duration": 11,
    "start_time": "2024-09-05T19:00:06.850Z"
   },
   {
    "duration": 20,
    "start_time": "2024-09-05T19:00:07.052Z"
   },
   {
    "duration": 4,
    "start_time": "2024-09-05T19:00:07.216Z"
   },
   {
    "duration": 3,
    "start_time": "2024-09-05T19:00:07.408Z"
   },
   {
    "duration": 4,
    "start_time": "2024-09-05T19:00:07.591Z"
   },
   {
    "duration": 4,
    "start_time": "2024-09-05T19:00:07.794Z"
   },
   {
    "duration": 4,
    "start_time": "2024-09-05T19:00:07.994Z"
   },
   {
    "duration": 19,
    "start_time": "2024-09-05T19:00:08.664Z"
   },
   {
    "duration": 17,
    "start_time": "2024-09-05T19:00:12.884Z"
   },
   {
    "duration": 392,
    "start_time": "2024-09-05T19:00:23.173Z"
   },
   {
    "duration": 446,
    "start_time": "2024-09-05T19:00:30.342Z"
   },
   {
    "duration": 12,
    "start_time": "2024-09-05T19:00:38.734Z"
   },
   {
    "duration": 4,
    "start_time": "2024-09-05T19:00:39.358Z"
   },
   {
    "duration": 13,
    "start_time": "2024-09-05T19:00:40.076Z"
   },
   {
    "duration": 36,
    "start_time": "2024-09-05T19:00:42.115Z"
   },
   {
    "duration": 14,
    "start_time": "2024-09-05T19:00:44.493Z"
   },
   {
    "duration": 5,
    "start_time": "2024-09-05T19:00:49.178Z"
   },
   {
    "duration": 5,
    "start_time": "2024-09-05T19:00:51.292Z"
   },
   {
    "duration": 9,
    "start_time": "2024-09-05T19:00:57.340Z"
   },
   {
    "duration": 5,
    "start_time": "2024-09-05T19:00:58.044Z"
   },
   {
    "duration": 1189,
    "start_time": "2024-09-05T19:09:13.486Z"
   },
   {
    "duration": 69,
    "start_time": "2024-09-05T19:09:14.676Z"
   },
   {
    "duration": 13,
    "start_time": "2024-09-05T19:09:14.747Z"
   },
   {
    "duration": 16,
    "start_time": "2024-09-05T19:09:14.762Z"
   },
   {
    "duration": 9,
    "start_time": "2024-09-05T19:09:14.779Z"
   },
   {
    "duration": 12,
    "start_time": "2024-09-05T19:09:14.789Z"
   },
   {
    "duration": 11,
    "start_time": "2024-09-05T19:09:14.803Z"
   },
   {
    "duration": 10,
    "start_time": "2024-09-05T19:09:14.815Z"
   },
   {
    "duration": 14,
    "start_time": "2024-09-05T19:09:14.826Z"
   },
   {
    "duration": 27,
    "start_time": "2024-09-05T19:09:14.843Z"
   },
   {
    "duration": 39,
    "start_time": "2024-09-05T19:09:14.872Z"
   },
   {
    "duration": 20,
    "start_time": "2024-09-05T19:09:14.912Z"
   },
   {
    "duration": 21,
    "start_time": "2024-09-05T19:09:14.934Z"
   },
   {
    "duration": 23,
    "start_time": "2024-09-05T19:09:14.956Z"
   },
   {
    "duration": 12,
    "start_time": "2024-09-05T19:09:14.981Z"
   },
   {
    "duration": 55,
    "start_time": "2024-09-05T19:09:14.995Z"
   },
   {
    "duration": 93,
    "start_time": "2024-09-05T19:09:15.051Z"
   },
   {
    "duration": 64,
    "start_time": "2024-09-05T19:09:15.146Z"
   },
   {
    "duration": 26,
    "start_time": "2024-09-05T19:09:15.212Z"
   },
   {
    "duration": 49,
    "start_time": "2024-09-05T19:09:15.240Z"
   },
   {
    "duration": 16,
    "start_time": "2024-09-05T19:09:15.290Z"
   },
   {
    "duration": 18,
    "start_time": "2024-09-05T19:09:15.308Z"
   },
   {
    "duration": 41,
    "start_time": "2024-09-05T19:09:15.327Z"
   },
   {
    "duration": 31,
    "start_time": "2024-09-05T19:09:15.370Z"
   },
   {
    "duration": 21,
    "start_time": "2024-09-05T19:09:15.402Z"
   },
   {
    "duration": 31,
    "start_time": "2024-09-05T19:09:15.424Z"
   },
   {
    "duration": 186,
    "start_time": "2024-09-05T19:09:15.456Z"
   },
   {
    "duration": 13,
    "start_time": "2024-09-05T19:09:15.645Z"
   },
   {
    "duration": 136,
    "start_time": "2024-09-05T19:09:15.659Z"
   },
   {
    "duration": 15,
    "start_time": "2024-09-05T19:09:15.797Z"
   },
   {
    "duration": 165,
    "start_time": "2024-09-05T19:09:15.813Z"
   },
   {
    "duration": 10,
    "start_time": "2024-09-05T19:09:15.980Z"
   },
   {
    "duration": 122,
    "start_time": "2024-09-05T19:09:16.004Z"
   },
   {
    "duration": 7,
    "start_time": "2024-09-05T19:09:16.128Z"
   },
   {
    "duration": 213,
    "start_time": "2024-09-05T19:09:16.137Z"
   },
   {
    "duration": 9,
    "start_time": "2024-09-05T19:09:16.352Z"
   },
   {
    "duration": 6,
    "start_time": "2024-09-05T19:09:16.362Z"
   },
   {
    "duration": 219,
    "start_time": "2024-09-05T19:09:16.369Z"
   },
   {
    "duration": 19,
    "start_time": "2024-09-05T19:09:16.589Z"
   },
   {
    "duration": 18,
    "start_time": "2024-09-05T19:09:16.610Z"
   },
   {
    "duration": 6,
    "start_time": "2024-09-05T19:09:16.629Z"
   },
   {
    "duration": 20,
    "start_time": "2024-09-05T19:09:16.636Z"
   },
   {
    "duration": 33,
    "start_time": "2024-09-05T19:09:16.658Z"
   },
   {
    "duration": 4,
    "start_time": "2024-09-05T19:09:16.693Z"
   },
   {
    "duration": 8,
    "start_time": "2024-09-05T19:09:16.698Z"
   },
   {
    "duration": 18,
    "start_time": "2024-09-05T19:09:16.707Z"
   },
   {
    "duration": 14,
    "start_time": "2024-09-05T19:09:16.727Z"
   },
   {
    "duration": 447,
    "start_time": "2024-09-05T19:09:16.742Z"
   },
   {
    "duration": 442,
    "start_time": "2024-09-05T19:09:17.191Z"
   },
   {
    "duration": 11,
    "start_time": "2024-09-05T19:09:17.634Z"
   },
   {
    "duration": 63,
    "start_time": "2024-09-05T19:09:17.647Z"
   },
   {
    "duration": 32,
    "start_time": "2024-09-05T19:09:17.711Z"
   },
   {
    "duration": 41,
    "start_time": "2024-09-05T19:09:17.744Z"
   },
   {
    "duration": 13,
    "start_time": "2024-09-05T19:09:17.787Z"
   },
   {
    "duration": 7,
    "start_time": "2024-09-05T19:09:17.801Z"
   },
   {
    "duration": 12,
    "start_time": "2024-09-05T19:09:17.810Z"
   },
   {
    "duration": 12,
    "start_time": "2024-09-05T19:09:17.824Z"
   },
   {
    "duration": 7,
    "start_time": "2024-09-05T19:09:17.837Z"
   },
   {
    "duration": 1234,
    "start_time": "2024-09-05T19:22:54.271Z"
   },
   {
    "duration": 70,
    "start_time": "2024-09-05T19:22:55.507Z"
   },
   {
    "duration": 14,
    "start_time": "2024-09-05T19:22:55.578Z"
   },
   {
    "duration": 8,
    "start_time": "2024-09-05T19:22:55.595Z"
   },
   {
    "duration": 24,
    "start_time": "2024-09-05T19:22:55.606Z"
   },
   {
    "duration": 34,
    "start_time": "2024-09-05T19:22:55.631Z"
   },
   {
    "duration": 62,
    "start_time": "2024-09-05T19:22:55.667Z"
   },
   {
    "duration": 10,
    "start_time": "2024-09-05T19:22:55.730Z"
   },
   {
    "duration": 20,
    "start_time": "2024-09-05T19:22:55.742Z"
   },
   {
    "duration": 22,
    "start_time": "2024-09-05T19:22:55.765Z"
   },
   {
    "duration": 24,
    "start_time": "2024-09-05T19:22:55.789Z"
   },
   {
    "duration": 7,
    "start_time": "2024-09-05T19:22:55.815Z"
   },
   {
    "duration": 17,
    "start_time": "2024-09-05T19:22:55.824Z"
   },
   {
    "duration": 4,
    "start_time": "2024-09-05T19:22:55.843Z"
   },
   {
    "duration": 11,
    "start_time": "2024-09-05T19:22:55.849Z"
   },
   {
    "duration": 13,
    "start_time": "2024-09-05T19:22:55.862Z"
   },
   {
    "duration": 7,
    "start_time": "2024-09-05T19:22:55.876Z"
   },
   {
    "duration": 24,
    "start_time": "2024-09-05T19:22:55.885Z"
   },
   {
    "duration": 13,
    "start_time": "2024-09-05T19:22:55.910Z"
   },
   {
    "duration": 9,
    "start_time": "2024-09-05T19:22:55.925Z"
   },
   {
    "duration": 5,
    "start_time": "2024-09-05T19:22:55.935Z"
   },
   {
    "duration": 11,
    "start_time": "2024-09-05T19:22:55.941Z"
   },
   {
    "duration": 5,
    "start_time": "2024-09-05T19:22:55.954Z"
   },
   {
    "duration": 6,
    "start_time": "2024-09-05T19:22:55.961Z"
   },
   {
    "duration": 12,
    "start_time": "2024-09-05T19:22:55.968Z"
   },
   {
    "duration": 35,
    "start_time": "2024-09-05T19:22:55.982Z"
   },
   {
    "duration": 219,
    "start_time": "2024-09-05T19:22:56.019Z"
   },
   {
    "duration": 13,
    "start_time": "2024-09-05T19:22:56.242Z"
   },
   {
    "duration": 107,
    "start_time": "2024-09-05T19:22:56.256Z"
   },
   {
    "duration": 14,
    "start_time": "2024-09-05T19:22:56.364Z"
   },
   {
    "duration": 167,
    "start_time": "2024-09-05T19:22:56.379Z"
   },
   {
    "duration": 10,
    "start_time": "2024-09-05T19:22:56.548Z"
   },
   {
    "duration": 122,
    "start_time": "2024-09-05T19:22:56.560Z"
   },
   {
    "duration": 8,
    "start_time": "2024-09-05T19:22:56.684Z"
   },
   {
    "duration": 220,
    "start_time": "2024-09-05T19:22:56.706Z"
   },
   {
    "duration": 9,
    "start_time": "2024-09-05T19:22:56.928Z"
   },
   {
    "duration": 14,
    "start_time": "2024-09-05T19:22:56.939Z"
   },
   {
    "duration": 200,
    "start_time": "2024-09-05T19:22:56.955Z"
   },
   {
    "duration": 10,
    "start_time": "2024-09-05T19:22:57.157Z"
   },
   {
    "duration": 36,
    "start_time": "2024-09-05T19:22:57.168Z"
   },
   {
    "duration": 4,
    "start_time": "2024-09-05T19:22:57.206Z"
   },
   {
    "duration": 6,
    "start_time": "2024-09-05T19:22:57.211Z"
   },
   {
    "duration": 19,
    "start_time": "2024-09-05T19:22:57.219Z"
   },
   {
    "duration": 5,
    "start_time": "2024-09-05T19:22:57.239Z"
   },
   {
    "duration": 4,
    "start_time": "2024-09-05T19:22:57.245Z"
   },
   {
    "duration": 19,
    "start_time": "2024-09-05T19:22:57.251Z"
   },
   {
    "duration": 15,
    "start_time": "2024-09-05T19:22:57.272Z"
   },
   {
    "duration": 378,
    "start_time": "2024-09-05T19:22:57.306Z"
   },
   {
    "duration": 454,
    "start_time": "2024-09-05T19:22:57.686Z"
   },
   {
    "duration": 12,
    "start_time": "2024-09-05T19:22:58.142Z"
   },
   {
    "duration": 3,
    "start_time": "2024-09-05T19:22:58.156Z"
   },
   {
    "duration": 24,
    "start_time": "2024-09-05T19:22:58.161Z"
   },
   {
    "duration": 48,
    "start_time": "2024-09-05T19:22:58.187Z"
   },
   {
    "duration": 14,
    "start_time": "2024-09-05T19:22:58.237Z"
   },
   {
    "duration": 6,
    "start_time": "2024-09-05T19:22:58.253Z"
   },
   {
    "duration": 6,
    "start_time": "2024-09-05T19:22:58.260Z"
   },
   {
    "duration": 13,
    "start_time": "2024-09-05T19:22:58.267Z"
   },
   {
    "duration": 26,
    "start_time": "2024-09-05T19:22:58.282Z"
   },
   {
    "duration": 1160,
    "start_time": "2024-09-06T01:00:36.548Z"
   },
   {
    "duration": 73,
    "start_time": "2024-09-06T01:00:37.710Z"
   },
   {
    "duration": 14,
    "start_time": "2024-09-06T01:00:37.784Z"
   },
   {
    "duration": 9,
    "start_time": "2024-09-06T01:00:37.800Z"
   },
   {
    "duration": 16,
    "start_time": "2024-09-06T01:00:37.810Z"
   },
   {
    "duration": 22,
    "start_time": "2024-09-06T01:00:37.827Z"
   },
   {
    "duration": 33,
    "start_time": "2024-09-06T01:00:37.851Z"
   },
   {
    "duration": 13,
    "start_time": "2024-09-06T01:00:37.886Z"
   },
   {
    "duration": 20,
    "start_time": "2024-09-06T01:00:37.900Z"
   },
   {
    "duration": 27,
    "start_time": "2024-09-06T01:00:37.923Z"
   },
   {
    "duration": 16,
    "start_time": "2024-09-06T01:00:37.951Z"
   },
   {
    "duration": 30,
    "start_time": "2024-09-06T01:00:37.969Z"
   },
   {
    "duration": 16,
    "start_time": "2024-09-06T01:00:38.001Z"
   },
   {
    "duration": 18,
    "start_time": "2024-09-06T01:00:38.019Z"
   },
   {
    "duration": 9,
    "start_time": "2024-09-06T01:00:38.039Z"
   },
   {
    "duration": 41,
    "start_time": "2024-09-06T01:00:38.050Z"
   },
   {
    "duration": 14,
    "start_time": "2024-09-06T01:00:38.092Z"
   },
   {
    "duration": 29,
    "start_time": "2024-09-06T01:00:38.108Z"
   },
   {
    "duration": 56,
    "start_time": "2024-09-06T01:00:38.139Z"
   },
   {
    "duration": 21,
    "start_time": "2024-09-06T01:00:38.197Z"
   },
   {
    "duration": 13,
    "start_time": "2024-09-06T01:00:38.219Z"
   },
   {
    "duration": 9,
    "start_time": "2024-09-06T01:00:38.234Z"
   },
   {
    "duration": 3,
    "start_time": "2024-09-06T01:00:38.245Z"
   },
   {
    "duration": 5,
    "start_time": "2024-09-06T01:00:38.249Z"
   },
   {
    "duration": 18,
    "start_time": "2024-09-06T01:00:38.255Z"
   },
   {
    "duration": 17,
    "start_time": "2024-09-06T01:00:38.274Z"
   },
   {
    "duration": 186,
    "start_time": "2024-09-06T01:00:38.293Z"
   },
   {
    "duration": 13,
    "start_time": "2024-09-06T01:00:38.482Z"
   },
   {
    "duration": 101,
    "start_time": "2024-09-06T01:00:38.496Z"
   },
   {
    "duration": 14,
    "start_time": "2024-09-06T01:00:38.598Z"
   },
   {
    "duration": 169,
    "start_time": "2024-09-06T01:00:38.613Z"
   },
   {
    "duration": 8,
    "start_time": "2024-09-06T01:00:38.784Z"
   },
   {
    "duration": 114,
    "start_time": "2024-09-06T01:00:38.793Z"
   },
   {
    "duration": 6,
    "start_time": "2024-09-06T01:00:38.909Z"
   },
   {
    "duration": 201,
    "start_time": "2024-09-06T01:00:38.916Z"
   },
   {
    "duration": 7,
    "start_time": "2024-09-06T01:00:39.119Z"
   },
   {
    "duration": 105,
    "start_time": "2024-09-06T01:00:39.128Z"
   },
   {
    "duration": 185,
    "start_time": "2024-09-06T01:00:39.235Z"
   },
   {
    "duration": 11,
    "start_time": "2024-09-06T01:00:39.422Z"
   },
   {
    "duration": 30,
    "start_time": "2024-09-06T01:00:39.434Z"
   },
   {
    "duration": 125,
    "start_time": "2024-09-06T01:00:39.465Z"
   },
   {
    "duration": 10,
    "start_time": "2024-09-06T01:00:39.591Z"
   },
   {
    "duration": 11,
    "start_time": "2024-09-06T01:00:39.602Z"
   },
   {
    "duration": 5,
    "start_time": "2024-09-06T01:00:39.614Z"
   },
   {
    "duration": 10,
    "start_time": "2024-09-06T01:00:39.620Z"
   },
   {
    "duration": 25,
    "start_time": "2024-09-06T01:00:39.631Z"
   },
   {
    "duration": 15,
    "start_time": "2024-09-06T01:00:39.657Z"
   },
   {
    "duration": 372,
    "start_time": "2024-09-06T01:00:39.674Z"
   },
   {
    "duration": 434,
    "start_time": "2024-09-06T01:00:40.048Z"
   },
   {
    "duration": 12,
    "start_time": "2024-09-06T01:00:40.483Z"
   },
   {
    "duration": 7,
    "start_time": "2024-09-06T01:00:40.496Z"
   },
   {
    "duration": 16,
    "start_time": "2024-09-06T01:00:40.504Z"
   },
   {
    "duration": 55,
    "start_time": "2024-09-06T01:00:40.522Z"
   },
   {
    "duration": 14,
    "start_time": "2024-09-06T01:00:40.578Z"
   },
   {
    "duration": 29,
    "start_time": "2024-09-06T01:00:40.594Z"
   },
   {
    "duration": 12,
    "start_time": "2024-09-06T01:00:40.625Z"
   },
   {
    "duration": 10,
    "start_time": "2024-09-06T01:00:40.639Z"
   },
   {
    "duration": 6,
    "start_time": "2024-09-06T01:00:40.651Z"
   },
   {
    "duration": 6,
    "start_time": "2024-09-06T01:03:04.712Z"
   },
   {
    "duration": 100,
    "start_time": "2024-09-06T01:03:12.775Z"
   },
   {
    "duration": 6,
    "start_time": "2024-09-06T01:03:17.411Z"
   },
   {
    "duration": 6,
    "start_time": "2024-09-06T01:03:25.221Z"
   },
   {
    "duration": 1040,
    "start_time": "2024-09-08T18:07:41.667Z"
   },
   {
    "duration": 390,
    "start_time": "2024-09-08T18:07:42.709Z"
   },
   {
    "duration": 13,
    "start_time": "2024-09-08T18:07:43.101Z"
   },
   {
    "duration": 8,
    "start_time": "2024-09-08T18:07:43.117Z"
   },
   {
    "duration": 7,
    "start_time": "2024-09-08T18:07:43.127Z"
   },
   {
    "duration": 21,
    "start_time": "2024-09-08T18:07:43.135Z"
   },
   {
    "duration": 46,
    "start_time": "2024-09-08T18:07:43.157Z"
   },
   {
    "duration": 10,
    "start_time": "2024-09-08T18:07:43.204Z"
   },
   {
    "duration": 14,
    "start_time": "2024-09-08T18:07:43.215Z"
   },
   {
    "duration": 28,
    "start_time": "2024-09-08T18:07:43.231Z"
   },
   {
    "duration": 32,
    "start_time": "2024-09-08T18:07:43.260Z"
   },
   {
    "duration": 31,
    "start_time": "2024-09-08T18:07:43.294Z"
   },
   {
    "duration": 23,
    "start_time": "2024-09-08T18:07:43.326Z"
   },
   {
    "duration": 23,
    "start_time": "2024-09-08T18:07:43.350Z"
   },
   {
    "duration": 14,
    "start_time": "2024-09-08T18:07:43.374Z"
   },
   {
    "duration": 10,
    "start_time": "2024-09-08T18:07:43.389Z"
   },
   {
    "duration": 23,
    "start_time": "2024-09-08T18:07:43.400Z"
   },
   {
    "duration": 36,
    "start_time": "2024-09-08T18:07:43.424Z"
   },
   {
    "duration": 21,
    "start_time": "2024-09-08T18:07:43.461Z"
   },
   {
    "duration": 29,
    "start_time": "2024-09-08T18:07:43.483Z"
   },
   {
    "duration": 11,
    "start_time": "2024-09-08T18:07:43.513Z"
   },
   {
    "duration": 8,
    "start_time": "2024-09-08T18:07:43.525Z"
   },
   {
    "duration": 6,
    "start_time": "2024-09-08T18:07:43.534Z"
   },
   {
    "duration": 3,
    "start_time": "2024-09-08T18:07:43.541Z"
   },
   {
    "duration": 6,
    "start_time": "2024-09-08T18:07:43.545Z"
   },
   {
    "duration": 27,
    "start_time": "2024-09-08T18:07:43.552Z"
   },
   {
    "duration": 22,
    "start_time": "2024-09-08T18:07:43.580Z"
   },
   {
    "duration": 219,
    "start_time": "2024-09-08T18:07:43.605Z"
   },
   {
    "duration": 12,
    "start_time": "2024-09-08T18:07:43.826Z"
   },
   {
    "duration": 48,
    "start_time": "2024-09-08T18:07:43.839Z"
   },
   {
    "duration": 0,
    "start_time": "2024-09-08T18:07:43.889Z"
   },
   {
    "duration": 0,
    "start_time": "2024-09-08T18:07:43.890Z"
   },
   {
    "duration": 0,
    "start_time": "2024-09-08T18:07:43.891Z"
   },
   {
    "duration": 0,
    "start_time": "2024-09-08T18:07:43.892Z"
   },
   {
    "duration": 0,
    "start_time": "2024-09-08T18:07:43.893Z"
   },
   {
    "duration": 0,
    "start_time": "2024-09-08T18:07:43.894Z"
   },
   {
    "duration": 0,
    "start_time": "2024-09-08T18:07:43.894Z"
   },
   {
    "duration": 0,
    "start_time": "2024-09-08T18:07:43.895Z"
   },
   {
    "duration": 0,
    "start_time": "2024-09-08T18:07:43.896Z"
   },
   {
    "duration": 0,
    "start_time": "2024-09-08T18:07:43.897Z"
   },
   {
    "duration": 0,
    "start_time": "2024-09-08T18:07:43.898Z"
   },
   {
    "duration": 0,
    "start_time": "2024-09-08T18:07:43.899Z"
   },
   {
    "duration": 0,
    "start_time": "2024-09-08T18:07:43.900Z"
   },
   {
    "duration": 0,
    "start_time": "2024-09-08T18:07:43.901Z"
   },
   {
    "duration": 0,
    "start_time": "2024-09-08T18:07:43.902Z"
   },
   {
    "duration": 0,
    "start_time": "2024-09-08T18:07:43.903Z"
   },
   {
    "duration": 0,
    "start_time": "2024-09-08T18:07:43.904Z"
   },
   {
    "duration": 0,
    "start_time": "2024-09-08T18:07:43.905Z"
   },
   {
    "duration": 0,
    "start_time": "2024-09-08T18:07:43.906Z"
   },
   {
    "duration": 0,
    "start_time": "2024-09-08T18:07:43.907Z"
   },
   {
    "duration": 0,
    "start_time": "2024-09-08T18:07:43.908Z"
   },
   {
    "duration": 0,
    "start_time": "2024-09-08T18:07:43.909Z"
   },
   {
    "duration": 0,
    "start_time": "2024-09-08T18:07:43.910Z"
   },
   {
    "duration": 0,
    "start_time": "2024-09-08T18:07:43.911Z"
   },
   {
    "duration": 0,
    "start_time": "2024-09-08T18:07:43.912Z"
   },
   {
    "duration": 0,
    "start_time": "2024-09-08T18:07:43.913Z"
   },
   {
    "duration": 0,
    "start_time": "2024-09-08T18:07:43.914Z"
   },
   {
    "duration": 0,
    "start_time": "2024-09-08T18:07:43.915Z"
   },
   {
    "duration": 0,
    "start_time": "2024-09-08T18:07:43.916Z"
   },
   {
    "duration": 85,
    "start_time": "2024-09-08T18:08:10.654Z"
   },
   {
    "duration": 91,
    "start_time": "2024-09-08T18:08:24.812Z"
   },
   {
    "duration": 86,
    "start_time": "2024-09-08T18:08:37.929Z"
   },
   {
    "duration": 165,
    "start_time": "2024-09-08T18:09:27.042Z"
   },
   {
    "duration": 181,
    "start_time": "2024-09-08T18:09:41.720Z"
   },
   {
    "duration": 154,
    "start_time": "2024-09-08T18:09:48.620Z"
   },
   {
    "duration": 171,
    "start_time": "2024-09-08T18:09:56.028Z"
   },
   {
    "duration": 204,
    "start_time": "2024-09-08T18:10:02.809Z"
   },
   {
    "duration": 238,
    "start_time": "2024-09-08T18:10:10.816Z"
   },
   {
    "duration": 162,
    "start_time": "2024-09-08T18:10:23.691Z"
   },
   {
    "duration": 13,
    "start_time": "2024-09-08T18:10:45.508Z"
   },
   {
    "duration": 147,
    "start_time": "2024-09-08T18:10:55.866Z"
   },
   {
    "duration": 175,
    "start_time": "2024-09-08T18:11:37.441Z"
   },
   {
    "duration": 168,
    "start_time": "2024-09-08T18:12:11.864Z"
   },
   {
    "duration": 9,
    "start_time": "2024-09-08T18:12:18.495Z"
   },
   {
    "duration": 92,
    "start_time": "2024-09-08T18:12:23.554Z"
   },
   {
    "duration": 5,
    "start_time": "2024-09-08T18:12:27.240Z"
   },
   {
    "duration": 183,
    "start_time": "2024-09-08T18:12:29.970Z"
   },
   {
    "duration": 210,
    "start_time": "2024-09-08T18:14:03.076Z"
   },
   {
    "duration": 228,
    "start_time": "2024-09-08T18:14:22.676Z"
   },
   {
    "duration": 93,
    "start_time": "2024-09-08T18:14:30.986Z"
   },
   {
    "duration": 3,
    "start_time": "2024-09-08T18:14:36.294Z"
   },
   {
    "duration": 77,
    "start_time": "2024-09-08T18:14:36.300Z"
   },
   {
    "duration": 8,
    "start_time": "2024-09-08T18:14:36.378Z"
   },
   {
    "duration": 18,
    "start_time": "2024-09-08T18:14:36.387Z"
   },
   {
    "duration": 10,
    "start_time": "2024-09-08T18:14:36.407Z"
   },
   {
    "duration": 14,
    "start_time": "2024-09-08T18:14:36.418Z"
   },
   {
    "duration": 11,
    "start_time": "2024-09-08T18:14:36.434Z"
   },
   {
    "duration": 26,
    "start_time": "2024-09-08T18:14:36.447Z"
   },
   {
    "duration": 18,
    "start_time": "2024-09-08T18:14:36.475Z"
   },
   {
    "duration": 21,
    "start_time": "2024-09-08T18:14:36.495Z"
   },
   {
    "duration": 15,
    "start_time": "2024-09-08T18:14:36.518Z"
   },
   {
    "duration": 8,
    "start_time": "2024-09-08T18:14:36.534Z"
   },
   {
    "duration": 9,
    "start_time": "2024-09-08T18:14:36.543Z"
   },
   {
    "duration": 4,
    "start_time": "2024-09-08T18:14:36.554Z"
   },
   {
    "duration": 4,
    "start_time": "2024-09-08T18:14:36.560Z"
   },
   {
    "duration": 8,
    "start_time": "2024-09-08T18:14:36.566Z"
   },
   {
    "duration": 35,
    "start_time": "2024-09-08T18:14:36.576Z"
   },
   {
    "duration": 6,
    "start_time": "2024-09-08T18:14:36.612Z"
   },
   {
    "duration": 6,
    "start_time": "2024-09-08T18:14:36.619Z"
   },
   {
    "duration": 8,
    "start_time": "2024-09-08T18:14:36.626Z"
   },
   {
    "duration": 9,
    "start_time": "2024-09-08T18:14:36.635Z"
   },
   {
    "duration": 13,
    "start_time": "2024-09-08T18:14:36.645Z"
   },
   {
    "duration": 16,
    "start_time": "2024-09-08T18:14:36.660Z"
   },
   {
    "duration": 5,
    "start_time": "2024-09-08T18:14:36.678Z"
   },
   {
    "duration": 26,
    "start_time": "2024-09-08T18:14:36.684Z"
   },
   {
    "duration": 8,
    "start_time": "2024-09-08T18:14:36.712Z"
   },
   {
    "duration": 18,
    "start_time": "2024-09-08T18:14:36.721Z"
   },
   {
    "duration": 191,
    "start_time": "2024-09-08T18:14:36.741Z"
   },
   {
    "duration": 12,
    "start_time": "2024-09-08T18:14:36.936Z"
   },
   {
    "duration": 110,
    "start_time": "2024-09-08T18:14:36.949Z"
   },
   {
    "duration": 13,
    "start_time": "2024-09-08T18:14:37.060Z"
   },
   {
    "duration": 305,
    "start_time": "2024-09-08T18:14:37.075Z"
   },
   {
    "duration": 9,
    "start_time": "2024-09-08T18:14:37.381Z"
   },
   {
    "duration": 116,
    "start_time": "2024-09-08T18:14:37.392Z"
   },
   {
    "duration": 7,
    "start_time": "2024-09-08T18:14:37.510Z"
   },
   {
    "duration": 241,
    "start_time": "2024-09-08T18:14:37.518Z"
   },
   {
    "duration": 9,
    "start_time": "2024-09-08T18:14:37.761Z"
   },
   {
    "duration": 22,
    "start_time": "2024-09-08T18:14:37.772Z"
   },
   {
    "duration": 227,
    "start_time": "2024-09-08T18:14:37.796Z"
   },
   {
    "duration": 10,
    "start_time": "2024-09-08T18:14:38.025Z"
   },
   {
    "duration": 18,
    "start_time": "2024-09-08T18:14:38.036Z"
   },
   {
    "duration": 7,
    "start_time": "2024-09-08T18:14:38.056Z"
   },
   {
    "duration": 4,
    "start_time": "2024-09-08T18:14:38.064Z"
   },
   {
    "duration": 4,
    "start_time": "2024-09-08T18:14:38.070Z"
   },
   {
    "duration": 33,
    "start_time": "2024-09-08T18:14:38.076Z"
   },
   {
    "duration": 4,
    "start_time": "2024-09-08T18:14:38.111Z"
   },
   {
    "duration": 18,
    "start_time": "2024-09-08T18:14:38.117Z"
   },
   {
    "duration": 15,
    "start_time": "2024-09-08T18:14:38.136Z"
   },
   {
    "duration": 380,
    "start_time": "2024-09-08T18:14:38.152Z"
   },
   {
    "duration": 343,
    "start_time": "2024-09-08T18:14:38.534Z"
   },
   {
    "duration": 11,
    "start_time": "2024-09-08T18:14:38.878Z"
   },
   {
    "duration": 27,
    "start_time": "2024-09-08T18:14:38.891Z"
   },
   {
    "duration": 23,
    "start_time": "2024-09-08T18:14:38.920Z"
   },
   {
    "duration": 60,
    "start_time": "2024-09-08T18:14:38.945Z"
   },
   {
    "duration": 14,
    "start_time": "2024-09-08T18:14:39.007Z"
   },
   {
    "duration": 14,
    "start_time": "2024-09-08T18:14:39.023Z"
   },
   {
    "duration": 21,
    "start_time": "2024-09-08T18:14:39.039Z"
   },
   {
    "duration": 20,
    "start_time": "2024-09-08T18:14:39.061Z"
   },
   {
    "duration": 21,
    "start_time": "2024-09-08T18:14:39.083Z"
   }
  ],
  "kernelspec": {
   "display_name": "Python 3 (ipykernel)",
   "language": "python",
   "name": "python3"
  },
  "language_info": {
   "codemirror_mode": {
    "name": "ipython",
    "version": 3
   },
   "file_extension": ".py",
   "mimetype": "text/x-python",
   "name": "python",
   "nbconvert_exporter": "python",
   "pygments_lexer": "ipython3",
   "version": "3.9.5"
  },
  "toc": {
   "base_numbering": 1,
   "nav_menu": {},
   "number_sections": true,
   "sideBar": true,
   "skip_h1_title": true,
   "title_cell": "Table of Contents",
   "title_sidebar": "Contents",
   "toc_cell": false,
   "toc_position": {},
   "toc_section_display": true,
   "toc_window_display": false
  }
 },
 "nbformat": 4,
 "nbformat_minor": 5
}
